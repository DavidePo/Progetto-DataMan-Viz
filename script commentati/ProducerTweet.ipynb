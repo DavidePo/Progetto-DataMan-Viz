{
 "cells": [
  {
   "cell_type": "code",
   "execution_count": 1,
   "metadata": {},
   "outputs": [],
   "source": [
    "#importare libreria per recuperare tweet vecchi\n",
    "import GetOldTweets3 as got"
   ]
  },
  {
   "cell_type": "code",
   "execution_count": 2,
   "metadata": {},
   "outputs": [
    {
     "name": "stdout",
     "output_type": "stream",
     "text": [
      "Amsterdam\n",
      "52.22 , 4.53\n",
      "Athens\n",
      "37.58 , 23.42\n",
      "Barcelona\n",
      "41.22 , 2.10\n",
      "Berlin\n",
      "52.30  , 13.25\n",
      "Bratislava\n",
      "48.09 , 17.07\n",
      "Brussels\n",
      "50.50 , 4.20\n",
      "Budapest\n",
      "47.3 , 19.05\n",
      "Copenhagen\n",
      "55.4 , 12.35\n",
      "Dublin\n",
      "53.20 , 6.15\n",
      "Edinburgh\n",
      "55.57 , -3.11\n",
      "Geneva\n",
      "46.12 , 6.09\n",
      "Hamburg\n",
      "53.34 , 10.0\n",
      "Helsinki\n",
      "60.10 , 24.58\n",
      "Krakow\n",
      "50.3 , 19.56\n",
      "Lisbon\n",
      "38.43 , 9.08\n",
      "Ljubljana\n",
      "46.03 , 14.31\n",
      "London\n",
      "51.3 , 0.10\n",
      "Luxembourg\n",
      "49.45 , 6.05\n",
      "Lyon\n",
      "45.46 , 4.50\n",
      "Madrid\n",
      "40.24, 3.41\n",
      "Milan\n",
      "45.28, 9.10\n",
      "Munich\n",
      "48.08 , 11.34 \n",
      "Oporto\n",
      "41.09 , 8.38\n",
      "Oslo\n",
      "59.55 , 10.45\n",
      "Paris\n",
      "48.52 , 2.20\n",
      "Prague\n",
      "50.05 , 14.26\n",
      "Rome\n",
      "41.54 , 12.29\n",
      "Stockholm\n",
      " 59.20 , 18.03\n",
      "Vienna\n",
      "48.13 , 16.20\n",
      "Warsaw\n",
      "52.13 , 21.00\n",
      "Zurich\n",
      "47.22 , 8.32\n"
     ]
    }
   ],
   "source": [
    "#creazione della lista delle città con le rispettive coordinate necessarie per recuperare tweet geolocalizzati\n",
    "lista_citta = {\"Amsterdam\" : \"52.22 , 4.53\", \"Athens\" : \"37.58 , 23.42\" , \"Barcelona\" :\"41.22 , 2.10\" , \"Berlin\" : \"52.30  , 13.25\" ,\n",
    "       \"Bratislava\" : \"48.09 , 17.07\",  \"Brussels\"  : \"50.50 , 4.20\" , \"Budapest\" : \"47.3 , 19.05\" , \"Copenhagen\" : \"55.4 , 12.35\"  ,\n",
    "       \"Dublin\"  : \"53.20 , 6.15\"  , \"Edinburgh\" : \"55.57 , -3.11\"   ,  \"Geneva\"   : \"46.12 , 6.09\"  ,  \"Hamburg\" : \"53.34 , 10.0\" , \"Helsinki\" : \"60.10 , 24.58\" ,             \n",
    "       \"Krakow\" : \"50.3 , 19.56\" ,  \"Lisbon\" : \"38.43 , 9.08\" ,  \"Ljubljana\" : \"46.03 , 14.31\" ,  \"London\" : \"51.3 , 0.10\" , \"Luxembourg\" : \"49.45 , 6.05\",\n",
    "       \"Lyon\" : \"45.46 , 4.50\" , \"Madrid\" : \"40.24, 3.41\"   ,    \"Milan\" : \"45.28, 9.10\"  ,  \"Munich\" : \"48.08 , 11.34 \" ,   \n",
    "        \"Oporto\"  : \"41.09 , 8.38\"  , \"Oslo\" : \"59.55 , 10.45\" ,  \"Paris\" : \"48.52 , 2.20\" ,\n",
    "       \"Prague\"  : \"50.05 , 14.26\" ,     \"Rome\" : \"41.54 , 12.29\",\"Stockholm\" : \" 59.20 , 18.03\",\"Vienna\" : \"48.13 , 16.20\",\"Warsaw\" : \"52.13 , 21.00\",\"Zurich\" : \"47.22 , 8.32\"}\n",
    "for el in lista_citta:\n",
    "    print(el)\n",
    "    print(lista_citta[el])\n"
   ]
  },
  {
   "cell_type": "code",
   "execution_count": 7,
   "metadata": {},
   "outputs": [],
   "source": [
    "#funzione per recuperare i tweet. Simuliamo la velocità mese per mese per ottenere tutti i tweet del 2019 geolocalizzati nel raggio di 25 km\n",
    "lista_tweet = []\n",
    "\n",
    "for city in lista_citta:\n",
    "    tw_criteria = got.manager.TweetCriteria().setQuerySearch(city)\\\n",
    "                                         .setSince(\"2019-12-01\")\\\n",
    "                                         .setUntil(\"2019-12-31\")\\\n",
    "                                         .setNear(lista_citta[city])\\\n",
    "                                         .setWithin('25km')\n",
    "    lista_tweet.append(got.manager.TweetManager.getTweets(tw_criteria))"
   ]
  },
  {
   "cell_type": "code",
   "execution_count": 8,
   "metadata": {},
   "outputs": [],
   "source": [
    "#producer\n",
    "from kafka import KafkaProducer\n",
    "import json\n",
    "import time\n",
    "\n",
    "producer = KafkaProducer(\n",
    "  bootstrap_servers=[\"kafka:9092\"],\n",
    "  value_serializer=lambda v: json.dumps(v).encode(\"utf-8\"))\n",
    "\n",
    "for i in range(0,len(lista_tweet)):\n",
    "    for l in range(0,len(lista_tweet[i])):\n",
    "        producer.send(topic='test_json' , value = lista_tweet[i][l].text) #invio solo del testo dei tweet"
   ]
  },
  {
   "cell_type": "code",
   "execution_count": null,
   "metadata": {},
   "outputs": [],
   "source": []
  }
 ],
 "metadata": {
  "kernelspec": {
   "display_name": "Python 3",
   "language": "python",
   "name": "python3"
  },
  "language_info": {
   "codemirror_mode": {
    "name": "ipython",
    "version": 3
   },
   "file_extension": ".py",
   "mimetype": "text/x-python",
   "name": "python",
   "nbconvert_exporter": "python",
   "pygments_lexer": "ipython3",
   "version": "3.7.3"
  }
 },
 "nbformat": 4,
 "nbformat_minor": 4
}
