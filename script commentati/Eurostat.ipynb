{
 "cells": [
  {
   "cell_type": "code",
   "execution_count": 1,
   "metadata": {},
   "outputs": [
    {
     "data": {
      "text/html": [
       "<div>\n",
       "<style scoped>\n",
       "    .dataframe tbody tr th:only-of-type {\n",
       "        vertical-align: middle;\n",
       "    }\n",
       "\n",
       "    .dataframe tbody tr th {\n",
       "        vertical-align: top;\n",
       "    }\n",
       "\n",
       "    .dataframe thead th {\n",
       "        text-align: right;\n",
       "    }\n",
       "</style>\n",
       "<table border=\"1\" class=\"dataframe\">\n",
       "  <thead>\n",
       "    <tr style=\"text-align: right;\">\n",
       "      <th></th>\n",
       "      <th>CITIES,INDIC_UR\\TIME</th>\n",
       "      <th>1990</th>\n",
       "      <th>1991</th>\n",
       "      <th>1992</th>\n",
       "      <th>1993</th>\n",
       "      <th>1994</th>\n",
       "      <th>1995</th>\n",
       "      <th>1996</th>\n",
       "      <th>1997</th>\n",
       "      <th>1998</th>\n",
       "      <th>...</th>\n",
       "      <th>2010</th>\n",
       "      <th>2011</th>\n",
       "      <th>2012</th>\n",
       "      <th>2013</th>\n",
       "      <th>2014</th>\n",
       "      <th>2015</th>\n",
       "      <th>2016</th>\n",
       "      <th>2017</th>\n",
       "      <th>2018</th>\n",
       "      <th>2019</th>\n",
       "    </tr>\n",
       "  </thead>\n",
       "  <tbody>\n",
       "    <tr>\n",
       "      <td>0</td>\n",
       "      <td>Belgium,Average temperature of warmest month -...</td>\n",
       "      <td>:</td>\n",
       "      <td>19.00</td>\n",
       "      <td>18.40</td>\n",
       "      <td>16.70</td>\n",
       "      <td>21.80</td>\n",
       "      <td>20.90</td>\n",
       "      <td>17.30</td>\n",
       "      <td>21.20</td>\n",
       "      <td>17.40</td>\n",
       "      <td>...</td>\n",
       "      <td>:</td>\n",
       "      <td>:</td>\n",
       "      <td>:</td>\n",
       "      <td>:</td>\n",
       "      <td>:</td>\n",
       "      <td>:</td>\n",
       "      <td>:</td>\n",
       "      <td>:</td>\n",
       "      <td>:</td>\n",
       "      <td>:</td>\n",
       "    </tr>\n",
       "    <tr>\n",
       "      <td>1</td>\n",
       "      <td>Bruxelles / Brussel,Average temperature of war...</td>\n",
       "      <td>17.40</td>\n",
       "      <td>:</td>\n",
       "      <td>:</td>\n",
       "      <td>:</td>\n",
       "      <td>:</td>\n",
       "      <td>:</td>\n",
       "      <td>:</td>\n",
       "      <td>:</td>\n",
       "      <td>:</td>\n",
       "      <td>...</td>\n",
       "      <td>:</td>\n",
       "      <td>17.60</td>\n",
       "      <td>:</td>\n",
       "      <td>:</td>\n",
       "      <td>:</td>\n",
       "      <td>:</td>\n",
       "      <td>:</td>\n",
       "      <td>:</td>\n",
       "      <td>:</td>\n",
       "      <td>:</td>\n",
       "    </tr>\n",
       "    <tr>\n",
       "      <td>2</td>\n",
       "      <td>Antwerpen,Average temperature of warmest month...</td>\n",
       "      <td>17.05</td>\n",
       "      <td>:</td>\n",
       "      <td>:</td>\n",
       "      <td>:</td>\n",
       "      <td>:</td>\n",
       "      <td>:</td>\n",
       "      <td>:</td>\n",
       "      <td>:</td>\n",
       "      <td>:</td>\n",
       "      <td>...</td>\n",
       "      <td>:</td>\n",
       "      <td>17.60</td>\n",
       "      <td>:</td>\n",
       "      <td>:</td>\n",
       "      <td>:</td>\n",
       "      <td>:</td>\n",
       "      <td>:</td>\n",
       "      <td>:</td>\n",
       "      <td>:</td>\n",
       "      <td>:</td>\n",
       "    </tr>\n",
       "    <tr>\n",
       "      <td>3</td>\n",
       "      <td>Gent,Average temperature of warmest month - de...</td>\n",
       "      <td>16.75</td>\n",
       "      <td>:</td>\n",
       "      <td>:</td>\n",
       "      <td>:</td>\n",
       "      <td>:</td>\n",
       "      <td>:</td>\n",
       "      <td>:</td>\n",
       "      <td>:</td>\n",
       "      <td>:</td>\n",
       "      <td>...</td>\n",
       "      <td>:</td>\n",
       "      <td>17.20</td>\n",
       "      <td>:</td>\n",
       "      <td>:</td>\n",
       "      <td>:</td>\n",
       "      <td>:</td>\n",
       "      <td>:</td>\n",
       "      <td>:</td>\n",
       "      <td>:</td>\n",
       "      <td>:</td>\n",
       "    </tr>\n",
       "    <tr>\n",
       "      <td>4</td>\n",
       "      <td>Charleroi,Average temperature of warmest month...</td>\n",
       "      <td>16.65</td>\n",
       "      <td>:</td>\n",
       "      <td>:</td>\n",
       "      <td>:</td>\n",
       "      <td>:</td>\n",
       "      <td>:</td>\n",
       "      <td>:</td>\n",
       "      <td>:</td>\n",
       "      <td>:</td>\n",
       "      <td>...</td>\n",
       "      <td>:</td>\n",
       "      <td>17.30</td>\n",
       "      <td>:</td>\n",
       "      <td>:</td>\n",
       "      <td>:</td>\n",
       "      <td>:</td>\n",
       "      <td>:</td>\n",
       "      <td>:</td>\n",
       "      <td>:</td>\n",
       "      <td>:</td>\n",
       "    </tr>\n",
       "    <tr>\n",
       "      <td>...</td>\n",
       "      <td>...</td>\n",
       "      <td>...</td>\n",
       "      <td>...</td>\n",
       "      <td>...</td>\n",
       "      <td>...</td>\n",
       "      <td>...</td>\n",
       "      <td>...</td>\n",
       "      <td>...</td>\n",
       "      <td>...</td>\n",
       "      <td>...</td>\n",
       "      <td>...</td>\n",
       "      <td>...</td>\n",
       "      <td>...</td>\n",
       "      <td>...</td>\n",
       "      <td>...</td>\n",
       "      <td>...</td>\n",
       "      <td>...</td>\n",
       "      <td>...</td>\n",
       "      <td>...</td>\n",
       "      <td>...</td>\n",
       "      <td>...</td>\n",
       "    </tr>\n",
       "    <tr>\n",
       "      <td>5305</td>\n",
       "      <td>Luzern,Share of land (%): Green urban areas an...</td>\n",
       "      <td>:</td>\n",
       "      <td>:</td>\n",
       "      <td>:</td>\n",
       "      <td>:</td>\n",
       "      <td>:</td>\n",
       "      <td>:</td>\n",
       "      <td>:</td>\n",
       "      <td>:</td>\n",
       "      <td>:</td>\n",
       "      <td>...</td>\n",
       "      <td>:</td>\n",
       "      <td>:</td>\n",
       "      <td>6.9</td>\n",
       "      <td>:</td>\n",
       "      <td>:</td>\n",
       "      <td>:</td>\n",
       "      <td>:</td>\n",
       "      <td>:</td>\n",
       "      <td>:</td>\n",
       "      <td>:</td>\n",
       "    </tr>\n",
       "    <tr>\n",
       "      <td>5306</td>\n",
       "      <td>Luzern (greater city),Share of land (%): Green...</td>\n",
       "      <td>:</td>\n",
       "      <td>:</td>\n",
       "      <td>:</td>\n",
       "      <td>:</td>\n",
       "      <td>:</td>\n",
       "      <td>:</td>\n",
       "      <td>:</td>\n",
       "      <td>:</td>\n",
       "      <td>:</td>\n",
       "      <td>...</td>\n",
       "      <td>:</td>\n",
       "      <td>:</td>\n",
       "      <td>3.1</td>\n",
       "      <td>:</td>\n",
       "      <td>:</td>\n",
       "      <td>:</td>\n",
       "      <td>:</td>\n",
       "      <td>:</td>\n",
       "      <td>:</td>\n",
       "      <td>:</td>\n",
       "    </tr>\n",
       "    <tr>\n",
       "      <td>5307</td>\n",
       "      <td>Lugano,Share of land (%): Green urban areas an...</td>\n",
       "      <td>:</td>\n",
       "      <td>:</td>\n",
       "      <td>:</td>\n",
       "      <td>:</td>\n",
       "      <td>:</td>\n",
       "      <td>:</td>\n",
       "      <td>:</td>\n",
       "      <td>:</td>\n",
       "      <td>:</td>\n",
       "      <td>...</td>\n",
       "      <td>:</td>\n",
       "      <td>:</td>\n",
       "      <td>1.8</td>\n",
       "      <td>:</td>\n",
       "      <td>:</td>\n",
       "      <td>:</td>\n",
       "      <td>:</td>\n",
       "      <td>:</td>\n",
       "      <td>:</td>\n",
       "      <td>:</td>\n",
       "    </tr>\n",
       "    <tr>\n",
       "      <td>5308</td>\n",
       "      <td>Lugano (greater city),Share of land (%): Green...</td>\n",
       "      <td>:</td>\n",
       "      <td>:</td>\n",
       "      <td>:</td>\n",
       "      <td>:</td>\n",
       "      <td>:</td>\n",
       "      <td>:</td>\n",
       "      <td>:</td>\n",
       "      <td>:</td>\n",
       "      <td>:</td>\n",
       "      <td>...</td>\n",
       "      <td>:</td>\n",
       "      <td>:</td>\n",
       "      <td>1.7</td>\n",
       "      <td>:</td>\n",
       "      <td>:</td>\n",
       "      <td>:</td>\n",
       "      <td>:</td>\n",
       "      <td>:</td>\n",
       "      <td>:</td>\n",
       "      <td>:</td>\n",
       "    </tr>\n",
       "    <tr>\n",
       "      <td>5309</td>\n",
       "      <td>Biel/Bienne,Share of land (%): Green urban are...</td>\n",
       "      <td>:</td>\n",
       "      <td>:</td>\n",
       "      <td>:</td>\n",
       "      <td>:</td>\n",
       "      <td>:</td>\n",
       "      <td>:</td>\n",
       "      <td>:</td>\n",
       "      <td>:</td>\n",
       "      <td>:</td>\n",
       "      <td>...</td>\n",
       "      <td>:</td>\n",
       "      <td>:</td>\n",
       "      <td>3.7</td>\n",
       "      <td>:</td>\n",
       "      <td>:</td>\n",
       "      <td>:</td>\n",
       "      <td>:</td>\n",
       "      <td>:</td>\n",
       "      <td>:</td>\n",
       "      <td>:</td>\n",
       "    </tr>\n",
       "  </tbody>\n",
       "</table>\n",
       "<p>5310 rows × 31 columns</p>\n",
       "</div>"
      ],
      "text/plain": [
       "                                   CITIES,INDIC_UR\\TIME   1990   1991   1992  \\\n",
       "0     Belgium,Average temperature of warmest month -...      :  19.00  18.40   \n",
       "1     Bruxelles / Brussel,Average temperature of war...  17.40      :      :   \n",
       "2     Antwerpen,Average temperature of warmest month...  17.05      :      :   \n",
       "3     Gent,Average temperature of warmest month - de...  16.75      :      :   \n",
       "4     Charleroi,Average temperature of warmest month...  16.65      :      :   \n",
       "...                                                 ...    ...    ...    ...   \n",
       "5305  Luzern,Share of land (%): Green urban areas an...      :      :      :   \n",
       "5306  Luzern (greater city),Share of land (%): Green...      :      :      :   \n",
       "5307  Lugano,Share of land (%): Green urban areas an...      :      :      :   \n",
       "5308  Lugano (greater city),Share of land (%): Green...      :      :      :   \n",
       "5309  Biel/Bienne,Share of land (%): Green urban are...      :      :      :   \n",
       "\n",
       "       1993   1994   1995   1996   1997   1998  ... 2010   2011 2012 2013  \\\n",
       "0     16.70  21.80  20.90  17.30  21.20  17.40  ...    :      :    :    :   \n",
       "1         :      :      :      :      :      :  ...    :  17.60    :    :   \n",
       "2         :      :      :      :      :      :  ...    :  17.60    :    :   \n",
       "3         :      :      :      :      :      :  ...    :  17.20    :    :   \n",
       "4         :      :      :      :      :      :  ...    :  17.30    :    :   \n",
       "...     ...    ...    ...    ...    ...    ...  ...  ...    ...  ...  ...   \n",
       "5305      :      :      :      :      :      :  ...    :      :  6.9    :   \n",
       "5306      :      :      :      :      :      :  ...    :      :  3.1    :   \n",
       "5307      :      :      :      :      :      :  ...    :      :  1.8    :   \n",
       "5308      :      :      :      :      :      :  ...    :      :  1.7    :   \n",
       "5309      :      :      :      :      :      :  ...    :      :  3.7    :   \n",
       "\n",
       "     2014 2015 2016 2017 2018 2019  \n",
       "0       :    :    :    :    :    :  \n",
       "1       :    :    :    :    :    :  \n",
       "2       :    :    :    :    :    :  \n",
       "3       :    :    :    :    :    :  \n",
       "4       :    :    :    :    :    :  \n",
       "...   ...  ...  ...  ...  ...  ...  \n",
       "5305    :    :    :    :    :    :  \n",
       "5306    :    :    :    :    :    :  \n",
       "5307    :    :    :    :    :    :  \n",
       "5308    :    :    :    :    :    :  \n",
       "5309    :    :    :    :    :    :  \n",
       "\n",
       "[5310 rows x 31 columns]"
      ]
     },
     "execution_count": 1,
     "metadata": {},
     "output_type": "execute_result"
    }
   ],
   "source": [
    "#importare librerie necessarie\n",
    "import pandas as pd\n",
    "import numpy as np\n",
    "ambiente = pd.read_csv('ambiente.csv', sep = '\\t',\n",
    "                          encoding =\"ISO-8859-1\", thousands=',')\n",
    "ambiente"
   ]
  },
  {
   "cell_type": "code",
   "execution_count": 2,
   "metadata": {},
   "outputs": [
    {
     "data": {
      "text/plain": [
       "5291"
      ]
     },
     "execution_count": 2,
     "metadata": {},
     "output_type": "execute_result"
    }
   ],
   "source": [
    "#eliminazione duplicati\n",
    "ambiente = ambiente.drop_duplicates()\n",
    "lista_citta = ambiente['CITIES,INDIC_UR\\TIME'].str.split(',\\w')\n",
    "misurazioni = []\n",
    "city = []\n",
    "for el in lista_citta:\n",
    "    city.append(el[0])\n",
    "    misurazioni.append(el[1])\n",
    "len(misurazioni)"
   ]
  },
  {
   "cell_type": "code",
   "execution_count": 3,
   "metadata": {},
   "outputs": [
    {
     "name": "stdout",
     "output_type": "stream",
     "text": [
      "828\n",
      "829\n",
      "1885\n",
      "1886\n",
      "2942\n",
      "2943\n",
      "3999\n",
      "4000\n",
      "5059\n",
      "5060\n"
     ]
    }
   ],
   "source": [
    "i=0\n",
    "for el in city:\n",
    "    if el == 'Liverpool':\n",
    "        print(i)\n",
    "    i+=1"
   ]
  },
  {
   "cell_type": "code",
   "execution_count": 4,
   "metadata": {},
   "outputs": [],
   "source": [
    "ambiente = ambiente.drop(ambiente.index[829])\n",
    "ambiente = ambiente.drop(ambiente.index[1885])\n",
    "ambiente = ambiente.drop(ambiente.index[2941])\n",
    "ambiente = ambiente.drop(ambiente.index[3997])\n",
    "ambiente = ambiente.drop(ambiente.index[5056])"
   ]
  },
  {
   "cell_type": "code",
   "execution_count": 5,
   "metadata": {},
   "outputs": [
    {
     "data": {
      "text/plain": [
       "5286"
      ]
     },
     "execution_count": 5,
     "metadata": {},
     "output_type": "execute_result"
    }
   ],
   "source": [
    "lista_citta = ambiente['CITIES,INDIC_UR\\TIME'].str.split(',\\w')\n",
    "misurazioni = []\n",
    "city = []\n",
    "for el in lista_citta:\n",
    "    city.append(el[0])\n",
    "    misurazioni.append(el[1])\n",
    "len(misurazioni)"
   ]
  },
  {
   "cell_type": "code",
   "execution_count": 6,
   "metadata": {},
   "outputs": [
    {
     "name": "stdout",
     "output_type": "stream",
     "text": [
      "853\n",
      "854\n",
      "1909\n",
      "1910\n",
      "2965\n",
      "2966\n",
      "4021\n",
      "4022\n",
      "5080\n",
      "5081\n"
     ]
    }
   ],
   "source": [
    "#verifica\n",
    "i=0\n",
    "for el in city:\n",
    "    if el == 'Stoke-on-trent':\n",
    "        print(i)\n",
    "    i+=1"
   ]
  },
  {
   "cell_type": "code",
   "execution_count": 7,
   "metadata": {},
   "outputs": [],
   "source": [
    "ambiente = ambiente.drop(ambiente.index[854])\n",
    "ambiente = ambiente.drop(ambiente.index[1909])\n",
    "ambiente = ambiente.drop(ambiente.index[2964])\n",
    "ambiente = ambiente.drop(ambiente.index[4019])\n",
    "ambiente = ambiente.drop(ambiente.index[5077])"
   ]
  },
  {
   "cell_type": "code",
   "execution_count": 8,
   "metadata": {},
   "outputs": [
    {
     "data": {
      "text/plain": [
       "5281"
      ]
     },
     "execution_count": 8,
     "metadata": {},
     "output_type": "execute_result"
    }
   ],
   "source": [
    "lista_citta = ambiente['CITIES,INDIC_UR\\TIME'].str.split(',\\w')\n",
    "misurazioni = []\n",
    "city = []\n",
    "for el in lista_citta:\n",
    "    city.append(el[0])\n",
    "    misurazioni.append(el[1])\n",
    "len(misurazioni)"
   ]
  },
  {
   "cell_type": "code",
   "execution_count": 9,
   "metadata": {},
   "outputs": [
    {
     "name": "stdout",
     "output_type": "stream",
     "text": [
      "935\n",
      "1990\n",
      "3045\n",
      "4100\n",
      "4101\n",
      "5158\n",
      "5159\n"
     ]
    }
   ],
   "source": [
    "#verifica\n",
    "i=0\n",
    "for el in city:\n",
    "    if el == 'Southampton':\n",
    "        print(i)\n",
    "    i+=1"
   ]
  },
  {
   "cell_type": "code",
   "execution_count": 10,
   "metadata": {},
   "outputs": [],
   "source": [
    "ambiente = ambiente.drop(ambiente.index[4101])\n",
    "ambiente = ambiente.drop(ambiente.index[5158])"
   ]
  },
  {
   "cell_type": "code",
   "execution_count": 11,
   "metadata": {},
   "outputs": [
    {
     "data": {
      "text/plain": [
       "5279"
      ]
     },
     "execution_count": 11,
     "metadata": {},
     "output_type": "execute_result"
    }
   ],
   "source": [
    "lista_citta = ambiente['CITIES,INDIC_UR\\TIME'].str.split(',\\w')\n",
    "misurazioni = []\n",
    "city = []\n",
    "for el in lista_citta:\n",
    "    city.append(el[0])\n",
    "    misurazioni.append(el[1])\n",
    "len(misurazioni)"
   ]
  },
  {
   "cell_type": "code",
   "execution_count": 12,
   "metadata": {},
   "outputs": [
    {
     "name": "stdout",
     "output_type": "stream",
     "text": [
      "954\n",
      "2009\n",
      "3064\n",
      "4119\n",
      "4120\n",
      "5176\n",
      "5177\n"
     ]
    }
   ],
   "source": [
    "#verifica\n",
    "i=0\n",
    "for el in city:\n",
    "    if el == 'Bournemouth':\n",
    "        print(i)\n",
    "    i+=1"
   ]
  },
  {
   "cell_type": "code",
   "execution_count": 14,
   "metadata": {},
   "outputs": [],
   "source": [
    "ambiente = ambiente.drop(ambiente.index[4120])\n",
    "ambiente = ambiente.drop(ambiente.index[5176])"
   ]
  },
  {
   "cell_type": "code",
   "execution_count": 15,
   "metadata": {},
   "outputs": [
    {
     "data": {
      "text/plain": [
       "5275"
      ]
     },
     "execution_count": 15,
     "metadata": {},
     "output_type": "execute_result"
    }
   ],
   "source": [
    "lista_citta = ambiente['CITIES,INDIC_UR\\TIME'].str.split(',\\w')\n",
    "misurazioni = []\n",
    "city = []\n",
    "for el in lista_citta:\n",
    "    city.append(el[0])\n",
    "    misurazioni.append(el[1])\n",
    "len(misurazioni)"
   ]
  },
  {
   "cell_type": "code",
   "execution_count": 16,
   "metadata": {},
   "outputs": [
    {
     "name": "stdout",
     "output_type": "stream",
     "text": [
      "970\n",
      "2025\n",
      "3080\n",
      "4134\n",
      "4135\n",
      "5189\n",
      "5190\n"
     ]
    }
   ],
   "source": [
    "#verifica\n",
    "i=0\n",
    "for el in city:\n",
    "    if el == 'Blackpool':\n",
    "        print(i)\n",
    "    i+=1"
   ]
  },
  {
   "cell_type": "code",
   "execution_count": 17,
   "metadata": {},
   "outputs": [],
   "source": [
    "ambiente = ambiente.drop(ambiente.index[4136])\n",
    "ambiente = ambiente.drop(ambiente.index[5191])"
   ]
  },
  {
   "cell_type": "code",
   "execution_count": 18,
   "metadata": {},
   "outputs": [
    {
     "data": {
      "text/plain": [
       "5273"
      ]
     },
     "execution_count": 18,
     "metadata": {},
     "output_type": "execute_result"
    }
   ],
   "source": [
    "lista_citta = ambiente['CITIES,INDIC_UR\\TIME'].str.split(',\\w')\n",
    "misurazioni = []\n",
    "city = []\n",
    "for el in lista_citta:\n",
    "    city.append(el[0])\n",
    "    misurazioni.append(el[1])\n",
    "len(misurazioni)"
   ]
  },
  {
   "cell_type": "code",
   "execution_count": 19,
   "metadata": {},
   "outputs": [
    {
     "data": {
      "text/plain": [
       "0\n",
       "ainfall - litre/m²                                                       1055\n",
       "hare of land (%): Green urban areas and sports and leisure facilities    1054\n",
       "hare of land (%): Transport infrastructure                               1054\n",
       "verage temperature of coldest month - degrees                            1055\n",
       "verage temperature of warmest month - degrees                            1055\n",
       "dtype: int64"
      ]
     },
     "execution_count": 19,
     "metadata": {},
     "output_type": "execute_result"
    }
   ],
   "source": [
    "misurazioni = pd.DataFrame(misurazioni)\n",
    "misurazioni.groupby(0).size()"
   ]
  },
  {
   "cell_type": "code",
   "execution_count": 20,
   "metadata": {},
   "outputs": [
    {
     "data": {
      "text/plain": [
       "1055"
      ]
     },
     "execution_count": 20,
     "metadata": {},
     "output_type": "execute_result"
    }
   ],
   "source": [
    "unici=[]\n",
    "for el in city:\n",
    "    if el not in unici:\n",
    "        unici.append(el)\n",
    "len(unici)"
   ]
  },
  {
   "cell_type": "code",
   "execution_count": 21,
   "metadata": {},
   "outputs": [],
   "source": [
    "diz={}\n",
    "for el in unici:\n",
    "    i=0\n",
    "    for elemento in city:\n",
    "        if elemento==el:\n",
    "            i+=1\n",
    "    diz[el]=i"
   ]
  },
  {
   "cell_type": "code",
   "execution_count": 22,
   "metadata": {},
   "outputs": [
    {
     "name": "stdout",
     "output_type": "stream",
     "text": [
      "Wycombe 4\n",
      "Southend-on-Sea 4\n",
      "Blackpool 7\n",
      "Maidstone 4\n",
      "Poole 4\n"
     ]
    },
    {
     "data": {
      "text/plain": [
       "['Wycombe', 'Southend-on-Sea', 'Blackpool', 'Maidstone', 'Poole']"
      ]
     },
     "execution_count": 22,
     "metadata": {},
     "output_type": "execute_result"
    }
   ],
   "source": [
    "lista_doppioni=[]\n",
    "for key, value in diz.items() :\n",
    "    if value != 5:\n",
    "        print (key, value)\n",
    "        lista_doppioni.append(key)\n",
    "lista_doppioni"
   ]
  },
  {
   "cell_type": "code",
   "execution_count": 23,
   "metadata": {},
   "outputs": [],
   "source": [
    "ambiente['CITIES,INDIC_UR\\TIME']=city"
   ]
  },
  {
   "cell_type": "code",
   "execution_count": 50,
   "metadata": {},
   "outputs": [],
   "source": [
    "#creazione dei sottodataset per la macrocategoria\n",
    "warmest = ambiente[:1055]\n",
    "coldest = ambiente[1055:2110]\n",
    "rainfall = ambiente[2110:3165]\n",
    "tra_inf = ambiente[3165:4220]\n",
    "green = ambiente[4220:]"
   ]
  },
  {
   "cell_type": "code",
   "execution_count": 51,
   "metadata": {},
   "outputs": [],
   "source": [
    "#pulizia dei dati mancanti e ambigui\n",
    "for index, row in warmest.iterrows():\n",
    "    for i in range(1990,2020):\n",
    "        row[str(i)] = str(row[str(i)]).replace('e', '')\n",
    "        row[str(i)] = str(row[str(i)]).replace(',', '')\n",
    "        row[str(i)] = str(row[str(i)]).replace('b', '')\n",
    "        row[str(i)] = str(row[str(i)]).replace('d', '')\n",
    "        row[str(i)] = str(row[str(i)]).replace('p', '')\n",
    "        row[str(i)] = str(row[str(i)]).replace('r', '')\n",
    "        row[str(i)] = str(row[str(i)]).replace(': ', ':')\n",
    "        row[str(i)] = str(row[str(i)]).replace(':c', ':')"
   ]
  },
  {
   "cell_type": "code",
   "execution_count": 52,
   "metadata": {},
   "outputs": [],
   "source": [
    "for index, row in coldest.iterrows():\n",
    "    for i in range(1990,2020):\n",
    "        row[str(i)] = str(row[str(i)]).replace('e', '')\n",
    "        row[str(i)] = str(row[str(i)]).replace(',', '')\n",
    "        row[str(i)] = str(row[str(i)]).replace('b', '')\n",
    "        row[str(i)] = str(row[str(i)]).replace('d', '')\n",
    "        row[str(i)] = str(row[str(i)]).replace('p', '')\n",
    "        row[str(i)] = str(row[str(i)]).replace('r', '')\n",
    "        row[str(i)] = str(row[str(i)]).replace(': ', ':')\n",
    "        row[str(i)] = str(row[str(i)]).replace(':c', ':')"
   ]
  },
  {
   "cell_type": "code",
   "execution_count": 53,
   "metadata": {},
   "outputs": [],
   "source": [
    "for index, row in rainfall.iterrows():\n",
    "    for i in range(1990,2020):\n",
    "        row[str(i)] = str(row[str(i)]).replace('e', '')\n",
    "        row[str(i)] = str(row[str(i)]).replace(',', '')\n",
    "        row[str(i)] = str(row[str(i)]).replace('b', '')\n",
    "        row[str(i)] = str(row[str(i)]).replace('d', '')\n",
    "        row[str(i)] = str(row[str(i)]).replace('p', '')\n",
    "        row[str(i)] = str(row[str(i)]).replace('r', '')\n",
    "        row[str(i)] = str(row[str(i)]).replace(': ', ':')\n",
    "        row[str(i)] = str(row[str(i)]).replace(':c', ':')"
   ]
  },
  {
   "cell_type": "code",
   "execution_count": 54,
   "metadata": {},
   "outputs": [],
   "source": [
    "for index, row in tra_inf.iterrows():\n",
    "    for i in range(1990,2020):\n",
    "        row[str(i)] = str(row[str(i)]).replace('e', '')\n",
    "        row[str(i)] = str(row[str(i)]).replace(',', '')\n",
    "        row[str(i)] = str(row[str(i)]).replace('b', '')\n",
    "        row[str(i)] = str(row[str(i)]).replace('d', '')\n",
    "        row[str(i)] = str(row[str(i)]).replace('p', '')\n",
    "        row[str(i)] = str(row[str(i)]).replace('r', '')\n",
    "        row[str(i)] = str(row[str(i)]).replace(': ', ':')\n",
    "        row[str(i)] = str(row[str(i)]).replace(':c', ':')"
   ]
  },
  {
   "cell_type": "code",
   "execution_count": 55,
   "metadata": {},
   "outputs": [],
   "source": [
    "for index, row in green.iterrows():\n",
    "    for i in range(1990,2020):\n",
    "        row[str(i)] = str(row[str(i)]).replace('e', '')\n",
    "        row[str(i)] = str(row[str(i)]).replace(',', '')\n",
    "        row[str(i)] = str(row[str(i)]).replace('b', '')\n",
    "        row[str(i)] = str(row[str(i)]).replace('d', '')\n",
    "        row[str(i)] = str(row[str(i)]).replace('p', '')\n",
    "        row[str(i)] = str(row[str(i)]).replace('r', '')\n",
    "        row[str(i)] = str(row[str(i)]).replace(': ', ':')\n",
    "        row[str(i)] = str(row[str(i)]).replace(':c', ':')"
   ]
  },
  {
   "cell_type": "code",
   "execution_count": 56,
   "metadata": {},
   "outputs": [],
   "source": [
    "warmest = warmest.replace(':', np.nan)\n",
    "coldest = coldest.replace(':', np.nan)\n",
    "rainfall = rainfall.replace(':', np.nan)\n",
    "tra_inf = tra_inf.replace(':', np.nan)\n",
    "green = green.replace(':', np.nan)"
   ]
  },
  {
   "cell_type": "code",
   "execution_count": 57,
   "metadata": {},
   "outputs": [],
   "source": [
    "#importare librerie per fare previsione tramite regressione lineare per gli indici del 2019\n",
    "from sklearn.preprocessing import Imputer\n",
    "from sklearn.linear_model import LinearRegression\n",
    "from sklearn.impute import SimpleImputer"
   ]
  },
  {
   "cell_type": "code",
   "execution_count": 58,
   "metadata": {},
   "outputs": [],
   "source": [
    "warmest = warmest.reset_index(drop=True)\n",
    "warmest_prova = warmest.iloc[:,1:30]\n",
    "warmest_prova = warmest_prova.dropna(how='all')\n",
    "\n",
    "lista_indici=[]\n",
    "for index,row in warmest_prova.iterrows():\n",
    "    lista_indici.append(index)\n",
    "warmest.iloc[lista_indici]['CITIES,INDIC_UR\\TIME']\n",
    "\n",
    "warmest_prova = warmest_prova.reset_index(drop=True)"
   ]
  },
  {
   "cell_type": "code",
   "execution_count": 59,
   "metadata": {},
   "outputs": [],
   "source": [
    "lista_prev2019 = []\n",
    "\n",
    "x = list(range(1990,2019))\n",
    "x = np.array(x).reshape((-1,1))\n",
    "\n",
    "for i in range(0,482):\n",
    "    y = []\n",
    "    for el in warmest_prova.loc[i]:\n",
    "        y.append(el)\n",
    "        n = np.array(y).reshape((-1,1))\n",
    "    imp = SimpleImputer(missing_values=np.nan, strategy='mean')\n",
    "    imp = imp.fit(n)\n",
    "    y_imp = imp.transform(n)\n",
    "    model = LinearRegression().fit(x, y_imp)\n",
    "    prev = np.arange(1990,2020).reshape((-1,1))\n",
    "    y_pred = model.predict(prev)\n",
    "    lista_prev2019.append(y_pred[-1])"
   ]
  },
  {
   "cell_type": "code",
   "execution_count": 61,
   "metadata": {},
   "outputs": [
    {
     "data": {
      "text/html": [
       "<div>\n",
       "<style scoped>\n",
       "    .dataframe tbody tr th:only-of-type {\n",
       "        vertical-align: middle;\n",
       "    }\n",
       "\n",
       "    .dataframe tbody tr th {\n",
       "        vertical-align: top;\n",
       "    }\n",
       "\n",
       "    .dataframe thead th {\n",
       "        text-align: right;\n",
       "    }\n",
       "</style>\n",
       "<table border=\"1\" class=\"dataframe\">\n",
       "  <thead>\n",
       "    <tr style=\"text-align: right;\">\n",
       "      <th></th>\n",
       "      <th>0</th>\n",
       "      <th>city</th>\n",
       "    </tr>\n",
       "  </thead>\n",
       "  <tbody>\n",
       "    <tr>\n",
       "      <td>0</td>\n",
       "      <td>19.204831</td>\n",
       "      <td>Belgium</td>\n",
       "    </tr>\n",
       "    <tr>\n",
       "      <td>1</td>\n",
       "      <td>19.329885</td>\n",
       "      <td>Bruxelles / Brussel</td>\n",
       "    </tr>\n",
       "    <tr>\n",
       "      <td>2</td>\n",
       "      <td>19.246839</td>\n",
       "      <td>Antwerpen</td>\n",
       "    </tr>\n",
       "    <tr>\n",
       "      <td>3</td>\n",
       "      <td>19.166790</td>\n",
       "      <td>Gent</td>\n",
       "    </tr>\n",
       "    <tr>\n",
       "      <td>4</td>\n",
       "      <td>18.960140</td>\n",
       "      <td>Charleroi</td>\n",
       "    </tr>\n",
       "    <tr>\n",
       "      <td>...</td>\n",
       "      <td>...</td>\n",
       "      <td>...</td>\n",
       "    </tr>\n",
       "    <tr>\n",
       "      <td>477</td>\n",
       "      <td>20.715887</td>\n",
       "      <td>Trieste</td>\n",
       "    </tr>\n",
       "    <tr>\n",
       "      <td>478</td>\n",
       "      <td>18.346552</td>\n",
       "      <td>Perugia</td>\n",
       "    </tr>\n",
       "    <tr>\n",
       "      <td>479</td>\n",
       "      <td>19.922660</td>\n",
       "      <td>Ancona</td>\n",
       "    </tr>\n",
       "    <tr>\n",
       "      <td>480</td>\n",
       "      <td>23.200739</td>\n",
       "      <td>Pescara</td>\n",
       "    </tr>\n",
       "    <tr>\n",
       "      <td>481</td>\n",
       "      <td>20.451724</td>\n",
       "      <td>Campobasso</td>\n",
       "    </tr>\n",
       "  </tbody>\n",
       "</table>\n",
       "<p>482 rows × 2 columns</p>\n",
       "</div>"
      ],
      "text/plain": [
       "             0                 city\n",
       "0    19.204831              Belgium\n",
       "1    19.329885  Bruxelles / Brussel\n",
       "2    19.246839            Antwerpen\n",
       "3    19.166790                 Gent\n",
       "4    18.960140            Charleroi\n",
       "..         ...                  ...\n",
       "477  20.715887              Trieste\n",
       "478  18.346552              Perugia\n",
       "479  19.922660               Ancona\n",
       "480  23.200739              Pescara\n",
       "481  20.451724           Campobasso\n",
       "\n",
       "[482 rows x 2 columns]"
      ]
     },
     "execution_count": 61,
     "metadata": {},
     "output_type": "execute_result"
    }
   ],
   "source": [
    "warmest2019 = pd.DataFrame(lista_prev2019)\n",
    "warmest2019['city'] = warmest['CITIES,INDIC_UR\\TIME']\n",
    "warmest2019"
   ]
  },
  {
   "cell_type": "code",
   "execution_count": 62,
   "metadata": {},
   "outputs": [],
   "source": [
    "coldest = coldest.reset_index(drop=True)\n",
    "coldest_prova = coldest.iloc[:,1:30]\n",
    "coldest_prova = coldest_prova.dropna(how='all')\n",
    "\n",
    "lista_indici=[]\n",
    "for index,row in coldest_prova.iterrows():\n",
    "    lista_indici.append(index)\n",
    "coldest.iloc[lista_indici]['CITIES,INDIC_UR\\TIME']\n",
    "\n",
    "coldest_prova = coldest_prova.reset_index(drop=True)"
   ]
  },
  {
   "cell_type": "code",
   "execution_count": 63,
   "metadata": {},
   "outputs": [],
   "source": [
    "lista_prev2019 = []\n",
    "\n",
    "x = list(range(1990,2019))\n",
    "x = np.array(x).reshape((-1,1))\n",
    "\n",
    "for i in range(0,485):\n",
    "    y = []\n",
    "    for el in coldest_prova.loc[i]:\n",
    "        y.append(el)\n",
    "        n = np.array(y).reshape((-1,1))\n",
    "    imp = SimpleImputer(missing_values=np.nan, strategy='mean')\n",
    "    imp = imp.fit(n)\n",
    "    y_imp = imp.transform(n)\n",
    "    model = LinearRegression().fit(x, y_imp)\n",
    "    prev = np.arange(1990,2020).reshape((-1,1))\n",
    "    y_pred = model.predict(prev)\n",
    "    lista_prev2019.append(y_pred[-1])"
   ]
  },
  {
   "cell_type": "code",
   "execution_count": 64,
   "metadata": {},
   "outputs": [
    {
     "data": {
      "text/html": [
       "<div>\n",
       "<style scoped>\n",
       "    .dataframe tbody tr th:only-of-type {\n",
       "        vertical-align: middle;\n",
       "    }\n",
       "\n",
       "    .dataframe tbody tr th {\n",
       "        vertical-align: top;\n",
       "    }\n",
       "\n",
       "    .dataframe thead th {\n",
       "        text-align: right;\n",
       "    }\n",
       "</style>\n",
       "<table border=\"1\" class=\"dataframe\">\n",
       "  <thead>\n",
       "    <tr style=\"text-align: right;\">\n",
       "      <th></th>\n",
       "      <th>0</th>\n",
       "      <th>city</th>\n",
       "    </tr>\n",
       "  </thead>\n",
       "  <tbody>\n",
       "    <tr>\n",
       "      <td>0</td>\n",
       "      <td>2.901383</td>\n",
       "      <td>Belgium</td>\n",
       "    </tr>\n",
       "    <tr>\n",
       "      <td>1</td>\n",
       "      <td>2.250328</td>\n",
       "      <td>Bruxelles / Brussel</td>\n",
       "    </tr>\n",
       "    <tr>\n",
       "      <td>2</td>\n",
       "      <td>2.293227</td>\n",
       "      <td>Antwerpen</td>\n",
       "    </tr>\n",
       "    <tr>\n",
       "      <td>3</td>\n",
       "      <td>2.291790</td>\n",
       "      <td>Gent</td>\n",
       "    </tr>\n",
       "    <tr>\n",
       "      <td>4</td>\n",
       "      <td>1.556322</td>\n",
       "      <td>Charleroi</td>\n",
       "    </tr>\n",
       "    <tr>\n",
       "      <td>...</td>\n",
       "      <td>...</td>\n",
       "      <td>...</td>\n",
       "    </tr>\n",
       "    <tr>\n",
       "      <td>480</td>\n",
       "      <td>1.650493</td>\n",
       "      <td>Pescara</td>\n",
       "    </tr>\n",
       "    <tr>\n",
       "      <td>481</td>\n",
       "      <td>-1.736700</td>\n",
       "      <td>Campobasso</td>\n",
       "    </tr>\n",
       "    <tr>\n",
       "      <td>482</td>\n",
       "      <td>-0.124631</td>\n",
       "      <td>Caserta</td>\n",
       "    </tr>\n",
       "    <tr>\n",
       "      <td>483</td>\n",
       "      <td>3.055583</td>\n",
       "      <td>Taranto</td>\n",
       "    </tr>\n",
       "    <tr>\n",
       "      <td>484</td>\n",
       "      <td>-0.153695</td>\n",
       "      <td>Potenza</td>\n",
       "    </tr>\n",
       "  </tbody>\n",
       "</table>\n",
       "<p>485 rows × 2 columns</p>\n",
       "</div>"
      ],
      "text/plain": [
       "            0                 city\n",
       "0    2.901383              Belgium\n",
       "1    2.250328  Bruxelles / Brussel\n",
       "2    2.293227            Antwerpen\n",
       "3    2.291790                 Gent\n",
       "4    1.556322            Charleroi\n",
       "..        ...                  ...\n",
       "480  1.650493              Pescara\n",
       "481 -1.736700           Campobasso\n",
       "482 -0.124631              Caserta\n",
       "483  3.055583              Taranto\n",
       "484 -0.153695              Potenza\n",
       "\n",
       "[485 rows x 2 columns]"
      ]
     },
     "execution_count": 64,
     "metadata": {},
     "output_type": "execute_result"
    }
   ],
   "source": [
    "coldest2019 = pd.DataFrame(lista_prev2019)\n",
    "coldest2019['city'] = coldest['CITIES,INDIC_UR\\TIME']\n",
    "coldest2019"
   ]
  },
  {
   "cell_type": "code",
   "execution_count": 65,
   "metadata": {},
   "outputs": [],
   "source": [
    "rainfall = rainfall.reset_index(drop=True)\n",
    "rainfall_prova = rainfall.iloc[:,1:30]\n",
    "rainfall_prova = rainfall_prova.dropna(how='all')\n",
    "\n",
    "lista_indici=[]\n",
    "for index,row in rainfall_prova.iterrows():\n",
    "    lista_indici.append(index)\n",
    "rainfall.iloc[lista_indici]['CITIES,INDIC_UR\\TIME']\n",
    "\n",
    "rainfall_prova = rainfall_prova.reset_index(drop=True)"
   ]
  },
  {
   "cell_type": "code",
   "execution_count": 66,
   "metadata": {},
   "outputs": [],
   "source": [
    "lista_prev2019 = []\n",
    "\n",
    "x = list(range(1990,2019))\n",
    "x = np.array(x).reshape((-1,1))\n",
    "\n",
    "for i in range(0,483):\n",
    "    y = []\n",
    "    for el in rainfall_prova.loc[i]:\n",
    "        y.append(el)\n",
    "        n = np.array(y).reshape((-1,1))\n",
    "    imp = SimpleImputer(missing_values=np.nan, strategy='mean')\n",
    "    imp = imp.fit(n)\n",
    "    y_imp = imp.transform(n)\n",
    "    model = LinearRegression().fit(x, y_imp)\n",
    "    prev = np.arange(1990,2020).reshape((-1,1))\n",
    "    y_pred = model.predict(prev)\n",
    "    lista_prev2019.append(y_pred[-1])"
   ]
  },
  {
   "cell_type": "code",
   "execution_count": 67,
   "metadata": {},
   "outputs": [
    {
     "data": {
      "text/html": [
       "<div>\n",
       "<style scoped>\n",
       "    .dataframe tbody tr th:only-of-type {\n",
       "        vertical-align: middle;\n",
       "    }\n",
       "\n",
       "    .dataframe tbody tr th {\n",
       "        vertical-align: top;\n",
       "    }\n",
       "\n",
       "    .dataframe thead th {\n",
       "        text-align: right;\n",
       "    }\n",
       "</style>\n",
       "<table border=\"1\" class=\"dataframe\">\n",
       "  <thead>\n",
       "    <tr style=\"text-align: right;\">\n",
       "      <th></th>\n",
       "      <th>0</th>\n",
       "      <th>city</th>\n",
       "    </tr>\n",
       "  </thead>\n",
       "  <tbody>\n",
       "    <tr>\n",
       "      <td>0</td>\n",
       "      <td>870.947518</td>\n",
       "      <td>Belgium</td>\n",
       "    </tr>\n",
       "    <tr>\n",
       "      <td>1</td>\n",
       "      <td>824.188095</td>\n",
       "      <td>Bruxelles / Brussel</td>\n",
       "    </tr>\n",
       "    <tr>\n",
       "      <td>2</td>\n",
       "      <td>753.683333</td>\n",
       "      <td>Antwerpen</td>\n",
       "    </tr>\n",
       "    <tr>\n",
       "      <td>3</td>\n",
       "      <td>767.314696</td>\n",
       "      <td>Gent</td>\n",
       "    </tr>\n",
       "    <tr>\n",
       "      <td>4</td>\n",
       "      <td>794.498276</td>\n",
       "      <td>Charleroi</td>\n",
       "    </tr>\n",
       "    <tr>\n",
       "      <td>...</td>\n",
       "      <td>...</td>\n",
       "      <td>...</td>\n",
       "    </tr>\n",
       "    <tr>\n",
       "      <td>478</td>\n",
       "      <td>1060.383547</td>\n",
       "      <td>Perugia</td>\n",
       "    </tr>\n",
       "    <tr>\n",
       "      <td>479</td>\n",
       "      <td>1299.195074</td>\n",
       "      <td>Ancona</td>\n",
       "    </tr>\n",
       "    <tr>\n",
       "      <td>480</td>\n",
       "      <td>1197.947947</td>\n",
       "      <td>Pescara</td>\n",
       "    </tr>\n",
       "    <tr>\n",
       "      <td>481</td>\n",
       "      <td>1560.983210</td>\n",
       "      <td>Campobasso</td>\n",
       "    </tr>\n",
       "    <tr>\n",
       "      <td>482</td>\n",
       "      <td>1206.903695</td>\n",
       "      <td>Caserta</td>\n",
       "    </tr>\n",
       "  </tbody>\n",
       "</table>\n",
       "<p>483 rows × 2 columns</p>\n",
       "</div>"
      ],
      "text/plain": [
       "               0                 city\n",
       "0     870.947518              Belgium\n",
       "1     824.188095  Bruxelles / Brussel\n",
       "2     753.683333            Antwerpen\n",
       "3     767.314696                 Gent\n",
       "4     794.498276            Charleroi\n",
       "..           ...                  ...\n",
       "478  1060.383547              Perugia\n",
       "479  1299.195074               Ancona\n",
       "480  1197.947947              Pescara\n",
       "481  1560.983210           Campobasso\n",
       "482  1206.903695              Caserta\n",
       "\n",
       "[483 rows x 2 columns]"
      ]
     },
     "execution_count": 67,
     "metadata": {},
     "output_type": "execute_result"
    }
   ],
   "source": [
    "rainfall2019 = pd.DataFrame(lista_prev2019)\n",
    "rainfall2019['city'] = rainfall['CITIES,INDIC_UR\\TIME']\n",
    "rainfall2019"
   ]
  },
  {
   "cell_type": "code",
   "execution_count": 70,
   "metadata": {},
   "outputs": [],
   "source": [
    "tra_inf = tra_inf.reset_index(drop=True)\n",
    "tra_inf_prova = tra_inf.iloc[:,1:30]\n",
    "tra_inf_prova = tra_inf_prova.dropna(how='all')\n",
    "\n",
    "lista_indici=[]\n",
    "for index,row in tra_inf_prova.iterrows():\n",
    "    lista_indici.append(index)\n",
    "tra_inf.iloc[lista_indici]['CITIES,INDIC_UR\\TIME']\n",
    "\n",
    "tra_inf_prova = tra_inf_prova.reset_index(drop=True)"
   ]
  },
  {
   "cell_type": "code",
   "execution_count": 72,
   "metadata": {},
   "outputs": [
    {
     "data": {
      "text/plain": [
       "532"
      ]
     },
     "execution_count": 72,
     "metadata": {},
     "output_type": "execute_result"
    }
   ],
   "source": [
    "len(tra_inf_prova)"
   ]
  },
  {
   "cell_type": "code",
   "execution_count": 73,
   "metadata": {},
   "outputs": [],
   "source": [
    "lista_prev2019 = []\n",
    "\n",
    "x = list(range(1990,2019))\n",
    "x = np.array(x).reshape((-1,1))\n",
    "\n",
    "for i in range(0,532):\n",
    "    y = []\n",
    "    for el in tra_inf_prova.loc[i]:\n",
    "        y.append(el)\n",
    "        n = np.array(y).reshape((-1,1))\n",
    "    imp = SimpleImputer(missing_values=np.nan, strategy='mean')\n",
    "    imp = imp.fit(n)\n",
    "    y_imp = imp.transform(n)\n",
    "    model = LinearRegression().fit(x, y_imp)\n",
    "    prev = np.arange(1990,2020).reshape((-1,1))\n",
    "    y_pred = model.predict(prev)\n",
    "    lista_prev2019.append(y_pred[-1])"
   ]
  },
  {
   "cell_type": "code",
   "execution_count": 74,
   "metadata": {},
   "outputs": [
    {
     "data": {
      "text/html": [
       "<div>\n",
       "<style scoped>\n",
       "    .dataframe tbody tr th:only-of-type {\n",
       "        vertical-align: middle;\n",
       "    }\n",
       "\n",
       "    .dataframe tbody tr th {\n",
       "        vertical-align: top;\n",
       "    }\n",
       "\n",
       "    .dataframe thead th {\n",
       "        text-align: right;\n",
       "    }\n",
       "</style>\n",
       "<table border=\"1\" class=\"dataframe\">\n",
       "  <thead>\n",
       "    <tr style=\"text-align: right;\">\n",
       "      <th></th>\n",
       "      <th>0</th>\n",
       "      <th>city</th>\n",
       "    </tr>\n",
       "  </thead>\n",
       "  <tbody>\n",
       "    <tr>\n",
       "      <td>0</td>\n",
       "      <td>14.0</td>\n",
       "      <td>Belgium</td>\n",
       "    </tr>\n",
       "    <tr>\n",
       "      <td>1</td>\n",
       "      <td>41.7</td>\n",
       "      <td>Bruxelles / Brussel</td>\n",
       "    </tr>\n",
       "    <tr>\n",
       "      <td>2</td>\n",
       "      <td>12.4</td>\n",
       "      <td>Antwerpen</td>\n",
       "    </tr>\n",
       "    <tr>\n",
       "      <td>3</td>\n",
       "      <td>9.9</td>\n",
       "      <td>Gent</td>\n",
       "    </tr>\n",
       "    <tr>\n",
       "      <td>4</td>\n",
       "      <td>5.5</td>\n",
       "      <td>Charleroi</td>\n",
       "    </tr>\n",
       "    <tr>\n",
       "      <td>...</td>\n",
       "      <td>...</td>\n",
       "      <td>...</td>\n",
       "    </tr>\n",
       "    <tr>\n",
       "      <td>527</td>\n",
       "      <td>6.8</td>\n",
       "      <td>Anzio</td>\n",
       "    </tr>\n",
       "    <tr>\n",
       "      <td>528</td>\n",
       "      <td>6.1</td>\n",
       "      <td>Sassuolo</td>\n",
       "    </tr>\n",
       "    <tr>\n",
       "      <td>529</td>\n",
       "      <td>3.6</td>\n",
       "      <td>Messina</td>\n",
       "    </tr>\n",
       "    <tr>\n",
       "      <td>530</td>\n",
       "      <td>4.2</td>\n",
       "      <td>Prato</td>\n",
       "    </tr>\n",
       "    <tr>\n",
       "      <td>531</td>\n",
       "      <td>8.5</td>\n",
       "      <td>Parma</td>\n",
       "    </tr>\n",
       "  </tbody>\n",
       "</table>\n",
       "<p>532 rows × 2 columns</p>\n",
       "</div>"
      ],
      "text/plain": [
       "        0                 city\n",
       "0    14.0              Belgium\n",
       "1    41.7  Bruxelles / Brussel\n",
       "2    12.4            Antwerpen\n",
       "3     9.9                 Gent\n",
       "4     5.5            Charleroi\n",
       "..    ...                  ...\n",
       "527   6.8                Anzio\n",
       "528   6.1             Sassuolo\n",
       "529   3.6              Messina\n",
       "530   4.2                Prato\n",
       "531   8.5                Parma\n",
       "\n",
       "[532 rows x 2 columns]"
      ]
     },
     "execution_count": 74,
     "metadata": {},
     "output_type": "execute_result"
    }
   ],
   "source": [
    "tra_inf2019 = pd.DataFrame(lista_prev2019)\n",
    "tra_inf2019['city'] = tra_inf['CITIES,INDIC_UR\\TIME']\n",
    "tra_inf2019"
   ]
  },
  {
   "cell_type": "code",
   "execution_count": 75,
   "metadata": {},
   "outputs": [],
   "source": [
    "green = green.reset_index(drop=True)\n",
    "green_prova = green.iloc[:,1:30]\n",
    "green_prova = green_prova.dropna(how='all')\n",
    "\n",
    "lista_indici=[]\n",
    "for index,row in green_prova.iterrows():\n",
    "    lista_indici.append(index)\n",
    "green.iloc[lista_indici]['CITIES,INDIC_UR\\TIME']\n",
    "\n",
    "green_prova = green_prova.reset_index(drop=True)"
   ]
  },
  {
   "cell_type": "code",
   "execution_count": 76,
   "metadata": {},
   "outputs": [],
   "source": [
    "lista_prev2019 = []\n",
    "\n",
    "x = list(range(1990,2019))\n",
    "x = np.array(x).reshape((-1,1))\n",
    "\n",
    "for i in range(0,448):\n",
    "    y = []\n",
    "    for el in green_prova.loc[i]:\n",
    "        y.append(el)\n",
    "        n = np.array(y).reshape((-1,1))\n",
    "    imp = SimpleImputer(missing_values=np.nan, strategy='mean')\n",
    "    imp = imp.fit(n)\n",
    "    y_imp = imp.transform(n)\n",
    "    model = LinearRegression().fit(x, y_imp)\n",
    "    prev = np.arange(1990,2020).reshape((-1,1))\n",
    "    y_pred = model.predict(prev)\n",
    "    lista_prev2019.append(y_pred[-1])"
   ]
  },
  {
   "cell_type": "code",
   "execution_count": 77,
   "metadata": {},
   "outputs": [
    {
     "data": {
      "text/html": [
       "<div>\n",
       "<style scoped>\n",
       "    .dataframe tbody tr th:only-of-type {\n",
       "        vertical-align: middle;\n",
       "    }\n",
       "\n",
       "    .dataframe tbody tr th {\n",
       "        vertical-align: top;\n",
       "    }\n",
       "\n",
       "    .dataframe thead th {\n",
       "        text-align: right;\n",
       "    }\n",
       "</style>\n",
       "<table border=\"1\" class=\"dataframe\">\n",
       "  <thead>\n",
       "    <tr style=\"text-align: right;\">\n",
       "      <th></th>\n",
       "      <th>0</th>\n",
       "      <th>city</th>\n",
       "    </tr>\n",
       "  </thead>\n",
       "  <tbody>\n",
       "    <tr>\n",
       "      <td>0</td>\n",
       "      <td>13.2</td>\n",
       "      <td>Bruxelles / Brussel</td>\n",
       "    </tr>\n",
       "    <tr>\n",
       "      <td>1</td>\n",
       "      <td>6.8</td>\n",
       "      <td>Antwerpen</td>\n",
       "    </tr>\n",
       "    <tr>\n",
       "      <td>2</td>\n",
       "      <td>6.6</td>\n",
       "      <td>Gent</td>\n",
       "    </tr>\n",
       "    <tr>\n",
       "      <td>3</td>\n",
       "      <td>6.2</td>\n",
       "      <td>Charleroi</td>\n",
       "    </tr>\n",
       "    <tr>\n",
       "      <td>4</td>\n",
       "      <td>2.6</td>\n",
       "      <td>Liège</td>\n",
       "    </tr>\n",
       "    <tr>\n",
       "      <td>...</td>\n",
       "      <td>...</td>\n",
       "      <td>...</td>\n",
       "    </tr>\n",
       "    <tr>\n",
       "      <td>443</td>\n",
       "      <td>15.9</td>\n",
       "      <td>CA de la Vallée de Montmorency</td>\n",
       "    </tr>\n",
       "    <tr>\n",
       "      <td>444</td>\n",
       "      <td>13.7</td>\n",
       "      <td>Martigues</td>\n",
       "    </tr>\n",
       "    <tr>\n",
       "      <td>445</td>\n",
       "      <td>12.0</td>\n",
       "      <td>Argenteuil - Bezons</td>\n",
       "    </tr>\n",
       "    <tr>\n",
       "      <td>446</td>\n",
       "      <td>19.0</td>\n",
       "      <td>Cergy-Pontoise</td>\n",
       "    </tr>\n",
       "    <tr>\n",
       "      <td>447</td>\n",
       "      <td>12.3</td>\n",
       "      <td>Charleville-Mézières</td>\n",
       "    </tr>\n",
       "  </tbody>\n",
       "</table>\n",
       "<p>448 rows × 2 columns</p>\n",
       "</div>"
      ],
      "text/plain": [
       "        0                            city\n",
       "0    13.2             Bruxelles / Brussel\n",
       "1     6.8                       Antwerpen\n",
       "2     6.6                            Gent\n",
       "3     6.2                       Charleroi\n",
       "4     2.6                           Liège\n",
       "..    ...                             ...\n",
       "443  15.9  CA de la Vallée de Montmorency\n",
       "444  13.7                       Martigues\n",
       "445  12.0             Argenteuil - Bezons\n",
       "446  19.0                  Cergy-Pontoise\n",
       "447  12.3            Charleville-Mézières\n",
       "\n",
       "[448 rows x 2 columns]"
      ]
     },
     "execution_count": 77,
     "metadata": {},
     "output_type": "execute_result"
    }
   ],
   "source": [
    "green2019 = pd.DataFrame(lista_prev2019)\n",
    "green2019['city'] = green['CITIES,INDIC_UR\\TIME']\n",
    "green2019"
   ]
  },
  {
   "cell_type": "code",
   "execution_count": null,
   "metadata": {},
   "outputs": [],
   "source": [
    "from pymongo import MongoClient\n",
    "client = MongoClient('mongo', 27017, username='admin', password='DataMan2019!')\n",
    "Eurostat_db = client.Eurostat_db"
   ]
  },
  {
   "cell_type": "code",
   "execution_count": null,
   "metadata": {},
   "outputs": [],
   "source": [
    "warmest2019.columns = ['Average temperature of warmest month', 'city']\n",
    "coldest2019.columns = ['Average temperature of coldest month', 'city']\n",
    "rainfall2019.columns = ['Rainfall','city']\n",
    "tra_inf2019.columns = [ 'Transport infrastructure', 'city']\n",
    "green2019.columns = [' Green urban areas and sports and leisure facilities', 'city']\n",
    "warmest_2019 = Eurostat_db.warmest_2019\n",
    "coldest_2019 = Eurostat_db.coldest_2019\n",
    "rainfall_2019 = Eurostat_db.rainfall_2019\n",
    "tra_inf_2019 = Eurostat_db.tra_inf_2019\n",
    "green_2019 = Eurostat_db.green_2019\n",
    "warmest_2019.insert_many(warmest2019.to_dict('records'))\n",
    "coldest_2019.insert_many(coldest2019.to_dict('records'))\n",
    "rainfall_2019.insert_many(rainfall2019.to_dict('records'))\n",
    "tra_inf_2019.insert_many(tra_inf2019.to_dict('records'))\n",
    "green_2019.insert_many(green2019.to_dict('records'))"
   ]
  },
  {
   "cell_type": "code",
   "execution_count": 78,
   "metadata": {},
   "outputs": [],
   "source": [
    "#passaggi identici ai precedenti per tutte le macrocategorie considerate\n",
    "condizioni_vita = pd.read_csv('condizioni_vita.csv', sep = '\\t',\n",
    "                          encoding =\"ISO-8859-1\", thousands=',')"
   ]
  },
  {
   "cell_type": "code",
   "execution_count": 79,
   "metadata": {},
   "outputs": [],
   "source": [
    "lista_city_index = condizioni_vita['CITIES,INDIC_UR\\TIME'].str.split(',\\w')"
   ]
  },
  {
   "cell_type": "code",
   "execution_count": 80,
   "metadata": {},
   "outputs": [],
   "source": [
    "lista_city = []\n",
    "lista_index = []\n",
    "\n",
    "for el in lista_city_index:\n",
    "    lista_city.append(el[0])\n",
    "    lista_index.append(el[1])"
   ]
  },
  {
   "cell_type": "code",
   "execution_count": 81,
   "metadata": {},
   "outputs": [],
   "source": [
    "condizioni_vita['city'] = lista_city\n",
    "condizioni_vita['indicatori'] = lista_index"
   ]
  },
  {
   "cell_type": "code",
   "execution_count": 82,
   "metadata": {},
   "outputs": [],
   "source": [
    "del condizioni_vita['CITIES,INDIC_UR\\TIME']"
   ]
  },
  {
   "cell_type": "code",
   "execution_count": 83,
   "metadata": {},
   "outputs": [
    {
     "data": {
      "text/plain": [
       "indicatori\n",
       "umber of murders and violent deaths            1026\n",
       "verage annual rent for housing per m² - EUR    1026\n",
       "dtype: int64"
      ]
     },
     "execution_count": 83,
     "metadata": {},
     "output_type": "execute_result"
    }
   ],
   "source": [
    "condizioni_vita.groupby('indicatori').size()"
   ]
  },
  {
   "cell_type": "code",
   "execution_count": 84,
   "metadata": {},
   "outputs": [
    {
     "data": {
      "text/plain": [
       "2052"
      ]
     },
     "execution_count": 84,
     "metadata": {},
     "output_type": "execute_result"
    }
   ],
   "source": [
    "misurazioni = []\n",
    "city = []\n",
    "for el in lista_city_index:\n",
    "    city.append(el[0])\n",
    "    misurazioni.append(el[1])\n",
    "len(misurazioni)"
   ]
  },
  {
   "cell_type": "code",
   "execution_count": 85,
   "metadata": {},
   "outputs": [
    {
     "data": {
      "text/plain": [
       "0\n",
       "umber of murders and violent deaths            1026\n",
       "verage annual rent for housing per m² - EUR    1026\n",
       "dtype: int64"
      ]
     },
     "execution_count": 85,
     "metadata": {},
     "output_type": "execute_result"
    }
   ],
   "source": [
    "misurazioni = pd.DataFrame(misurazioni)\n",
    "misurazioni.groupby(0).size()"
   ]
  },
  {
   "cell_type": "code",
   "execution_count": 86,
   "metadata": {},
   "outputs": [
    {
     "data": {
      "text/plain": [
       "1026"
      ]
     },
     "execution_count": 86,
     "metadata": {},
     "output_type": "execute_result"
    }
   ],
   "source": [
    "unici=[]\n",
    "for el in city:\n",
    "    if el not in unici:\n",
    "        unici.append(el)\n",
    "len(unici)"
   ]
  },
  {
   "cell_type": "code",
   "execution_count": 87,
   "metadata": {},
   "outputs": [],
   "source": [
    "diz={}\n",
    "for el in unici:\n",
    "    i=0\n",
    "    for elemento in city:\n",
    "        if elemento==el:\n",
    "            i+=1\n",
    "    diz[el]=i"
   ]
  },
  {
   "cell_type": "code",
   "execution_count": 88,
   "metadata": {},
   "outputs": [
    {
     "data": {
      "text/plain": [
       "[]"
      ]
     },
     "execution_count": 88,
     "metadata": {},
     "output_type": "execute_result"
    }
   ],
   "source": [
    "lista_doppioni=[]\n",
    "for key, value in diz.items() :\n",
    "    if value != 2:\n",
    "        print (key, value)\n",
    "        lista_doppioni.append(key)\n",
    "lista_doppioni"
   ]
  },
  {
   "cell_type": "code",
   "execution_count": 89,
   "metadata": {},
   "outputs": [
    {
     "data": {
      "text/plain": [
       "indicatori\n",
       "umber of murders and violent deaths            1026\n",
       "verage annual rent for housing per m² - EUR    1026\n",
       "dtype: int64"
      ]
     },
     "execution_count": 89,
     "metadata": {},
     "output_type": "execute_result"
    }
   ],
   "source": [
    "condizioni_vita.groupby('indicatori').size()"
   ]
  },
  {
   "cell_type": "code",
   "execution_count": 90,
   "metadata": {},
   "outputs": [],
   "source": [
    "number_of_violent_death = condizioni_vita.loc[1026:]"
   ]
  },
  {
   "cell_type": "code",
   "execution_count": 91,
   "metadata": {},
   "outputs": [],
   "source": [
    "for index, row in number_of_violent_death.iterrows():\n",
    "    for i in range(1990,2019):\n",
    "        row[str(i)] = str(row[str(i)]).replace('e', '')\n",
    "        row[str(i)] = str(row[str(i)]).replace(',', '')\n",
    "        row[str(i)] = str(row[str(i)]).replace('b', '')\n",
    "        row[str(i)] = str(row[str(i)]).replace('d', '')\n",
    "        row[str(i)] = str(row[str(i)]).replace('p', '')\n",
    "        row[str(i)] = str(row[str(i)]).replace('r', '')\n",
    "        row[str(i)] = str(row[str(i)]).replace(': ', ':')\n",
    "        row[str(i)] = str(row[str(i)]).replace(':c', ':')\n",
    "        row[str(i)] = str(row[str(i)]).replace(': c', ':')"
   ]
  },
  {
   "cell_type": "code",
   "execution_count": 92,
   "metadata": {},
   "outputs": [],
   "source": [
    "number_of_violent_death_na = number_of_violent_death.replace(':', np.nan)"
   ]
  },
  {
   "cell_type": "code",
   "execution_count": 93,
   "metadata": {},
   "outputs": [],
   "source": [
    "death_num = number_of_violent_death_na.reset_index(drop=True)\n",
    "death_num_prova = death_num.iloc[:,0:29]\n",
    "death_num_prova = death_num.dropna(how='all')\n",
    "\n",
    "lista_indici=[]\n",
    "for index,row in death_num_prova.iterrows():\n",
    "    lista_indici.append(index)\n",
    "death_num.iloc[lista_indici]['city']\n",
    "\n",
    "death_num_prova = death_num_prova.reset_index(drop=True)"
   ]
  },
  {
   "cell_type": "code",
   "execution_count": null,
   "metadata": {},
   "outputs": [],
   "source": [
    "data_reg = death_num_prova.iloc[:,0:29]\n",
    "data_reg = data_reg.dropna(how='all')\n",
    "list(data_reg.index)"
   ]
  },
  {
   "cell_type": "code",
   "execution_count": 95,
   "metadata": {},
   "outputs": [],
   "source": [
    "from sklearn.preprocessing import Imputer\n",
    "from sklearn.linear_model import LinearRegression\n",
    "from sklearn.impute import SimpleImputer\n",
    "\n",
    "lista_prev2019 = []\n",
    "\n",
    "x = list(range(1990,2019))\n",
    "x=np.array(x).reshape((-1,1))\n",
    "\n",
    "for i in list(data_reg.index):\n",
    "    y = []\n",
    "    for el in data_reg.loc[i]:\n",
    "        y.append(el)\n",
    "        n = np.array(y).reshape((-1,1))\n",
    "    imp = SimpleImputer(missing_values=np.nan, strategy='mean')\n",
    "    imp = imp.fit(n)\n",
    "    y_imp = imp.transform(n)\n",
    "    model = LinearRegression().fit(x, y_imp)\n",
    "    prev = np.arange(1990,2019).reshape((-1,1))\n",
    "    y_pred = model.predict(prev)\n",
    "    lista_prev2019.append(y_pred[-1])"
   ]
  },
  {
   "cell_type": "code",
   "execution_count": 96,
   "metadata": {},
   "outputs": [
    {
     "data": {
      "text/html": [
       "<div>\n",
       "<style scoped>\n",
       "    .dataframe tbody tr th:only-of-type {\n",
       "        vertical-align: middle;\n",
       "    }\n",
       "\n",
       "    .dataframe tbody tr th {\n",
       "        vertical-align: top;\n",
       "    }\n",
       "\n",
       "    .dataframe thead th {\n",
       "        text-align: right;\n",
       "    }\n",
       "</style>\n",
       "<table border=\"1\" class=\"dataframe\">\n",
       "  <thead>\n",
       "    <tr style=\"text-align: right;\">\n",
       "      <th></th>\n",
       "      <th>0</th>\n",
       "    </tr>\n",
       "  </thead>\n",
       "  <tbody>\n",
       "    <tr>\n",
       "      <td>0</td>\n",
       "      <td>198.175066</td>\n",
       "    </tr>\n",
       "    <tr>\n",
       "      <td>1</td>\n",
       "      <td>35.396935</td>\n",
       "    </tr>\n",
       "    <tr>\n",
       "      <td>2</td>\n",
       "      <td>17.052107</td>\n",
       "    </tr>\n",
       "    <tr>\n",
       "      <td>3</td>\n",
       "      <td>5.134100</td>\n",
       "    </tr>\n",
       "    <tr>\n",
       "      <td>4</td>\n",
       "      <td>9.586207</td>\n",
       "    </tr>\n",
       "    <tr>\n",
       "      <td>...</td>\n",
       "      <td>...</td>\n",
       "    </tr>\n",
       "    <tr>\n",
       "      <td>968</td>\n",
       "      <td>0.386207</td>\n",
       "    </tr>\n",
       "    <tr>\n",
       "      <td>969</td>\n",
       "      <td>0.965517</td>\n",
       "    </tr>\n",
       "    <tr>\n",
       "      <td>970</td>\n",
       "      <td>0.000000</td>\n",
       "    </tr>\n",
       "    <tr>\n",
       "      <td>971</td>\n",
       "      <td>0.379310</td>\n",
       "    </tr>\n",
       "    <tr>\n",
       "      <td>972</td>\n",
       "      <td>0.593103</td>\n",
       "    </tr>\n",
       "  </tbody>\n",
       "</table>\n",
       "<p>973 rows × 1 columns</p>\n",
       "</div>"
      ],
      "text/plain": [
       "              0\n",
       "0    198.175066\n",
       "1     35.396935\n",
       "2     17.052107\n",
       "3      5.134100\n",
       "4      9.586207\n",
       "..          ...\n",
       "968    0.386207\n",
       "969    0.965517\n",
       "970    0.000000\n",
       "971    0.379310\n",
       "972    0.593103\n",
       "\n",
       "[973 rows x 1 columns]"
      ]
     },
     "execution_count": 96,
     "metadata": {},
     "output_type": "execute_result"
    }
   ],
   "source": [
    "data_finale = pd.DataFrame(lista_prev2019)\n",
    "data_finale"
   ]
  },
  {
   "cell_type": "code",
   "execution_count": 97,
   "metadata": {},
   "outputs": [
    {
     "data": {
      "text/plain": [
       "0                   Belgium\n",
       "1       Bruxelles / Brussel\n",
       "2                 Antwerpen\n",
       "3                      Gent\n",
       "4                 Charleroi\n",
       "               ...         \n",
       "1021             Winterthur\n",
       "1022             St. Gallen\n",
       "1023                 Luzern\n",
       "1024                 Lugano\n",
       "1025            Biel/Bienne\n",
       "Name: city, Length: 973, dtype: object"
      ]
     },
     "execution_count": 97,
     "metadata": {},
     "output_type": "execute_result"
    }
   ],
   "source": [
    "lista_city_finale = death_num.loc[list(data_reg.index),]['city']\n",
    "lista_city_finale"
   ]
  },
  {
   "cell_type": "code",
   "execution_count": 98,
   "metadata": {},
   "outputs": [],
   "source": [
    "data_finale['city'] = lista_city_finale\n",
    "violent_death2019 = data_finale.dropna().reset_index(drop=True)"
   ]
  },
  {
   "cell_type": "code",
   "execution_count": 101,
   "metadata": {},
   "outputs": [],
   "source": [
    "violent_death2019.columns = ['Number of murders and violent deaths', 'city']\n",
    "violent_death_2019 = Eurostat_db.violent_death_2019\n",
    "violent_death_2019.insert_many(violent_death2019.to_dict('records'))"
   ]
  },
  {
   "cell_type": "code",
   "execution_count": 105,
   "metadata": {},
   "outputs": [],
   "source": [
    "cultura = pd.read_csv('cultura_e_turismo.csv', sep = '\\t',\n",
    "                          encoding =\"ISO-8859-1\", thousands=',')"
   ]
  },
  {
   "cell_type": "code",
   "execution_count": 106,
   "metadata": {},
   "outputs": [],
   "source": [
    "cultura = cultura.drop_duplicates()"
   ]
  },
  {
   "cell_type": "code",
   "execution_count": 107,
   "metadata": {},
   "outputs": [
    {
     "data": {
      "text/plain": [
       "0          [Belgium, umber of museum visitors (per year)]\n",
       "1       [Bruxelles / Brussel, umber of museum visitors...\n",
       "2        [Antwerpen, umber of museum visitors (per year)]\n",
       "3             [Gent, umber of museum visitors (per year)]\n",
       "4        [Charleroi, umber of museum visitors (per year)]\n",
       "                              ...                        \n",
       "6157    [Winterthur, umber of available beds per 1000 ...\n",
       "6158    [St. Gallen, umber of available beds per 1000 ...\n",
       "6159    [Luzern, umber of available beds per 1000 resi...\n",
       "6160    [Lugano, umber of available beds per 1000 resi...\n",
       "6161    [Biel/Bienne, umber of available beds per 1000...\n",
       "Name: CITIES,INDIC_UR\\TIME, Length: 6162, dtype: object"
      ]
     },
     "execution_count": 107,
     "metadata": {},
     "output_type": "execute_result"
    }
   ],
   "source": [
    "lista_citta = cultura['CITIES,INDIC_UR\\TIME'].str.split(',\\w')\n",
    "lista_citta"
   ]
  },
  {
   "cell_type": "code",
   "execution_count": 108,
   "metadata": {},
   "outputs": [
    {
     "data": {
      "text/plain": [
       "6162"
      ]
     },
     "execution_count": 108,
     "metadata": {},
     "output_type": "execute_result"
    }
   ],
   "source": [
    "misurazioni = []\n",
    "city = []\n",
    "for el in lista_citta:\n",
    "    city.append(el[0])\n",
    "    misurazioni.append(el[1])\n",
    "len(misurazioni)"
   ]
  },
  {
   "cell_type": "code",
   "execution_count": 109,
   "metadata": {},
   "outputs": [
    {
     "data": {
      "text/plain": [
       "0\n",
       "otal nights spent in tourist accommodation establishments                            1027\n",
       "otal nights spent in tourist accommodation establishments per resident population    1027\n",
       "umber of available beds per 1000 residents                                           1027\n",
       "umber of bed-places in tourist accommodation establishments                          1027\n",
       "umber of museum visitors (per year)                                                  1027\n",
       "umber of public libraries (all distribution points)                                  1027\n",
       "dtype: int64"
      ]
     },
     "execution_count": 109,
     "metadata": {},
     "output_type": "execute_result"
    }
   ],
   "source": [
    "misurazioni = pd.DataFrame(misurazioni)\n",
    "misurazioni.groupby(0).size()"
   ]
  },
  {
   "cell_type": "code",
   "execution_count": 110,
   "metadata": {},
   "outputs": [
    {
     "data": {
      "text/plain": [
       "1027"
      ]
     },
     "execution_count": 110,
     "metadata": {},
     "output_type": "execute_result"
    }
   ],
   "source": [
    "unici=[]\n",
    "for el in city:\n",
    "    if el not in unici:\n",
    "        unici.append(el)\n",
    "len(unici)"
   ]
  },
  {
   "cell_type": "code",
   "execution_count": 111,
   "metadata": {},
   "outputs": [],
   "source": [
    "diz={}\n",
    "for el in unici:\n",
    "    i=0\n",
    "    for elemento in city:\n",
    "        if elemento==el:\n",
    "            i+=1\n",
    "    diz[el]=i"
   ]
  },
  {
   "cell_type": "code",
   "execution_count": 112,
   "metadata": {},
   "outputs": [
    {
     "data": {
      "text/plain": [
       "[]"
      ]
     },
     "execution_count": 112,
     "metadata": {},
     "output_type": "execute_result"
    }
   ],
   "source": [
    "lista_doppioni=[]\n",
    "for key, value in diz.items() :\n",
    "    if value != 6:\n",
    "        print (key, value)\n",
    "        lista_doppioni.append(key)\n",
    "lista_doppioni"
   ]
  },
  {
   "cell_type": "code",
   "execution_count": 113,
   "metadata": {},
   "outputs": [],
   "source": [
    "cultura['CITIES,INDIC_UR\\TIME']=city"
   ]
  },
  {
   "cell_type": "code",
   "execution_count": 130,
   "metadata": {},
   "outputs": [],
   "source": [
    "nights = cultura[:1027]\n",
    "nights_per_resident = cultura[1027:2054]\n",
    "beds_per_resident = cultura[2054:3081]\n",
    "bed_places = cultura[3081:4108]\n",
    "museum_visitors = cultura[4108:5135]\n",
    "libraries = cultura[5135:]"
   ]
  },
  {
   "cell_type": "code",
   "execution_count": 131,
   "metadata": {},
   "outputs": [],
   "source": [
    "for index, row in nights.iterrows():\n",
    "    for i in range(1990,2020):\n",
    "        row[str(i)] = str(row[str(i)]).replace('e', '')\n",
    "        row[str(i)] = str(row[str(i)]).replace(',', '')\n",
    "        row[str(i)] = str(row[str(i)]).replace('b', '')\n",
    "        row[str(i)] = str(row[str(i)]).replace('d', '')\n",
    "        row[str(i)] = str(row[str(i)]).replace('p', '')\n",
    "        row[str(i)] = str(row[str(i)]).replace('r', '')\n",
    "        row[str(i)] = str(row[str(i)]).replace(':c', ':')\n",
    "        row[str(i)] = str(row[str(i)]).replace(':u', ':')\n",
    "        row[str(i)] = str(row[str(i)]).replace(':u', ':')\n",
    "        row[str(i)] = str(row[str(i)]).replace(': u', ':')\n",
    "        row[str(i)] = str(row[str(i)]).replace(':U', ':')\n",
    "        row[str(i)] = str(row[str(i)]).replace(': ', ':')"
   ]
  },
  {
   "cell_type": "code",
   "execution_count": 132,
   "metadata": {},
   "outputs": [],
   "source": [
    "for index, row in nights_per_resident.iterrows():\n",
    "    for i in range(1990,2020):\n",
    "        row[str(i)] = str(row[str(i)]).replace('e', '')\n",
    "        row[str(i)] = str(row[str(i)]).replace(',', '')\n",
    "        row[str(i)] = str(row[str(i)]).replace('b', '')\n",
    "        row[str(i)] = str(row[str(i)]).replace('d', '')\n",
    "        row[str(i)] = str(row[str(i)]).replace('s', '')\n",
    "        row[str(i)] = str(row[str(i)]).replace('p', '')\n",
    "        row[str(i)] = str(row[str(i)]).replace('r', '')\n",
    "        row[str(i)] = str(row[str(i)]).replace(':c', ':')\n",
    "        row[str(i)] = str(row[str(i)]).replace(':u', ':')\n",
    "        row[str(i)] = str(row[str(i)]).replace(':u', ':')\n",
    "        row[str(i)] = str(row[str(i)]).replace(': u', ':')\n",
    "        row[str(i)] = str(row[str(i)]).replace(':U', ':')\n",
    "        row[str(i)] = str(row[str(i)]).replace(': ', ':')"
   ]
  },
  {
   "cell_type": "code",
   "execution_count": 133,
   "metadata": {},
   "outputs": [],
   "source": [
    "for index, row in beds_per_resident.iterrows():\n",
    "    for i in range(1990,2020):\n",
    "        row[str(i)] = str(row[str(i)]).replace('e', '')\n",
    "        row[str(i)] = str(row[str(i)]).replace(',', '')\n",
    "        row[str(i)] = str(row[str(i)]).replace('b', '')\n",
    "        row[str(i)] = str(row[str(i)]).replace('d', '')\n",
    "        row[str(i)] = str(row[str(i)]).replace('p', '')\n",
    "        row[str(i)] = str(row[str(i)]).replace('r', '')\n",
    "        row[str(i)] = str(row[str(i)]).replace('s', '')\n",
    "        row[str(i)] = str(row[str(i)]).replace(':c', ':')\n",
    "        row[str(i)] = str(row[str(i)]).replace(':u', ':')\n",
    "        row[str(i)] = str(row[str(i)]).replace(':u', ':')\n",
    "        row[str(i)] = str(row[str(i)]).replace(': u', ':')\n",
    "        row[str(i)] = str(row[str(i)]).replace(':U', ':')\n",
    "        row[str(i)] = str(row[str(i)]).replace(': ', ':')"
   ]
  },
  {
   "cell_type": "code",
   "execution_count": 134,
   "metadata": {},
   "outputs": [],
   "source": [
    "for index, row in bed_places.iterrows():\n",
    "    for i in range(1990,2020):\n",
    "        row[str(i)] = str(row[str(i)]).replace('e', '')\n",
    "        row[str(i)] = str(row[str(i)]).replace(',', '')\n",
    "        row[str(i)] = str(row[str(i)]).replace('b', '')\n",
    "        row[str(i)] = str(row[str(i)]).replace('d', '')\n",
    "        row[str(i)] = str(row[str(i)]).replace('p', '')\n",
    "        row[str(i)] = str(row[str(i)]).replace('r', '')\n",
    "        row[str(i)] = str(row[str(i)]).replace('s', '')\n",
    "        row[str(i)] = str(row[str(i)]).replace(':c', ':')\n",
    "        row[str(i)] = str(row[str(i)]).replace(':u', ':')\n",
    "        row[str(i)] = str(row[str(i)]).replace(':u', ':')\n",
    "        row[str(i)] = str(row[str(i)]).replace(': u', ':')\n",
    "        row[str(i)] = str(row[str(i)]).replace(':U', ':')\n",
    "        row[str(i)] = str(row[str(i)]).replace(': ', ':')"
   ]
  },
  {
   "cell_type": "code",
   "execution_count": 135,
   "metadata": {},
   "outputs": [],
   "source": [
    "for index, row in museum_visitors.iterrows():\n",
    "    for i in range(1990,2020):\n",
    "        row[str(i)] = str(row[str(i)]).replace('e', '')\n",
    "        row[str(i)] = str(row[str(i)]).replace(',', '')\n",
    "        row[str(i)] = str(row[str(i)]).replace('b', '')\n",
    "        row[str(i)] = str(row[str(i)]).replace('d', '')\n",
    "        row[str(i)] = str(row[str(i)]).replace('p', '')\n",
    "        row[str(i)] = str(row[str(i)]).replace('r', '')\n",
    "        row[str(i)] = str(row[str(i)]).replace('s', '')\n",
    "        row[str(i)] = str(row[str(i)]).replace(':c', ':')\n",
    "        row[str(i)] = str(row[str(i)]).replace(':u', ':')\n",
    "        row[str(i)] = str(row[str(i)]).replace(':u', ':')\n",
    "        row[str(i)] = str(row[str(i)]).replace(': u', ':')\n",
    "        row[str(i)] = str(row[str(i)]).replace(':U', ':')\n",
    "        row[str(i)] = str(row[str(i)]).replace(': ', ':')"
   ]
  },
  {
   "cell_type": "code",
   "execution_count": 136,
   "metadata": {},
   "outputs": [],
   "source": [
    "for index, row in libraries.iterrows():\n",
    "    for i in range(1990,2020):\n",
    "        row[str(i)] = str(row[str(i)]).replace('e', '')\n",
    "        row[str(i)] = str(row[str(i)]).replace(',', '')\n",
    "        row[str(i)] = str(row[str(i)]).replace('b', '')\n",
    "        row[str(i)] = str(row[str(i)]).replace('d', '')\n",
    "        row[str(i)] = str(row[str(i)]).replace('p', '')\n",
    "        row[str(i)] = str(row[str(i)]).replace('r', '')\n",
    "        row[str(i)] = str(row[str(i)]).replace('s', '')\n",
    "        row[str(i)] = str(row[str(i)]).replace(':c', ':')\n",
    "        row[str(i)] = str(row[str(i)]).replace(':u', ':')\n",
    "        row[str(i)] = str(row[str(i)]).replace(':u', ':')\n",
    "        row[str(i)] = str(row[str(i)]).replace(': u', ':')\n",
    "        row[str(i)] = str(row[str(i)]).replace(':U', ':')\n",
    "        row[str(i)] = str(row[str(i)]).replace(': ', ':')"
   ]
  },
  {
   "cell_type": "code",
   "execution_count": 137,
   "metadata": {},
   "outputs": [],
   "source": [
    "nights = nights.replace(':', np.nan)\n",
    "nights_per_resident = nights_per_resident.replace(':', np.nan)\n",
    "beds_per_resident = beds_per_resident.replace(':', np.nan)\n",
    "bed_places = bed_places.replace(':', np.nan)\n",
    "museum_visitors = museum_visitors.replace(':', np.nan)\n",
    "libraries = libraries.replace(':', np.nan)"
   ]
  },
  {
   "cell_type": "code",
   "execution_count": 138,
   "metadata": {},
   "outputs": [
    {
     "data": {
      "text/plain": [
       "769"
      ]
     },
     "execution_count": 138,
     "metadata": {},
     "output_type": "execute_result"
    }
   ],
   "source": [
    "nights = nights.reset_index(drop=True)\n",
    "nights_prova = nights.iloc[:,1:30]\n",
    "nights_prova = nights_prova.dropna(how='all')\n",
    "\n",
    "lista_indici=[]\n",
    "for index,row in nights_prova.iterrows():\n",
    "    lista_indici.append(index)\n",
    "nights.iloc[lista_indici]['CITIES,INDIC_UR\\TIME']\n",
    "\n",
    "nights_prova = nights_prova.reset_index(drop=True)\n",
    "len(nights_prova)"
   ]
  },
  {
   "cell_type": "code",
   "execution_count": 139,
   "metadata": {},
   "outputs": [],
   "source": [
    "lista_prev2019 = []\n",
    "\n",
    "x = list(range(1990,2019))\n",
    "x = np.array(x).reshape((-1,1))\n",
    "\n",
    "for i in range(0,769):\n",
    "    y = []\n",
    "    for el in nights_prova.loc[i]:\n",
    "        y.append(el)\n",
    "        n = np.array(y).reshape((-1,1))\n",
    "    imp = SimpleImputer(missing_values=np.nan, strategy='mean')\n",
    "    imp = imp.fit(n)\n",
    "    y_imp = imp.transform(n)\n",
    "    model = LinearRegression().fit(x, y_imp)\n",
    "    prev = np.arange(1990,2020).reshape((-1,1))\n",
    "    y_pred = model.predict(prev)\n",
    "    lista_prev2019.append(y_pred[-1])"
   ]
  },
  {
   "cell_type": "code",
   "execution_count": 140,
   "metadata": {},
   "outputs": [
    {
     "data": {
      "text/html": [
       "<div>\n",
       "<style scoped>\n",
       "    .dataframe tbody tr th:only-of-type {\n",
       "        vertical-align: middle;\n",
       "    }\n",
       "\n",
       "    .dataframe tbody tr th {\n",
       "        vertical-align: top;\n",
       "    }\n",
       "\n",
       "    .dataframe thead th {\n",
       "        text-align: right;\n",
       "    }\n",
       "</style>\n",
       "<table border=\"1\" class=\"dataframe\">\n",
       "  <thead>\n",
       "    <tr style=\"text-align: right;\">\n",
       "      <th></th>\n",
       "      <th>0</th>\n",
       "      <th>city</th>\n",
       "    </tr>\n",
       "  </thead>\n",
       "  <tbody>\n",
       "    <tr>\n",
       "      <td>0</td>\n",
       "      <td>2.604648e+06</td>\n",
       "      <td>Belgium</td>\n",
       "    </tr>\n",
       "    <tr>\n",
       "      <td>1</td>\n",
       "      <td>1.177071e+06</td>\n",
       "      <td>Bruxelles / Brussel</td>\n",
       "    </tr>\n",
       "    <tr>\n",
       "      <td>2</td>\n",
       "      <td>8.720082e+05</td>\n",
       "      <td>Antwerpen</td>\n",
       "    </tr>\n",
       "    <tr>\n",
       "      <td>3</td>\n",
       "      <td>9.241979e+04</td>\n",
       "      <td>Gent</td>\n",
       "    </tr>\n",
       "    <tr>\n",
       "      <td>4</td>\n",
       "      <td>1.752855e+05</td>\n",
       "      <td>Charleroi</td>\n",
       "    </tr>\n",
       "    <tr>\n",
       "      <td>...</td>\n",
       "      <td>...</td>\n",
       "      <td>...</td>\n",
       "    </tr>\n",
       "    <tr>\n",
       "      <td>764</td>\n",
       "      <td>5.484699e+05</td>\n",
       "      <td>Iasi</td>\n",
       "    </tr>\n",
       "    <tr>\n",
       "      <td>765</td>\n",
       "      <td>4.842866e+05</td>\n",
       "      <td>Galati</td>\n",
       "    </tr>\n",
       "    <tr>\n",
       "      <td>766</td>\n",
       "      <td>2.314999e+05</td>\n",
       "      <td>Brasov</td>\n",
       "    </tr>\n",
       "    <tr>\n",
       "      <td>767</td>\n",
       "      <td>8.591049e+05</td>\n",
       "      <td>Ploiesti</td>\n",
       "    </tr>\n",
       "    <tr>\n",
       "      <td>768</td>\n",
       "      <td>3.589062e+04</td>\n",
       "      <td>Pitesti</td>\n",
       "    </tr>\n",
       "  </tbody>\n",
       "</table>\n",
       "<p>769 rows × 2 columns</p>\n",
       "</div>"
      ],
      "text/plain": [
       "                0                 city\n",
       "0    2.604648e+06              Belgium\n",
       "1    1.177071e+06  Bruxelles / Brussel\n",
       "2    8.720082e+05            Antwerpen\n",
       "3    9.241979e+04                 Gent\n",
       "4    1.752855e+05            Charleroi\n",
       "..            ...                  ...\n",
       "764  5.484699e+05                 Iasi\n",
       "765  4.842866e+05               Galati\n",
       "766  2.314999e+05               Brasov\n",
       "767  8.591049e+05             Ploiesti\n",
       "768  3.589062e+04              Pitesti\n",
       "\n",
       "[769 rows x 2 columns]"
      ]
     },
     "execution_count": 140,
     "metadata": {},
     "output_type": "execute_result"
    }
   ],
   "source": [
    "nights2019 = pd.DataFrame(lista_prev2019)\n",
    "nights2019['city'] = nights['CITIES,INDIC_UR\\TIME']\n",
    "nights2019"
   ]
  },
  {
   "cell_type": "code",
   "execution_count": 141,
   "metadata": {},
   "outputs": [
    {
     "data": {
      "text/plain": [
       "820"
      ]
     },
     "execution_count": 141,
     "metadata": {},
     "output_type": "execute_result"
    }
   ],
   "source": [
    "nights_per_resident = nights_per_resident.reset_index(drop=True)\n",
    "nights_per_resident_prova = nights_per_resident.iloc[:,1:30]\n",
    "nights_per_resident_prova = nights_per_resident_prova.dropna(how='all')\n",
    "\n",
    "lista_indici=[]\n",
    "for index,row in nights_per_resident_prova.iterrows():\n",
    "    lista_indici.append(index)\n",
    "nights_per_resident.iloc[lista_indici]['CITIES,INDIC_UR\\TIME']\n",
    "\n",
    "nights_per_resident_prova = nights_per_resident_prova.reset_index(drop=True)\n",
    "len(nights_per_resident_prova)"
   ]
  },
  {
   "cell_type": "code",
   "execution_count": 142,
   "metadata": {},
   "outputs": [],
   "source": [
    "lista_prev2019 = []\n",
    "\n",
    "x = list(range(1990,2019))\n",
    "x = np.array(x).reshape((-1,1))\n",
    "\n",
    "for i in range(0,820):\n",
    "    y = []\n",
    "    for el in nights_per_resident_prova.loc[i]:\n",
    "        y.append(el)\n",
    "        n = np.array(y).reshape((-1,1))\n",
    "    imp = SimpleImputer(missing_values=np.nan, strategy='mean')\n",
    "    imp = imp.fit(n)\n",
    "    y_imp = imp.transform(n)\n",
    "    model = LinearRegression().fit(x, y_imp)\n",
    "    prev = np.arange(1990,2020).reshape((-1,1))\n",
    "    y_pred = model.predict(prev)\n",
    "    lista_prev2019.append(y_pred[-1])"
   ]
  },
  {
   "cell_type": "code",
   "execution_count": 143,
   "metadata": {},
   "outputs": [
    {
     "data": {
      "text/html": [
       "<div>\n",
       "<style scoped>\n",
       "    .dataframe tbody tr th:only-of-type {\n",
       "        vertical-align: middle;\n",
       "    }\n",
       "\n",
       "    .dataframe tbody tr th {\n",
       "        vertical-align: top;\n",
       "    }\n",
       "\n",
       "    .dataframe thead th {\n",
       "        text-align: right;\n",
       "    }\n",
       "</style>\n",
       "<table border=\"1\" class=\"dataframe\">\n",
       "  <thead>\n",
       "    <tr style=\"text-align: right;\">\n",
       "      <th></th>\n",
       "      <th>0</th>\n",
       "      <th>city</th>\n",
       "    </tr>\n",
       "  </thead>\n",
       "  <tbody>\n",
       "    <tr>\n",
       "      <td>0</td>\n",
       "      <td>76.471921</td>\n",
       "      <td>Belgium</td>\n",
       "    </tr>\n",
       "    <tr>\n",
       "      <td>1</td>\n",
       "      <td>27.825534</td>\n",
       "      <td>Bruxelles / Brussel</td>\n",
       "    </tr>\n",
       "    <tr>\n",
       "      <td>2</td>\n",
       "      <td>18.128079</td>\n",
       "      <td>Antwerpen</td>\n",
       "    </tr>\n",
       "    <tr>\n",
       "      <td>3</td>\n",
       "      <td>15.654351</td>\n",
       "      <td>Gent</td>\n",
       "    </tr>\n",
       "    <tr>\n",
       "      <td>4</td>\n",
       "      <td>46.050903</td>\n",
       "      <td>Charleroi</td>\n",
       "    </tr>\n",
       "    <tr>\n",
       "      <td>...</td>\n",
       "      <td>...</td>\n",
       "      <td>...</td>\n",
       "    </tr>\n",
       "    <tr>\n",
       "      <td>815</td>\n",
       "      <td>8.000000</td>\n",
       "      <td>Glasgow City</td>\n",
       "    </tr>\n",
       "    <tr>\n",
       "      <td>816</td>\n",
       "      <td>7.000000</td>\n",
       "      <td>Bradford</td>\n",
       "    </tr>\n",
       "    <tr>\n",
       "      <td>817</td>\n",
       "      <td>5.750000</td>\n",
       "      <td>Liverpool</td>\n",
       "    </tr>\n",
       "    <tr>\n",
       "      <td>818</td>\n",
       "      <td>16.000000</td>\n",
       "      <td>City of Edinburgh</td>\n",
       "    </tr>\n",
       "    <tr>\n",
       "      <td>819</td>\n",
       "      <td>1.000000</td>\n",
       "      <td>Manchester</td>\n",
       "    </tr>\n",
       "  </tbody>\n",
       "</table>\n",
       "<p>820 rows × 2 columns</p>\n",
       "</div>"
      ],
      "text/plain": [
       "             0                 city\n",
       "0    76.471921              Belgium\n",
       "1    27.825534  Bruxelles / Brussel\n",
       "2    18.128079            Antwerpen\n",
       "3    15.654351                 Gent\n",
       "4    46.050903            Charleroi\n",
       "..         ...                  ...\n",
       "815   8.000000         Glasgow City\n",
       "816   7.000000             Bradford\n",
       "817   5.750000            Liverpool\n",
       "818  16.000000    City of Edinburgh\n",
       "819   1.000000           Manchester\n",
       "\n",
       "[820 rows x 2 columns]"
      ]
     },
     "execution_count": 143,
     "metadata": {},
     "output_type": "execute_result"
    }
   ],
   "source": [
    "nights_per_resident2019 = pd.DataFrame(lista_prev2019)\n",
    "nights_per_resident2019['city'] = nights_per_resident['CITIES,INDIC_UR\\TIME']\n",
    "nights_per_resident2019"
   ]
  },
  {
   "cell_type": "code",
   "execution_count": 144,
   "metadata": {},
   "outputs": [
    {
     "data": {
      "text/plain": [
       "815"
      ]
     },
     "execution_count": 144,
     "metadata": {},
     "output_type": "execute_result"
    }
   ],
   "source": [
    "beds_per_resident = beds_per_resident.reset_index(drop=True)\n",
    "beds_per_resident_prova = beds_per_resident.iloc[:,1:30]\n",
    "beds_per_resident_prova = beds_per_resident_prova.dropna(how='all')\n",
    "\n",
    "lista_indici=[]\n",
    "for index,row in beds_per_resident_prova.iterrows():\n",
    "    lista_indici.append(index)\n",
    "beds_per_resident.iloc[lista_indici]['CITIES,INDIC_UR\\TIME']\n",
    "\n",
    "beds_per_resident_prova = beds_per_resident_prova.reset_index(drop=True)\n",
    "len(beds_per_resident_prova)"
   ]
  },
  {
   "cell_type": "code",
   "execution_count": 145,
   "metadata": {},
   "outputs": [],
   "source": [
    "lista_prev2019 = []\n",
    "\n",
    "x = list(range(1990,2019))\n",
    "x = np.array(x).reshape((-1,1))\n",
    "\n",
    "for i in range(0,815):\n",
    "    y = []\n",
    "    for el in beds_per_resident_prova.loc[i]:\n",
    "        y.append(el)\n",
    "        n = np.array(y).reshape((-1,1))\n",
    "    imp = SimpleImputer(missing_values=np.nan, strategy='mean')\n",
    "    imp = imp.fit(n)\n",
    "    y_imp = imp.transform(n)\n",
    "    model = LinearRegression().fit(x, y_imp)\n",
    "    prev = np.arange(1990,2020).reshape((-1,1))\n",
    "    y_pred = model.predict(prev)\n",
    "    lista_prev2019.append(y_pred[-1])"
   ]
  },
  {
   "cell_type": "code",
   "execution_count": 146,
   "metadata": {},
   "outputs": [
    {
     "data": {
      "text/html": [
       "<div>\n",
       "<style scoped>\n",
       "    .dataframe tbody tr th:only-of-type {\n",
       "        vertical-align: middle;\n",
       "    }\n",
       "\n",
       "    .dataframe tbody tr th {\n",
       "        vertical-align: top;\n",
       "    }\n",
       "\n",
       "    .dataframe thead th {\n",
       "        text-align: right;\n",
       "    }\n",
       "</style>\n",
       "<table border=\"1\" class=\"dataframe\">\n",
       "  <thead>\n",
       "    <tr style=\"text-align: right;\">\n",
       "      <th></th>\n",
       "      <th>0</th>\n",
       "      <th>city</th>\n",
       "    </tr>\n",
       "  </thead>\n",
       "  <tbody>\n",
       "    <tr>\n",
       "      <td>0</td>\n",
       "      <td>3.438823e+07</td>\n",
       "      <td>Belgium</td>\n",
       "    </tr>\n",
       "    <tr>\n",
       "      <td>1</td>\n",
       "      <td>5.772217e+06</td>\n",
       "      <td>Bruxelles / Brussel</td>\n",
       "    </tr>\n",
       "    <tr>\n",
       "      <td>2</td>\n",
       "      <td>1.525453e+06</td>\n",
       "      <td>Antwerpen</td>\n",
       "    </tr>\n",
       "    <tr>\n",
       "      <td>3</td>\n",
       "      <td>7.608346e+05</td>\n",
       "      <td>Gent</td>\n",
       "    </tr>\n",
       "    <tr>\n",
       "      <td>4</td>\n",
       "      <td>2.178220e+05</td>\n",
       "      <td>Charleroi</td>\n",
       "    </tr>\n",
       "    <tr>\n",
       "      <td>...</td>\n",
       "      <td>...</td>\n",
       "      <td>...</td>\n",
       "    </tr>\n",
       "    <tr>\n",
       "      <td>810</td>\n",
       "      <td>1.631922e+05</td>\n",
       "      <td>Lund</td>\n",
       "    </tr>\n",
       "    <tr>\n",
       "      <td>811</td>\n",
       "      <td>1.754722e+05</td>\n",
       "      <td>Borås</td>\n",
       "    </tr>\n",
       "    <tr>\n",
       "      <td>812</td>\n",
       "      <td>1.102733e+06</td>\n",
       "      <td>United Kingdom</td>\n",
       "    </tr>\n",
       "    <tr>\n",
       "      <td>813</td>\n",
       "      <td>5.367015e+05</td>\n",
       "      <td>Birmingham</td>\n",
       "    </tr>\n",
       "    <tr>\n",
       "      <td>814</td>\n",
       "      <td>9.138672e+04</td>\n",
       "      <td>Leeds</td>\n",
       "    </tr>\n",
       "  </tbody>\n",
       "</table>\n",
       "<p>815 rows × 2 columns</p>\n",
       "</div>"
      ],
      "text/plain": [
       "                0                 city\n",
       "0    3.438823e+07              Belgium\n",
       "1    5.772217e+06  Bruxelles / Brussel\n",
       "2    1.525453e+06            Antwerpen\n",
       "3    7.608346e+05                 Gent\n",
       "4    2.178220e+05            Charleroi\n",
       "..            ...                  ...\n",
       "810  1.631922e+05                 Lund\n",
       "811  1.754722e+05                Borås\n",
       "812  1.102733e+06       United Kingdom\n",
       "813  5.367015e+05           Birmingham\n",
       "814  9.138672e+04                Leeds\n",
       "\n",
       "[815 rows x 2 columns]"
      ]
     },
     "execution_count": 146,
     "metadata": {},
     "output_type": "execute_result"
    }
   ],
   "source": [
    "beds_per_resident2019 = pd.DataFrame(lista_prev2019)\n",
    "beds_per_resident2019['city'] = beds_per_resident['CITIES,INDIC_UR\\TIME']\n",
    "beds_per_resident2019"
   ]
  },
  {
   "cell_type": "code",
   "execution_count": 147,
   "metadata": {},
   "outputs": [
    {
     "data": {
      "text/plain": [
       "821"
      ]
     },
     "execution_count": 147,
     "metadata": {},
     "output_type": "execute_result"
    }
   ],
   "source": [
    "bed_places = bed_places.reset_index(drop=True)\n",
    "bed_places_prova = bed_places.iloc[:,1:30]\n",
    "bed_places_prova = bed_places_prova.dropna(how='all')\n",
    "\n",
    "lista_indici=[]\n",
    "for index,row in bed_places_prova.iterrows():\n",
    "    lista_indici.append(index)\n",
    "bed_places.iloc[lista_indici]['CITIES,INDIC_UR\\TIME']\n",
    "\n",
    "bed_places_prova = bed_places_prova.reset_index(drop=True)\n",
    "len(bed_places_prova)"
   ]
  },
  {
   "cell_type": "code",
   "execution_count": 148,
   "metadata": {},
   "outputs": [],
   "source": [
    "lista_prev2019 = []\n",
    "\n",
    "x = list(range(1990,2019))\n",
    "x = np.array(x).reshape((-1,1))\n",
    "\n",
    "for i in range(0,821):\n",
    "    y = []\n",
    "    for el in bed_places_prova.loc[i]:\n",
    "        y.append(el)\n",
    "        n = np.array(y).reshape((-1,1))\n",
    "    imp = SimpleImputer(missing_values=np.nan, strategy='mean')\n",
    "    imp = imp.fit(n)\n",
    "    y_imp = imp.transform(n)\n",
    "    model = LinearRegression().fit(x, y_imp)\n",
    "    prev = np.arange(1990,2020).reshape((-1,1))\n",
    "    y_pred = model.predict(prev)\n",
    "    lista_prev2019.append(y_pred[-1])"
   ]
  },
  {
   "cell_type": "code",
   "execution_count": 149,
   "metadata": {},
   "outputs": [
    {
     "data": {
      "text/html": [
       "<div>\n",
       "<style scoped>\n",
       "    .dataframe tbody tr th:only-of-type {\n",
       "        vertical-align: middle;\n",
       "    }\n",
       "\n",
       "    .dataframe tbody tr th {\n",
       "        vertical-align: top;\n",
       "    }\n",
       "\n",
       "    .dataframe thead th {\n",
       "        text-align: right;\n",
       "    }\n",
       "</style>\n",
       "<table border=\"1\" class=\"dataframe\">\n",
       "  <thead>\n",
       "    <tr style=\"text-align: right;\">\n",
       "      <th></th>\n",
       "      <th>0</th>\n",
       "      <th>city</th>\n",
       "    </tr>\n",
       "  </thead>\n",
       "  <tbody>\n",
       "    <tr>\n",
       "      <td>0</td>\n",
       "      <td>288555.857661</td>\n",
       "      <td>Belgium</td>\n",
       "    </tr>\n",
       "    <tr>\n",
       "      <td>1</td>\n",
       "      <td>36839.657225</td>\n",
       "      <td>Bruxelles / Brussel</td>\n",
       "    </tr>\n",
       "    <tr>\n",
       "      <td>2</td>\n",
       "      <td>12217.141010</td>\n",
       "      <td>Antwerpen</td>\n",
       "    </tr>\n",
       "    <tr>\n",
       "      <td>3</td>\n",
       "      <td>6174.183908</td>\n",
       "      <td>Gent</td>\n",
       "    </tr>\n",
       "    <tr>\n",
       "      <td>4</td>\n",
       "      <td>1378.833128</td>\n",
       "      <td>Charleroi</td>\n",
       "    </tr>\n",
       "    <tr>\n",
       "      <td>...</td>\n",
       "      <td>...</td>\n",
       "      <td>...</td>\n",
       "    </tr>\n",
       "    <tr>\n",
       "      <td>816</td>\n",
       "      <td>1099.964759</td>\n",
       "      <td>Bradford</td>\n",
       "    </tr>\n",
       "    <tr>\n",
       "      <td>817</td>\n",
       "      <td>1261.825881</td>\n",
       "      <td>Liverpool</td>\n",
       "    </tr>\n",
       "    <tr>\n",
       "      <td>818</td>\n",
       "      <td>5519.648541</td>\n",
       "      <td>City of Edinburgh</td>\n",
       "    </tr>\n",
       "    <tr>\n",
       "      <td>819</td>\n",
       "      <td>3041.176014</td>\n",
       "      <td>Manchester</td>\n",
       "    </tr>\n",
       "    <tr>\n",
       "      <td>820</td>\n",
       "      <td>592.162941</td>\n",
       "      <td>Cardiff</td>\n",
       "    </tr>\n",
       "  </tbody>\n",
       "</table>\n",
       "<p>821 rows × 2 columns</p>\n",
       "</div>"
      ],
      "text/plain": [
       "                 0                 city\n",
       "0    288555.857661              Belgium\n",
       "1     36839.657225  Bruxelles / Brussel\n",
       "2     12217.141010            Antwerpen\n",
       "3      6174.183908                 Gent\n",
       "4      1378.833128            Charleroi\n",
       "..             ...                  ...\n",
       "816    1099.964759             Bradford\n",
       "817    1261.825881            Liverpool\n",
       "818    5519.648541    City of Edinburgh\n",
       "819    3041.176014           Manchester\n",
       "820     592.162941              Cardiff\n",
       "\n",
       "[821 rows x 2 columns]"
      ]
     },
     "execution_count": 149,
     "metadata": {},
     "output_type": "execute_result"
    }
   ],
   "source": [
    "bed_places2019 = pd.DataFrame(lista_prev2019)\n",
    "bed_places2019['city'] = bed_places['CITIES,INDIC_UR\\TIME']\n",
    "bed_places2019"
   ]
  },
  {
   "cell_type": "code",
   "execution_count": 150,
   "metadata": {},
   "outputs": [
    {
     "data": {
      "text/plain": [
       "811"
      ]
     },
     "execution_count": 150,
     "metadata": {},
     "output_type": "execute_result"
    }
   ],
   "source": [
    "museum_visitors = museum_visitors.reset_index(drop=True)\n",
    "museum_visitors_prova = museum_visitors.iloc[:,1:30]\n",
    "museum_visitors_prova = museum_visitors_prova.dropna(how='all')\n",
    "\n",
    "lista_indici=[]\n",
    "for index,row in museum_visitors_prova.iterrows():\n",
    "    lista_indici.append(index)\n",
    "museum_visitors.iloc[lista_indici]['CITIES,INDIC_UR\\TIME']\n",
    "\n",
    "museum_visitors_prova = museum_visitors_prova.reset_index(drop=True)\n",
    "len(museum_visitors_prova)"
   ]
  },
  {
   "cell_type": "code",
   "execution_count": 151,
   "metadata": {},
   "outputs": [],
   "source": [
    "lista_prev2019 = []\n",
    "\n",
    "x = list(range(1990,2019))\n",
    "x = np.array(x).reshape((-1,1))\n",
    "\n",
    "for i in range(0,811):\n",
    "    y = []\n",
    "    for el in museum_visitors_prova.loc[i]:\n",
    "        y.append(el)\n",
    "        n = np.array(y).reshape((-1,1))\n",
    "    imp = SimpleImputer(missing_values=np.nan, strategy='mean')\n",
    "    imp = imp.fit(n)\n",
    "    y_imp = imp.transform(n)\n",
    "    model = LinearRegression().fit(x, y_imp)\n",
    "    prev = np.arange(1990,2020).reshape((-1,1))\n",
    "    y_pred = model.predict(prev)\n",
    "    lista_prev2019.append(y_pred[-1])"
   ]
  },
  {
   "cell_type": "code",
   "execution_count": 152,
   "metadata": {},
   "outputs": [
    {
     "data": {
      "text/html": [
       "<div>\n",
       "<style scoped>\n",
       "    .dataframe tbody tr th:only-of-type {\n",
       "        vertical-align: middle;\n",
       "    }\n",
       "\n",
       "    .dataframe tbody tr th {\n",
       "        vertical-align: top;\n",
       "    }\n",
       "\n",
       "    .dataframe thead th {\n",
       "        text-align: right;\n",
       "    }\n",
       "</style>\n",
       "<table border=\"1\" class=\"dataframe\">\n",
       "  <thead>\n",
       "    <tr style=\"text-align: right;\">\n",
       "      <th></th>\n",
       "      <th>0</th>\n",
       "      <th>city</th>\n",
       "    </tr>\n",
       "  </thead>\n",
       "  <tbody>\n",
       "    <tr>\n",
       "      <td>0</td>\n",
       "      <td>3.076995</td>\n",
       "      <td>Belgium</td>\n",
       "    </tr>\n",
       "    <tr>\n",
       "      <td>1</td>\n",
       "      <td>5.026683</td>\n",
       "      <td>Bruxelles / Brussel</td>\n",
       "    </tr>\n",
       "    <tr>\n",
       "      <td>2</td>\n",
       "      <td>3.127094</td>\n",
       "      <td>Antwerpen</td>\n",
       "    </tr>\n",
       "    <tr>\n",
       "      <td>3</td>\n",
       "      <td>3.102956</td>\n",
       "      <td>Gent</td>\n",
       "    </tr>\n",
       "    <tr>\n",
       "      <td>4</td>\n",
       "      <td>1.077494</td>\n",
       "      <td>Charleroi</td>\n",
       "    </tr>\n",
       "    <tr>\n",
       "      <td>...</td>\n",
       "      <td>...</td>\n",
       "      <td>...</td>\n",
       "    </tr>\n",
       "    <tr>\n",
       "      <td>806</td>\n",
       "      <td>1.602709</td>\n",
       "      <td>Örebro</td>\n",
       "    </tr>\n",
       "    <tr>\n",
       "      <td>807</td>\n",
       "      <td>2.362562</td>\n",
       "      <td>Västerås</td>\n",
       "    </tr>\n",
       "    <tr>\n",
       "      <td>808</td>\n",
       "      <td>14.026601</td>\n",
       "      <td>Norrköping</td>\n",
       "    </tr>\n",
       "    <tr>\n",
       "      <td>809</td>\n",
       "      <td>9.463793</td>\n",
       "      <td>Helsingborg</td>\n",
       "    </tr>\n",
       "    <tr>\n",
       "      <td>810</td>\n",
       "      <td>1.777833</td>\n",
       "      <td>Lund</td>\n",
       "    </tr>\n",
       "  </tbody>\n",
       "</table>\n",
       "<p>811 rows × 2 columns</p>\n",
       "</div>"
      ],
      "text/plain": [
       "             0                 city\n",
       "0     3.076995              Belgium\n",
       "1     5.026683  Bruxelles / Brussel\n",
       "2     3.127094            Antwerpen\n",
       "3     3.102956                 Gent\n",
       "4     1.077494            Charleroi\n",
       "..         ...                  ...\n",
       "806   1.602709               Örebro\n",
       "807   2.362562             Västerås\n",
       "808  14.026601           Norrköping\n",
       "809   9.463793          Helsingborg\n",
       "810   1.777833                 Lund\n",
       "\n",
       "[811 rows x 2 columns]"
      ]
     },
     "execution_count": 152,
     "metadata": {},
     "output_type": "execute_result"
    }
   ],
   "source": [
    "museum_visitors2019 = pd.DataFrame(lista_prev2019)\n",
    "museum_visitors2019['city'] = museum_visitors['CITIES,INDIC_UR\\TIME']\n",
    "museum_visitors2019"
   ]
  },
  {
   "cell_type": "code",
   "execution_count": 153,
   "metadata": {},
   "outputs": [
    {
     "data": {
      "text/plain": [
       "819"
      ]
     },
     "execution_count": 153,
     "metadata": {},
     "output_type": "execute_result"
    }
   ],
   "source": [
    "libraries = libraries.reset_index(drop=True)\n",
    "libraries_prova = libraries.iloc[:,1:30]\n",
    "libraries_prova = libraries_prova.dropna(how='all')\n",
    "\n",
    "lista_indici=[]\n",
    "for index,row in libraries_prova.iterrows():\n",
    "    lista_indici.append(index)\n",
    "libraries.iloc[lista_indici]['CITIES,INDIC_UR\\TIME']\n",
    "\n",
    "libraries_prova = libraries_prova.reset_index(drop=True)\n",
    "len(libraries_prova)"
   ]
  },
  {
   "cell_type": "code",
   "execution_count": 154,
   "metadata": {},
   "outputs": [],
   "source": [
    "lista_prev2019 = []\n",
    "\n",
    "x = list(range(1990,2019))\n",
    "x = np.array(x).reshape((-1,1))\n",
    "\n",
    "for i in range(0,819):\n",
    "    y = []\n",
    "    for el in libraries_prova.loc[i]:\n",
    "        y.append(el)\n",
    "        n = np.array(y).reshape((-1,1))\n",
    "    imp = SimpleImputer(missing_values=np.nan, strategy='mean')\n",
    "    imp = imp.fit(n)\n",
    "    y_imp = imp.transform(n)\n",
    "    model = LinearRegression().fit(x, y_imp)\n",
    "    prev = np.arange(1990,2020).reshape((-1,1))\n",
    "    y_pred = model.predict(prev)\n",
    "    lista_prev2019.append(y_pred[-1])"
   ]
  },
  {
   "cell_type": "code",
   "execution_count": 155,
   "metadata": {},
   "outputs": [
    {
     "data": {
      "text/html": [
       "<div>\n",
       "<style scoped>\n",
       "    .dataframe tbody tr th:only-of-type {\n",
       "        vertical-align: middle;\n",
       "    }\n",
       "\n",
       "    .dataframe tbody tr th {\n",
       "        vertical-align: top;\n",
       "    }\n",
       "\n",
       "    .dataframe thead th {\n",
       "        text-align: right;\n",
       "    }\n",
       "</style>\n",
       "<table border=\"1\" class=\"dataframe\">\n",
       "  <thead>\n",
       "    <tr style=\"text-align: right;\">\n",
       "      <th></th>\n",
       "      <th>0</th>\n",
       "      <th>city</th>\n",
       "    </tr>\n",
       "  </thead>\n",
       "  <tbody>\n",
       "    <tr>\n",
       "      <td>0</td>\n",
       "      <td>26.111162</td>\n",
       "      <td>Belgium</td>\n",
       "    </tr>\n",
       "    <tr>\n",
       "      <td>1</td>\n",
       "      <td>31.913670</td>\n",
       "      <td>Bruxelles / Brussel</td>\n",
       "    </tr>\n",
       "    <tr>\n",
       "      <td>2</td>\n",
       "      <td>24.175411</td>\n",
       "      <td>Antwerpen</td>\n",
       "    </tr>\n",
       "    <tr>\n",
       "      <td>3</td>\n",
       "      <td>24.508292</td>\n",
       "      <td>Gent</td>\n",
       "    </tr>\n",
       "    <tr>\n",
       "      <td>4</td>\n",
       "      <td>6.807718</td>\n",
       "      <td>Charleroi</td>\n",
       "    </tr>\n",
       "    <tr>\n",
       "      <td>...</td>\n",
       "      <td>...</td>\n",
       "      <td>...</td>\n",
       "    </tr>\n",
       "    <tr>\n",
       "      <td>814</td>\n",
       "      <td>10.817931</td>\n",
       "      <td>Leeds</td>\n",
       "    </tr>\n",
       "    <tr>\n",
       "      <td>815</td>\n",
       "      <td>17.041798</td>\n",
       "      <td>Glasgow City</td>\n",
       "    </tr>\n",
       "    <tr>\n",
       "      <td>816</td>\n",
       "      <td>69.990591</td>\n",
       "      <td>Bradford</td>\n",
       "    </tr>\n",
       "    <tr>\n",
       "      <td>817</td>\n",
       "      <td>53.459828</td>\n",
       "      <td>Liverpool</td>\n",
       "    </tr>\n",
       "    <tr>\n",
       "      <td>818</td>\n",
       "      <td>11.457438</td>\n",
       "      <td>City of Edinburgh</td>\n",
       "    </tr>\n",
       "  </tbody>\n",
       "</table>\n",
       "<p>819 rows × 2 columns</p>\n",
       "</div>"
      ],
      "text/plain": [
       "             0                 city\n",
       "0    26.111162              Belgium\n",
       "1    31.913670  Bruxelles / Brussel\n",
       "2    24.175411            Antwerpen\n",
       "3    24.508292                 Gent\n",
       "4     6.807718            Charleroi\n",
       "..         ...                  ...\n",
       "814  10.817931                Leeds\n",
       "815  17.041798         Glasgow City\n",
       "816  69.990591             Bradford\n",
       "817  53.459828            Liverpool\n",
       "818  11.457438    City of Edinburgh\n",
       "\n",
       "[819 rows x 2 columns]"
      ]
     },
     "execution_count": 155,
     "metadata": {},
     "output_type": "execute_result"
    }
   ],
   "source": [
    "libraries2019 = pd.DataFrame(lista_prev2019)\n",
    "libraries2019['city'] = libraries['CITIES,INDIC_UR\\TIME']\n",
    "libraries2019"
   ]
  },
  {
   "cell_type": "code",
   "execution_count": 156,
   "metadata": {},
   "outputs": [],
   "source": [
    "nights2019.columns = ['Total nights spent in tourist accommodation establishments', 'city']\n",
    "nights_per_resident2019.columns = ['Total nights spent in tourist accommodation establishments per resident population', 'city']\n",
    "beds_per_resident2019.columns = ['Number of bed-places in tourist accommodation establishments', 'city']\n",
    "bed_places2019.columns = ['Number of available beds per 1000 residents', 'city']\n",
    "museum_visitors2019.columns = ['Number of museum visitors', 'city']\n",
    "libraries2019.columns = ['Number of public libraries', 'city']\n",
    "nights_2019 = Eurostat_db.nights_2019\n",
    "nights_per_resident_2019 = Eurostat_db.nights_per_resident_2019\n",
    "beds_per_resident_2019 = Eurostat_db.beds_per_resident_2019\n",
    "bed_places_2019 = Eurostat_db.bed_places_2019\n",
    "museum_visitors_2019 = Eurostat_db.museum_visitors_2019\n",
    "libraries_2019 = Eurostat_db.libraries_2019\n",
    "nights_2019.insert_many(nights2019.to_dict('records'))\n",
    "nights_per_resident_2019.insert_many(nights_per_resident2019.to_dict('records'))\n",
    "beds_per_resident_2019.insert_many(beds_per_resident2019.to_dict('records'))\n",
    "bed_places_2019.insert_many(bed_places2019.to_dict('records'))\n",
    "museum_visitors_2019.insert_many(museum_visitors2019.to_dict('records'))\n",
    "libraries_2019.insert_many(libraries2019.to_dict('records'))"
   ]
  },
  {
   "cell_type": "code",
   "execution_count": 377,
   "metadata": {},
   "outputs": [],
   "source": [
    "popolazione = pd.read_csv('popolazione.csv', sep = '\\t',\n",
    "                          encoding =\"ISO-8859-1\", thousands=',')"
   ]
  },
  {
   "cell_type": "code",
   "execution_count": 378,
   "metadata": {},
   "outputs": [],
   "source": [
    "popolazione = popolazione.drop_duplicates()"
   ]
  },
  {
   "cell_type": "code",
   "execution_count": 379,
   "metadata": {},
   "outputs": [],
   "source": [
    "lista_citta = popolazione['CITIES,INDIC_UR\\TIME'].str.split(',\\w')"
   ]
  },
  {
   "cell_type": "code",
   "execution_count": 380,
   "metadata": {},
   "outputs": [
    {
     "data": {
      "text/plain": [
       "1076"
      ]
     },
     "execution_count": 380,
     "metadata": {},
     "output_type": "execute_result"
    }
   ],
   "source": [
    "misurazioni = []\n",
    "city = []\n",
    "for el in lista_citta:\n",
    "    city.append(el[0])\n",
    "    misurazioni.append(el[1])\n",
    "len(misurazioni)"
   ]
  },
  {
   "cell_type": "code",
   "execution_count": 381,
   "metadata": {},
   "outputs": [
    {
     "name": "stdout",
     "output_type": "stream",
     "text": [
      "206\n",
      "207\n"
     ]
    }
   ],
   "source": [
    "i=0\n",
    "for el in city:\n",
    "    if el == 'Madrid':\n",
    "        print(i)\n",
    "    i+=1"
   ]
  },
  {
   "cell_type": "code",
   "execution_count": 382,
   "metadata": {},
   "outputs": [],
   "source": [
    "popolazione = popolazione.drop(popolazione.index[207])"
   ]
  },
  {
   "cell_type": "code",
   "execution_count": 383,
   "metadata": {},
   "outputs": [
    {
     "data": {
      "text/plain": [
       "1075"
      ]
     },
     "execution_count": 383,
     "metadata": {},
     "output_type": "execute_result"
    }
   ],
   "source": [
    "lista_citta = popolazione['CITIES,INDIC_UR\\TIME'].str.split(',\\w')\n",
    "misurazioni = []\n",
    "city = []\n",
    "for el in lista_citta:\n",
    "    city.append(el[0])\n",
    "    misurazioni.append(el[1])\n",
    "len(misurazioni)"
   ]
  },
  {
   "cell_type": "code",
   "execution_count": 384,
   "metadata": {},
   "outputs": [
    {
     "name": "stdout",
     "output_type": "stream",
     "text": [
      "207\n",
      "208\n"
     ]
    }
   ],
   "source": [
    "i=0\n",
    "for el in city:\n",
    "    if el == 'Barcelona':\n",
    "        print(i)\n",
    "    i+=1"
   ]
  },
  {
   "cell_type": "code",
   "execution_count": 385,
   "metadata": {},
   "outputs": [],
   "source": [
    "popolazione = popolazione.drop(popolazione.index[208])"
   ]
  },
  {
   "cell_type": "code",
   "execution_count": 386,
   "metadata": {},
   "outputs": [
    {
     "data": {
      "text/plain": [
       "1074"
      ]
     },
     "execution_count": 386,
     "metadata": {},
     "output_type": "execute_result"
    }
   ],
   "source": [
    "lista_citta = popolazione['CITIES,INDIC_UR\\TIME'].str.split(',\\w')\n",
    "misurazioni = []\n",
    "city = []\n",
    "for el in lista_citta:\n",
    "    city.append(el[0])\n",
    "    misurazioni.append(el[1])\n",
    "len(misurazioni)"
   ]
  },
  {
   "cell_type": "code",
   "execution_count": 387,
   "metadata": {},
   "outputs": [
    {
     "name": "stdout",
     "output_type": "stream",
     "text": [
      "208\n",
      "209\n"
     ]
    }
   ],
   "source": [
    "i=0\n",
    "for el in city:\n",
    "    if el == 'Valencia':\n",
    "        print(i)\n",
    "    i+=1"
   ]
  },
  {
   "cell_type": "code",
   "execution_count": 388,
   "metadata": {},
   "outputs": [],
   "source": [
    "popolazione = popolazione.drop(popolazione.index[209])"
   ]
  },
  {
   "cell_type": "code",
   "execution_count": 389,
   "metadata": {},
   "outputs": [
    {
     "data": {
      "text/plain": [
       "1073"
      ]
     },
     "execution_count": 389,
     "metadata": {},
     "output_type": "execute_result"
    }
   ],
   "source": [
    "lista_citta = popolazione['CITIES,INDIC_UR\\TIME'].str.split(',\\w')\n",
    "misurazioni = []\n",
    "city = []\n",
    "for el in lista_citta:\n",
    "    city.append(el[0])\n",
    "    misurazioni.append(el[1])\n",
    "len(misurazioni)"
   ]
  },
  {
   "cell_type": "code",
   "execution_count": 390,
   "metadata": {},
   "outputs": [
    {
     "name": "stdout",
     "output_type": "stream",
     "text": [
      "209\n",
      "210\n"
     ]
    }
   ],
   "source": [
    "i=0\n",
    "for el in city:\n",
    "    if el == 'Sevilla':\n",
    "        print(i)\n",
    "    i+=1"
   ]
  },
  {
   "cell_type": "code",
   "execution_count": 391,
   "metadata": {},
   "outputs": [],
   "source": [
    "popolazione = popolazione.drop(popolazione.index[210])"
   ]
  },
  {
   "cell_type": "code",
   "execution_count": 392,
   "metadata": {},
   "outputs": [
    {
     "data": {
      "text/plain": [
       "1072"
      ]
     },
     "execution_count": 392,
     "metadata": {},
     "output_type": "execute_result"
    }
   ],
   "source": [
    "lista_citta = popolazione['CITIES,INDIC_UR\\TIME'].str.split(',\\w')\n",
    "misurazioni = []\n",
    "city = []\n",
    "for el in lista_citta:\n",
    "    city.append(el[0])\n",
    "    misurazioni.append(el[1])\n",
    "len(misurazioni)"
   ]
  },
  {
   "cell_type": "code",
   "execution_count": 393,
   "metadata": {},
   "outputs": [
    {
     "name": "stdout",
     "output_type": "stream",
     "text": [
      "219\n",
      "220\n"
     ]
    }
   ],
   "source": [
    "i=0\n",
    "for el in city:\n",
    "    if el == 'Pamplona/Iruña':\n",
    "        print(i)\n",
    "    i += 1"
   ]
  },
  {
   "cell_type": "code",
   "execution_count": 394,
   "metadata": {},
   "outputs": [],
   "source": [
    "popolazione = popolazione.drop(popolazione.index[220])"
   ]
  },
  {
   "cell_type": "code",
   "execution_count": 395,
   "metadata": {},
   "outputs": [
    {
     "data": {
      "text/plain": [
       "1071"
      ]
     },
     "execution_count": 395,
     "metadata": {},
     "output_type": "execute_result"
    }
   ],
   "source": [
    "lista_citta = popolazione['CITIES,INDIC_UR\\TIME'].str.split(',\\w')\n",
    "misurazioni = []\n",
    "city = []\n",
    "for el in lista_citta:\n",
    "    city.append(el[0])\n",
    "    misurazioni.append(el[1])\n",
    "len(misurazioni)"
   ]
  },
  {
   "cell_type": "code",
   "execution_count": 396,
   "metadata": {},
   "outputs": [
    {
     "name": "stdout",
     "output_type": "stream",
     "text": [
      "224\n",
      "225\n"
     ]
    }
   ],
   "source": [
    "i=0\n",
    "for el in city:\n",
    "    if el == 'Bilbao':\n",
    "        print(i)\n",
    "    i+=1"
   ]
  },
  {
   "cell_type": "code",
   "execution_count": 397,
   "metadata": {},
   "outputs": [],
   "source": [
    "popolazione = popolazione.drop(popolazione.index[225])"
   ]
  },
  {
   "cell_type": "code",
   "execution_count": 398,
   "metadata": {},
   "outputs": [
    {
     "data": {
      "text/plain": [
       "1070"
      ]
     },
     "execution_count": 398,
     "metadata": {},
     "output_type": "execute_result"
    }
   ],
   "source": [
    "lista_citta = popolazione['CITIES,INDIC_UR\\TIME'].str.split(',\\w')\n",
    "misurazioni = []\n",
    "city = []\n",
    "for el in lista_citta:\n",
    "    city.append(el[0])\n",
    "    misurazioni.append(el[1])\n",
    "len(misurazioni)"
   ]
  },
  {
   "cell_type": "code",
   "execution_count": 399,
   "metadata": {},
   "outputs": [
    {
     "name": "stdout",
     "output_type": "stream",
     "text": [
      "230\n",
      "231\n"
     ]
    }
   ],
   "source": [
    "i=0\n",
    "for el in city:\n",
    "    if el == 'Santa Cruz de Tenerife':\n",
    "        print(i)\n",
    "    i+=1"
   ]
  },
  {
   "cell_type": "code",
   "execution_count": 400,
   "metadata": {},
   "outputs": [],
   "source": [
    "popolazione = popolazione.drop(popolazione.index[231])"
   ]
  },
  {
   "cell_type": "code",
   "execution_count": 401,
   "metadata": {},
   "outputs": [
    {
     "data": {
      "text/plain": [
       "1069"
      ]
     },
     "execution_count": 401,
     "metadata": {},
     "output_type": "execute_result"
    }
   ],
   "source": [
    "lista_citta = popolazione['CITIES,INDIC_UR\\TIME'].str.split(',\\w')\n",
    "misurazioni = []\n",
    "city = []\n",
    "for el in lista_citta:\n",
    "    city.append(el[0])\n",
    "    misurazioni.append(el[1])\n",
    "len(misurazioni)"
   ]
  },
  {
   "cell_type": "code",
   "execution_count": 402,
   "metadata": {},
   "outputs": [
    {
     "name": "stdout",
     "output_type": "stream",
     "text": [
      "278\n",
      "279\n"
     ]
    }
   ],
   "source": [
    "i=0\n",
    "for el in city:\n",
    "    if el == 'Elda':\n",
    "        print(i)\n",
    "    i+=1"
   ]
  },
  {
   "cell_type": "code",
   "execution_count": 403,
   "metadata": {},
   "outputs": [],
   "source": [
    "popolazione = popolazione.drop(popolazione.index[279])"
   ]
  },
  {
   "cell_type": "code",
   "execution_count": 404,
   "metadata": {},
   "outputs": [
    {
     "data": {
      "text/plain": [
       "1068"
      ]
     },
     "execution_count": 404,
     "metadata": {},
     "output_type": "execute_result"
    }
   ],
   "source": [
    "lista_citta = popolazione['CITIES,INDIC_UR\\TIME'].str.split(',\\w')\n",
    "misurazioni = []\n",
    "city = []\n",
    "for el in lista_citta:\n",
    "    city.append(el[0])\n",
    "    misurazioni.append(el[1])\n",
    "len(misurazioni)"
   ]
  },
  {
   "cell_type": "code",
   "execution_count": 405,
   "metadata": {},
   "outputs": [
    {
     "name": "stdout",
     "output_type": "stream",
     "text": [
      "281\n",
      "282\n"
     ]
    }
   ],
   "source": [
    "i=0\n",
    "for el in city:\n",
    "    if el == 'Granada':\n",
    "        print(i)\n",
    "    i+=1"
   ]
  },
  {
   "cell_type": "code",
   "execution_count": 406,
   "metadata": {},
   "outputs": [],
   "source": [
    "popolazione = popolazione.drop(popolazione.index[282])"
   ]
  },
  {
   "cell_type": "code",
   "execution_count": 407,
   "metadata": {},
   "outputs": [
    {
     "data": {
      "text/plain": [
       "1067"
      ]
     },
     "execution_count": 407,
     "metadata": {},
     "output_type": "execute_result"
    }
   ],
   "source": [
    "lista_citta = popolazione['CITIES,INDIC_UR\\TIME'].str.split(',\\w')\n",
    "misurazioni = []\n",
    "city = []\n",
    "for el in lista_citta:\n",
    "    city.append(el[0])\n",
    "    misurazioni.append(el[1])\n",
    "len(misurazioni)"
   ]
  },
  {
   "cell_type": "code",
   "execution_count": 408,
   "metadata": {},
   "outputs": [
    {
     "name": "stdout",
     "output_type": "stream",
     "text": [
      "329\n",
      "330\n"
     ]
    }
   ],
   "source": [
    "i=0\n",
    "for el in city:\n",
    "    if el == 'Puerto de la Cruz':\n",
    "        print(i)\n",
    "    i+=1"
   ]
  },
  {
   "cell_type": "code",
   "execution_count": 409,
   "metadata": {},
   "outputs": [],
   "source": [
    "popolazione = popolazione.drop(popolazione.index[330])"
   ]
  },
  {
   "cell_type": "code",
   "execution_count": 410,
   "metadata": {},
   "outputs": [
    {
     "data": {
      "text/plain": [
       "1066"
      ]
     },
     "execution_count": 410,
     "metadata": {},
     "output_type": "execute_result"
    }
   ],
   "source": [
    "lista_citta = popolazione['CITIES,INDIC_UR\\TIME'].str.split(',\\w')\n",
    "misurazioni = []\n",
    "city = []\n",
    "for el in lista_citta:\n",
    "    city.append(el[0])\n",
    "    misurazioni.append(el[1])\n",
    "len(misurazioni)"
   ]
  },
  {
   "cell_type": "code",
   "execution_count": 411,
   "metadata": {},
   "outputs": [
    {
     "name": "stdout",
     "output_type": "stream",
     "text": [
      "331\n",
      "332\n"
     ]
    }
   ],
   "source": [
    "i=0\n",
    "for el in city:\n",
    "    if el == 'Igualada':\n",
    "        print(i)\n",
    "    i+=1"
   ]
  },
  {
   "cell_type": "code",
   "execution_count": 412,
   "metadata": {},
   "outputs": [],
   "source": [
    "popolazione = popolazione.drop(popolazione.index[332])"
   ]
  },
  {
   "cell_type": "code",
   "execution_count": 413,
   "metadata": {},
   "outputs": [
    {
     "data": {
      "text/plain": [
       "1065"
      ]
     },
     "execution_count": 413,
     "metadata": {},
     "output_type": "execute_result"
    }
   ],
   "source": [
    "lista_citta = popolazione['CITIES,INDIC_UR\\TIME'].str.split(',\\w')\n",
    "misurazioni = []\n",
    "city = []\n",
    "for el in lista_citta:\n",
    "    city.append(el[0])\n",
    "    misurazioni.append(el[1])\n",
    "len(misurazioni)"
   ]
  },
  {
   "cell_type": "code",
   "execution_count": 414,
   "metadata": {},
   "outputs": [
    {
     "name": "stdout",
     "output_type": "stream",
     "text": [
      "831\n",
      "832\n"
     ]
    }
   ],
   "source": [
    "i=0\n",
    "for el in city:\n",
    "    if el == 'Liverpool':\n",
    "        print(i)\n",
    "    i+=1"
   ]
  },
  {
   "cell_type": "code",
   "execution_count": 415,
   "metadata": {},
   "outputs": [],
   "source": [
    "popolazione = popolazione.drop(popolazione.index[832])"
   ]
  },
  {
   "cell_type": "code",
   "execution_count": 416,
   "metadata": {},
   "outputs": [
    {
     "data": {
      "text/plain": [
       "1064"
      ]
     },
     "execution_count": 416,
     "metadata": {},
     "output_type": "execute_result"
    }
   ],
   "source": [
    "lista_citta = popolazione['CITIES,INDIC_UR\\TIME'].str.split(',\\w')\n",
    "misurazioni = []\n",
    "city = []\n",
    "for el in lista_citta:\n",
    "    city.append(el[0])\n",
    "    misurazioni.append(el[1])\n",
    "len(misurazioni)"
   ]
  },
  {
   "cell_type": "code",
   "execution_count": 417,
   "metadata": {},
   "outputs": [
    {
     "name": "stdout",
     "output_type": "stream",
     "text": [
      "856\n",
      "857\n"
     ]
    }
   ],
   "source": [
    "i=0\n",
    "for el in city:\n",
    "    if el == 'Stoke-on-trent':\n",
    "        print(i)\n",
    "    i+=1"
   ]
  },
  {
   "cell_type": "code",
   "execution_count": 418,
   "metadata": {},
   "outputs": [],
   "source": [
    "popolazione = popolazione.drop(popolazione.index[857])"
   ]
  },
  {
   "cell_type": "code",
   "execution_count": 419,
   "metadata": {},
   "outputs": [
    {
     "data": {
      "text/plain": [
       "1063"
      ]
     },
     "execution_count": 419,
     "metadata": {},
     "output_type": "execute_result"
    }
   ],
   "source": [
    "lista_citta = popolazione['CITIES,INDIC_UR\\TIME'].str.split(',\\w')\n",
    "misurazioni = []\n",
    "city = []\n",
    "for el in lista_citta:\n",
    "    city.append(el[0])\n",
    "    misurazioni.append(el[1])\n",
    "len(misurazioni)"
   ]
  },
  {
   "cell_type": "code",
   "execution_count": 420,
   "metadata": {},
   "outputs": [
    {
     "name": "stdout",
     "output_type": "stream",
     "text": [
      "933\n",
      "934\n"
     ]
    }
   ],
   "source": [
    "i=0\n",
    "for el in city:\n",
    "    if el == 'Brighton and Hove':\n",
    "        print(i)\n",
    "    i+=1"
   ]
  },
  {
   "cell_type": "code",
   "execution_count": 421,
   "metadata": {},
   "outputs": [],
   "source": [
    "popolazione = popolazione.drop(popolazione.index[934])"
   ]
  },
  {
   "cell_type": "code",
   "execution_count": 422,
   "metadata": {},
   "outputs": [
    {
     "data": {
      "text/plain": [
       "1062"
      ]
     },
     "execution_count": 422,
     "metadata": {},
     "output_type": "execute_result"
    }
   ],
   "source": [
    "lista_citta = popolazione['CITIES,INDIC_UR\\TIME'].str.split(',\\w')\n",
    "misurazioni = []\n",
    "city = []\n",
    "for el in lista_citta:\n",
    "    city.append(el[0])\n",
    "    misurazioni.append(el[1])\n",
    "len(misurazioni)"
   ]
  },
  {
   "cell_type": "code",
   "execution_count": 423,
   "metadata": {},
   "outputs": [
    {
     "name": "stdout",
     "output_type": "stream",
     "text": [
      "938\n",
      "939\n"
     ]
    }
   ],
   "source": [
    "i=0\n",
    "for el in city:\n",
    "    if el == 'Southampton':\n",
    "        print(i)\n",
    "    i+=1"
   ]
  },
  {
   "cell_type": "code",
   "execution_count": 424,
   "metadata": {},
   "outputs": [],
   "source": [
    "popolazione = popolazione.drop(popolazione.index[939])"
   ]
  },
  {
   "cell_type": "code",
   "execution_count": 425,
   "metadata": {},
   "outputs": [
    {
     "data": {
      "text/plain": [
       "1061"
      ]
     },
     "execution_count": 425,
     "metadata": {},
     "output_type": "execute_result"
    }
   ],
   "source": [
    "lista_citta = popolazione['CITIES,INDIC_UR\\TIME'].str.split(',\\w')\n",
    "misurazioni = []\n",
    "city = []\n",
    "for el in lista_citta:\n",
    "    city.append(el[0])\n",
    "    misurazioni.append(el[1])\n",
    "len(misurazioni)"
   ]
  },
  {
   "cell_type": "code",
   "execution_count": 426,
   "metadata": {},
   "outputs": [
    {
     "name": "stdout",
     "output_type": "stream",
     "text": [
      "957\n",
      "958\n"
     ]
    }
   ],
   "source": [
    "i=0\n",
    "for el in city:\n",
    "    if el == 'Bournemouth':\n",
    "        print(i)\n",
    "    i+=1"
   ]
  },
  {
   "cell_type": "code",
   "execution_count": 427,
   "metadata": {},
   "outputs": [],
   "source": [
    "popolazione = popolazione.drop(popolazione.index[958])"
   ]
  },
  {
   "cell_type": "code",
   "execution_count": 428,
   "metadata": {},
   "outputs": [
    {
     "data": {
      "text/plain": [
       "1060"
      ]
     },
     "execution_count": 428,
     "metadata": {},
     "output_type": "execute_result"
    }
   ],
   "source": [
    "lista_citta = popolazione['CITIES,INDIC_UR\\TIME'].str.split(',\\w')\n",
    "misurazioni = []\n",
    "city = []\n",
    "for el in lista_citta:\n",
    "    city.append(el[0])\n",
    "    misurazioni.append(el[1])\n",
    "len(misurazioni)"
   ]
  },
  {
   "cell_type": "code",
   "execution_count": 429,
   "metadata": {},
   "outputs": [
    {
     "name": "stdout",
     "output_type": "stream",
     "text": [
      "973\n",
      "974\n"
     ]
    }
   ],
   "source": [
    "i=0\n",
    "for el in city:\n",
    "    if el == 'Blackpool':\n",
    "        print(i)\n",
    "    i+=1"
   ]
  },
  {
   "cell_type": "code",
   "execution_count": 430,
   "metadata": {},
   "outputs": [],
   "source": [
    "popolazione = popolazione.drop(popolazione.index[974])"
   ]
  },
  {
   "cell_type": "code",
   "execution_count": 431,
   "metadata": {},
   "outputs": [
    {
     "data": {
      "text/plain": [
       "1059"
      ]
     },
     "execution_count": 431,
     "metadata": {},
     "output_type": "execute_result"
    }
   ],
   "source": [
    "lista_citta = popolazione['CITIES,INDIC_UR\\TIME'].str.split(',\\w')\n",
    "misurazioni = []\n",
    "city = []\n",
    "for el in lista_citta:\n",
    "    city.append(el[0])\n",
    "    misurazioni.append(el[1])\n",
    "len(misurazioni)"
   ]
  },
  {
   "cell_type": "code",
   "execution_count": 432,
   "metadata": {},
   "outputs": [
    {
     "name": "stdout",
     "output_type": "stream",
     "text": [
      "999\n",
      "1000\n"
     ]
    }
   ],
   "source": [
    "i=0\n",
    "for el in city:\n",
    "    if el == 'Rushmoor':\n",
    "        print(i)\n",
    "    i+=1"
   ]
  },
  {
   "cell_type": "code",
   "execution_count": 433,
   "metadata": {},
   "outputs": [],
   "source": [
    "popolazione = popolazione.drop(popolazione.index[1000])"
   ]
  },
  {
   "cell_type": "code",
   "execution_count": 434,
   "metadata": {},
   "outputs": [
    {
     "data": {
      "text/plain": [
       "1058"
      ]
     },
     "execution_count": 434,
     "metadata": {},
     "output_type": "execute_result"
    }
   ],
   "source": [
    "lista_citta = popolazione['CITIES,INDIC_UR\\TIME'].str.split(',\\w')\n",
    "misurazioni = []\n",
    "city = []\n",
    "for el in lista_citta:\n",
    "    city.append(el[0])\n",
    "    misurazioni.append(el[1])\n",
    "len(misurazioni)"
   ]
  },
  {
   "cell_type": "code",
   "execution_count": 435,
   "metadata": {},
   "outputs": [
    {
     "data": {
      "text/plain": [
       "0\n",
       "opulation on the 1st of January, total    1058\n",
       "dtype: int64"
      ]
     },
     "execution_count": 435,
     "metadata": {},
     "output_type": "execute_result"
    }
   ],
   "source": [
    "misurazioni = pd.DataFrame(misurazioni)\n",
    "misurazioni.groupby(0).size()"
   ]
  },
  {
   "cell_type": "code",
   "execution_count": 436,
   "metadata": {},
   "outputs": [
    {
     "data": {
      "text/plain": [
       "1058"
      ]
     },
     "execution_count": 436,
     "metadata": {},
     "output_type": "execute_result"
    }
   ],
   "source": [
    "unici=[]\n",
    "for el in city:\n",
    "    if el not in unici:\n",
    "        unici.append(el)\n",
    "len(unici)"
   ]
  },
  {
   "cell_type": "code",
   "execution_count": 438,
   "metadata": {},
   "outputs": [],
   "source": [
    "diz={}\n",
    "for el in unici:\n",
    "    i=0\n",
    "    for elemento in city:\n",
    "        if elemento==el:\n",
    "            i+=1\n",
    "    diz[el]=i\n"
   ]
  },
  {
   "cell_type": "code",
   "execution_count": 439,
   "metadata": {},
   "outputs": [
    {
     "data": {
      "text/plain": [
       "[]"
      ]
     },
     "execution_count": 439,
     "metadata": {},
     "output_type": "execute_result"
    }
   ],
   "source": [
    "lista_doppioni=[]\n",
    "for key, value in diz.items() :\n",
    "    if value != 1:\n",
    "        print (key, value)\n",
    "        lista_doppioni.append(key)\n",
    "lista_doppioni"
   ]
  },
  {
   "cell_type": "code",
   "execution_count": 440,
   "metadata": {},
   "outputs": [],
   "source": [
    "popolazione['CITIES,INDIC_UR\\TIME']=city\n",
    "popolazione2 = popolazione"
   ]
  },
  {
   "cell_type": "code",
   "execution_count": 441,
   "metadata": {},
   "outputs": [],
   "source": [
    "for index, row in popolazione2.iterrows():\n",
    "    for i in range(1990,2020):\n",
    "        row[str(i)] = str(row[str(i)]).replace('e', '')\n",
    "        row[str(i)] = str(row[str(i)]).replace(',', '')\n",
    "        row[str(i)] = str(row[str(i)]).replace('b', '')\n",
    "        row[str(i)] = str(row[str(i)]).replace('d', '')\n",
    "        row[str(i)] = str(row[str(i)]).replace('p', '')\n",
    "        row[str(i)] = str(row[str(i)]).replace('r', '')\n",
    "        row[str(i)] = str(row[str(i)]).replace('c','')\n",
    "        row[str(i)] = str(row[str(i)]).replace(':c', ':')\n",
    "        row[str(i)] = str(row[str(i)]).replace(':u', ':')\n",
    "        row[str(i)] = str(row[str(i)]).replace(':u', ':')\n",
    "        row[str(i)] = str(row[str(i)]).replace(': u', ':')\n",
    "        row[str(i)] = str(row[str(i)]).replace(':U', ':')\n",
    "        row[str(i)] = str(row[str(i)]).replace(': ', ':')"
   ]
  },
  {
   "cell_type": "code",
   "execution_count": 442,
   "metadata": {},
   "outputs": [
    {
     "data": {
      "text/html": [
       "<div>\n",
       "<style scoped>\n",
       "    .dataframe tbody tr th:only-of-type {\n",
       "        vertical-align: middle;\n",
       "    }\n",
       "\n",
       "    .dataframe tbody tr th {\n",
       "        vertical-align: top;\n",
       "    }\n",
       "\n",
       "    .dataframe thead th {\n",
       "        text-align: right;\n",
       "    }\n",
       "</style>\n",
       "<table border=\"1\" class=\"dataframe\">\n",
       "  <thead>\n",
       "    <tr style=\"text-align: right;\">\n",
       "      <th></th>\n",
       "      <th>CITIES,INDIC_UR\\TIME</th>\n",
       "      <th>1990</th>\n",
       "      <th>1991</th>\n",
       "      <th>1992</th>\n",
       "      <th>1993</th>\n",
       "      <th>1994</th>\n",
       "      <th>1995</th>\n",
       "      <th>1996</th>\n",
       "      <th>1997</th>\n",
       "      <th>1998</th>\n",
       "      <th>...</th>\n",
       "      <th>2010</th>\n",
       "      <th>2011</th>\n",
       "      <th>2012</th>\n",
       "      <th>2013</th>\n",
       "      <th>2014</th>\n",
       "      <th>2015</th>\n",
       "      <th>2016</th>\n",
       "      <th>2017</th>\n",
       "      <th>2018</th>\n",
       "      <th>2019</th>\n",
       "    </tr>\n",
       "  </thead>\n",
       "  <tbody>\n",
       "    <tr>\n",
       "      <td>0</td>\n",
       "      <td>Belgium</td>\n",
       "      <td>NaN</td>\n",
       "      <td>9986975</td>\n",
       "      <td>10021997</td>\n",
       "      <td>10068319</td>\n",
       "      <td>10100631</td>\n",
       "      <td>10130574</td>\n",
       "      <td>10143047</td>\n",
       "      <td>10170226</td>\n",
       "      <td>10192264</td>\n",
       "      <td>...</td>\n",
       "      <td>10839905</td>\n",
       "      <td>11000638</td>\n",
       "      <td>11094850</td>\n",
       "      <td>11161642</td>\n",
       "      <td>11203992</td>\n",
       "      <td>11258434</td>\n",
       "      <td>11307192</td>\n",
       "      <td>11351727</td>\n",
       "      <td>11398589</td>\n",
       "      <td>NaN</td>\n",
       "    </tr>\n",
       "    <tr>\n",
       "      <td>1</td>\n",
       "      <td>Bruxelles / Brussel</td>\n",
       "      <td>964385</td>\n",
       "      <td>954045</td>\n",
       "      <td>951217</td>\n",
       "      <td>950339</td>\n",
       "      <td>949070</td>\n",
       "      <td>951580</td>\n",
       "      <td>948122</td>\n",
       "      <td>950597</td>\n",
       "      <td>953175</td>\n",
       "      <td>...</td>\n",
       "      <td>1089538</td>\n",
       "      <td>1136778</td>\n",
       "      <td>1159448</td>\n",
       "      <td>1174624</td>\n",
       "      <td>1183841</td>\n",
       "      <td>1196831</td>\n",
       "      <td>1201129</td>\n",
       "      <td>1199095</td>\n",
       "      <td>1205492</td>\n",
       "      <td>NaN</td>\n",
       "    </tr>\n",
       "    <tr>\n",
       "      <td>2</td>\n",
       "      <td>Antwerpen</td>\n",
       "      <td>470349</td>\n",
       "      <td>467518</td>\n",
       "      <td>465783</td>\n",
       "      <td>465102</td>\n",
       "      <td>462880</td>\n",
       "      <td>459072</td>\n",
       "      <td>455852</td>\n",
       "      <td>453030</td>\n",
       "      <td>449745</td>\n",
       "      <td>...</td>\n",
       "      <td>483505</td>\n",
       "      <td>498473</td>\n",
       "      <td>507368</td>\n",
       "      <td>512230</td>\n",
       "      <td>513915</td>\n",
       "      <td>515593</td>\n",
       "      <td>517731</td>\n",
       "      <td>520859</td>\n",
       "      <td>523591</td>\n",
       "      <td>NaN</td>\n",
       "    </tr>\n",
       "    <tr>\n",
       "      <td>3</td>\n",
       "      <td>Gent</td>\n",
       "      <td>230543</td>\n",
       "      <td>230246</td>\n",
       "      <td>230232</td>\n",
       "      <td>229821</td>\n",
       "      <td>228490</td>\n",
       "      <td>227483</td>\n",
       "      <td>226464</td>\n",
       "      <td>225469</td>\n",
       "      <td>224545</td>\n",
       "      <td>...</td>\n",
       "      <td>243366</td>\n",
       "      <td>248358</td>\n",
       "      <td>249205</td>\n",
       "      <td>249754</td>\n",
       "      <td>251984</td>\n",
       "      <td>253914</td>\n",
       "      <td>257226</td>\n",
       "      <td>259462</td>\n",
       "      <td>260329</td>\n",
       "      <td>NaN</td>\n",
       "    </tr>\n",
       "    <tr>\n",
       "      <td>4</td>\n",
       "      <td>Charleroi</td>\n",
       "      <td>206779</td>\n",
       "      <td>206214</td>\n",
       "      <td>206903</td>\n",
       "      <td>207045</td>\n",
       "      <td>206898</td>\n",
       "      <td>206491</td>\n",
       "      <td>205591</td>\n",
       "      <td>204899</td>\n",
       "      <td>203853</td>\n",
       "      <td>...</td>\n",
       "      <td>202598</td>\n",
       "      <td>204150</td>\n",
       "      <td>204762</td>\n",
       "      <td>204826</td>\n",
       "      <td>203640</td>\n",
       "      <td>203228</td>\n",
       "      <td>202602</td>\n",
       "      <td>201884</td>\n",
       "      <td>202341</td>\n",
       "      <td>NaN</td>\n",
       "    </tr>\n",
       "    <tr>\n",
       "      <td>...</td>\n",
       "      <td>...</td>\n",
       "      <td>...</td>\n",
       "      <td>...</td>\n",
       "      <td>...</td>\n",
       "      <td>...</td>\n",
       "      <td>...</td>\n",
       "      <td>...</td>\n",
       "      <td>...</td>\n",
       "      <td>...</td>\n",
       "      <td>...</td>\n",
       "      <td>...</td>\n",
       "      <td>...</td>\n",
       "      <td>...</td>\n",
       "      <td>...</td>\n",
       "      <td>...</td>\n",
       "      <td>...</td>\n",
       "      <td>...</td>\n",
       "      <td>...</td>\n",
       "      <td>...</td>\n",
       "      <td>...</td>\n",
       "      <td>...</td>\n",
       "    </tr>\n",
       "    <tr>\n",
       "      <td>1071</td>\n",
       "      <td>Luzern</td>\n",
       "      <td>76466</td>\n",
       "      <td>NaN</td>\n",
       "      <td>NaN</td>\n",
       "      <td>NaN</td>\n",
       "      <td>NaN</td>\n",
       "      <td>NaN</td>\n",
       "      <td>NaN</td>\n",
       "      <td>NaN</td>\n",
       "      <td>NaN</td>\n",
       "      <td>...</td>\n",
       "      <td>79464</td>\n",
       "      <td>77491</td>\n",
       "      <td>78093</td>\n",
       "      <td>79478</td>\n",
       "      <td>80501</td>\n",
       "      <td>81057</td>\n",
       "      <td>81295</td>\n",
       "      <td>NaN</td>\n",
       "      <td>NaN</td>\n",
       "      <td>NaN</td>\n",
       "    </tr>\n",
       "    <tr>\n",
       "      <td>1072</td>\n",
       "      <td>Luzern (greater city)</td>\n",
       "      <td>NaN</td>\n",
       "      <td>NaN</td>\n",
       "      <td>NaN</td>\n",
       "      <td>NaN</td>\n",
       "      <td>NaN</td>\n",
       "      <td>NaN</td>\n",
       "      <td>NaN</td>\n",
       "      <td>NaN</td>\n",
       "      <td>NaN</td>\n",
       "      <td>...</td>\n",
       "      <td>154442</td>\n",
       "      <td>152408</td>\n",
       "      <td>153850</td>\n",
       "      <td>155775</td>\n",
       "      <td>157412</td>\n",
       "      <td>158637</td>\n",
       "      <td>159189</td>\n",
       "      <td>NaN</td>\n",
       "      <td>NaN</td>\n",
       "      <td>NaN</td>\n",
       "    </tr>\n",
       "    <tr>\n",
       "      <td>1073</td>\n",
       "      <td>Lugano</td>\n",
       "      <td>46113</td>\n",
       "      <td>NaN</td>\n",
       "      <td>NaN</td>\n",
       "      <td>NaN</td>\n",
       "      <td>NaN</td>\n",
       "      <td>NaN</td>\n",
       "      <td>NaN</td>\n",
       "      <td>NaN</td>\n",
       "      <td>NaN</td>\n",
       "      <td>...</td>\n",
       "      <td>57528</td>\n",
       "      <td>54667</td>\n",
       "      <td>55151</td>\n",
       "      <td>61837</td>\n",
       "      <td>62792</td>\n",
       "      <td>63668</td>\n",
       "      <td>63583</td>\n",
       "      <td>NaN</td>\n",
       "      <td>NaN</td>\n",
       "      <td>NaN</td>\n",
       "    </tr>\n",
       "    <tr>\n",
       "      <td>1074</td>\n",
       "      <td>Lugano (greater city)</td>\n",
       "      <td>NaN</td>\n",
       "      <td>NaN</td>\n",
       "      <td>NaN</td>\n",
       "      <td>NaN</td>\n",
       "      <td>NaN</td>\n",
       "      <td>NaN</td>\n",
       "      <td>NaN</td>\n",
       "      <td>NaN</td>\n",
       "      <td>NaN</td>\n",
       "      <td>...</td>\n",
       "      <td>76624</td>\n",
       "      <td>73266</td>\n",
       "      <td>73922</td>\n",
       "      <td>80995</td>\n",
       "      <td>82453</td>\n",
       "      <td>83635</td>\n",
       "      <td>83727</td>\n",
       "      <td>NaN</td>\n",
       "      <td>NaN</td>\n",
       "      <td>NaN</td>\n",
       "    </tr>\n",
       "    <tr>\n",
       "      <td>1075</td>\n",
       "      <td>Biel/Bienne</td>\n",
       "      <td>51893</td>\n",
       "      <td>NaN</td>\n",
       "      <td>NaN</td>\n",
       "      <td>NaN</td>\n",
       "      <td>NaN</td>\n",
       "      <td>NaN</td>\n",
       "      <td>NaN</td>\n",
       "      <td>NaN</td>\n",
       "      <td>NaN</td>\n",
       "      <td>...</td>\n",
       "      <td>51991</td>\n",
       "      <td>51203</td>\n",
       "      <td>51635</td>\n",
       "      <td>52351</td>\n",
       "      <td>53031</td>\n",
       "      <td>NaN</td>\n",
       "      <td>NaN</td>\n",
       "      <td>NaN</td>\n",
       "      <td>NaN</td>\n",
       "      <td>NaN</td>\n",
       "    </tr>\n",
       "  </tbody>\n",
       "</table>\n",
       "<p>1058 rows × 31 columns</p>\n",
       "</div>"
      ],
      "text/plain": [
       "       CITIES,INDIC_UR\\TIME    1990     1991      1992      1993      1994  \\\n",
       "0                   Belgium     NaN  9986975  10021997  10068319  10100631   \n",
       "1       Bruxelles / Brussel  964385   954045    951217    950339    949070   \n",
       "2                 Antwerpen  470349   467518    465783    465102    462880   \n",
       "3                      Gent  230543   230246    230232    229821    228490   \n",
       "4                 Charleroi  206779   206214    206903    207045    206898   \n",
       "...                     ...     ...      ...       ...       ...       ...   \n",
       "1071                 Luzern   76466      NaN       NaN       NaN       NaN   \n",
       "1072  Luzern (greater city)     NaN      NaN       NaN       NaN       NaN   \n",
       "1073                 Lugano   46113      NaN       NaN       NaN       NaN   \n",
       "1074  Lugano (greater city)     NaN      NaN       NaN       NaN       NaN   \n",
       "1075            Biel/Bienne   51893      NaN       NaN       NaN       NaN   \n",
       "\n",
       "          1995      1996      1997      1998  ...      2010      2011  \\\n",
       "0     10130574  10143047  10170226  10192264  ...  10839905  11000638   \n",
       "1       951580    948122    950597    953175  ...   1089538   1136778   \n",
       "2       459072    455852    453030    449745  ...    483505    498473   \n",
       "3       227483    226464    225469    224545  ...    243366    248358   \n",
       "4       206491    205591    204899    203853  ...    202598    204150   \n",
       "...        ...       ...       ...       ...  ...       ...       ...   \n",
       "1071       NaN       NaN       NaN       NaN  ...     79464    77491    \n",
       "1072       NaN       NaN       NaN       NaN  ...    154442   152408    \n",
       "1073       NaN       NaN       NaN       NaN  ...     57528    54667    \n",
       "1074       NaN       NaN       NaN       NaN  ...     76624    73266    \n",
       "1075       NaN       NaN       NaN       NaN  ...     51991    51203    \n",
       "\n",
       "          2012      2013      2014      2015      2016      2017      2018  \\\n",
       "0     11094850  11161642  11203992  11258434  11307192  11351727  11398589   \n",
       "1      1159448   1174624   1183841   1196831   1201129   1199095   1205492   \n",
       "2       507368    512230    513915    515593    517731    520859    523591   \n",
       "3       249205    249754    251984    253914    257226    259462    260329   \n",
       "4       204762    204826    203640    203228    202602    201884    202341   \n",
       "...        ...       ...       ...       ...       ...       ...       ...   \n",
       "1071     78093     79478     80501     81057     81295       NaN       NaN   \n",
       "1072    153850    155775    157412    158637    159189       NaN       NaN   \n",
       "1073     55151     61837     62792     63668     63583       NaN       NaN   \n",
       "1074     73922     80995     82453     83635     83727       NaN       NaN   \n",
       "1075     51635     52351     53031       NaN       NaN       NaN       NaN   \n",
       "\n",
       "     2019  \n",
       "0     NaN  \n",
       "1     NaN  \n",
       "2     NaN  \n",
       "3     NaN  \n",
       "4     NaN  \n",
       "...   ...  \n",
       "1071  NaN  \n",
       "1072  NaN  \n",
       "1073  NaN  \n",
       "1074  NaN  \n",
       "1075  NaN  \n",
       "\n",
       "[1058 rows x 31 columns]"
      ]
     },
     "execution_count": 442,
     "metadata": {},
     "output_type": "execute_result"
    }
   ],
   "source": [
    "popolazione2 = popolazione2.replace(':', np.nan)\n",
    "popolazione2"
   ]
  },
  {
   "cell_type": "code",
   "execution_count": 443,
   "metadata": {},
   "outputs": [],
   "source": [
    "popolazione2 = popolazione2.reset_index(drop=True)\n",
    "popolazione2_prova = popolazione2.iloc[:,1:30]\n",
    "popoplazione2_prova = popolazione2_prova.dropna(how='all')"
   ]
  },
  {
   "cell_type": "code",
   "execution_count": 444,
   "metadata": {},
   "outputs": [],
   "source": [
    "lista_prev2019 = []\n",
    "\n",
    "x = list(range(1990,2019))\n",
    "x = np.array(x).reshape((-1,1))\n",
    "\n",
    "for i in range(0,1058):\n",
    "    y = []\n",
    "    for el in popolazione2_prova.loc[i]:\n",
    "        y.append(el)\n",
    "        n = np.array(y).reshape((-1,1))\n",
    "    imp = SimpleImputer(missing_values=np.nan, strategy='mean')\n",
    "    imp = imp.fit(n)\n",
    "    y_imp = imp.transform(n)\n",
    "    model = LinearRegression().fit(x, y_imp)\n",
    "    prev = np.arange(1990,2020).reshape((-1,1))\n",
    "    y_pred = model.predict(prev)\n",
    "    lista_prev2019.append(y_pred[-1])"
   ]
  },
  {
   "cell_type": "code",
   "execution_count": 445,
   "metadata": {},
   "outputs": [
    {
     "data": {
      "text/html": [
       "<div>\n",
       "<style scoped>\n",
       "    .dataframe tbody tr th:only-of-type {\n",
       "        vertical-align: middle;\n",
       "    }\n",
       "\n",
       "    .dataframe tbody tr th {\n",
       "        vertical-align: top;\n",
       "    }\n",
       "\n",
       "    .dataframe thead th {\n",
       "        text-align: right;\n",
       "    }\n",
       "</style>\n",
       "<table border=\"1\" class=\"dataframe\">\n",
       "  <thead>\n",
       "    <tr style=\"text-align: right;\">\n",
       "      <th></th>\n",
       "      <th>0</th>\n",
       "      <th>city</th>\n",
       "    </tr>\n",
       "  </thead>\n",
       "  <tbody>\n",
       "    <tr>\n",
       "      <td>0</td>\n",
       "      <td>1.132562e+07</td>\n",
       "      <td>Belgium</td>\n",
       "    </tr>\n",
       "    <tr>\n",
       "      <td>1</td>\n",
       "      <td>1.199625e+06</td>\n",
       "      <td>Bruxelles / Brussel</td>\n",
       "    </tr>\n",
       "    <tr>\n",
       "      <td>2</td>\n",
       "      <td>5.111085e+05</td>\n",
       "      <td>Antwerpen</td>\n",
       "    </tr>\n",
       "    <tr>\n",
       "      <td>3</td>\n",
       "      <td>2.547193e+05</td>\n",
       "      <td>Gent</td>\n",
       "    </tr>\n",
       "    <tr>\n",
       "      <td>4</td>\n",
       "      <td>2.013813e+05</td>\n",
       "      <td>Charleroi</td>\n",
       "    </tr>\n",
       "    <tr>\n",
       "      <td>...</td>\n",
       "      <td>...</td>\n",
       "      <td>...</td>\n",
       "    </tr>\n",
       "    <tr>\n",
       "      <td>1053</td>\n",
       "      <td>7.920575e+04</td>\n",
       "      <td>Luzern</td>\n",
       "    </tr>\n",
       "    <tr>\n",
       "      <td>1054</td>\n",
       "      <td>1.559056e+05</td>\n",
       "      <td>Luzern (greater city)</td>\n",
       "    </tr>\n",
       "    <tr>\n",
       "      <td>1055</td>\n",
       "      <td>5.958176e+04</td>\n",
       "      <td>Lugano</td>\n",
       "    </tr>\n",
       "    <tr>\n",
       "      <td>1056</td>\n",
       "      <td>7.926573e+04</td>\n",
       "      <td>Lugano (greater city)</td>\n",
       "    </tr>\n",
       "    <tr>\n",
       "      <td>1057</td>\n",
       "      <td>5.140723e+04</td>\n",
       "      <td>Biel/Bienne</td>\n",
       "    </tr>\n",
       "  </tbody>\n",
       "</table>\n",
       "<p>1058 rows × 2 columns</p>\n",
       "</div>"
      ],
      "text/plain": [
       "                 0                   city\n",
       "0     1.132562e+07                Belgium\n",
       "1     1.199625e+06    Bruxelles / Brussel\n",
       "2     5.111085e+05              Antwerpen\n",
       "3     2.547193e+05                   Gent\n",
       "4     2.013813e+05              Charleroi\n",
       "...            ...                    ...\n",
       "1053  7.920575e+04                 Luzern\n",
       "1054  1.559056e+05  Luzern (greater city)\n",
       "1055  5.958176e+04                 Lugano\n",
       "1056  7.926573e+04  Lugano (greater city)\n",
       "1057  5.140723e+04            Biel/Bienne\n",
       "\n",
       "[1058 rows x 2 columns]"
      ]
     },
     "execution_count": 445,
     "metadata": {},
     "output_type": "execute_result"
    }
   ],
   "source": [
    "popolazione2019 = pd.DataFrame(lista_prev2019)\n",
    "popolazione2019['city'] = popolazione2['CITIES,INDIC_UR\\TIME']\n",
    "popolazione2019"
   ]
  },
  {
   "cell_type": "code",
   "execution_count": 230,
   "metadata": {},
   "outputs": [],
   "source": [
    "popolazione2019.columns = ['Total population on the 1st of January', 'city']\n",
    "popolazione_2019 = Eurostat_db.popolazione_2019\n",
    "popolazione_2019.insert_many(popolazione2019.to_dict('records'))"
   ]
  },
  {
   "cell_type": "code",
   "execution_count": 359,
   "metadata": {},
   "outputs": [
    {
     "data": {
      "text/html": [
       "<div>\n",
       "<style scoped>\n",
       "    .dataframe tbody tr th:only-of-type {\n",
       "        vertical-align: middle;\n",
       "    }\n",
       "\n",
       "    .dataframe tbody tr th {\n",
       "        vertical-align: top;\n",
       "    }\n",
       "\n",
       "    .dataframe thead th {\n",
       "        text-align: right;\n",
       "    }\n",
       "</style>\n",
       "<table border=\"1\" class=\"dataframe\">\n",
       "  <thead>\n",
       "    <tr style=\"text-align: right;\">\n",
       "      <th></th>\n",
       "      <th>CITIES,INDIC_UR\\TIME</th>\n",
       "      <th>1990</th>\n",
       "      <th>1991</th>\n",
       "      <th>1992</th>\n",
       "      <th>1993</th>\n",
       "      <th>1994</th>\n",
       "      <th>1995</th>\n",
       "      <th>1996</th>\n",
       "      <th>1997</th>\n",
       "      <th>1998</th>\n",
       "      <th>...</th>\n",
       "      <th>2010</th>\n",
       "      <th>2011</th>\n",
       "      <th>2012</th>\n",
       "      <th>2013</th>\n",
       "      <th>2014</th>\n",
       "      <th>2015</th>\n",
       "      <th>2016</th>\n",
       "      <th>2017</th>\n",
       "      <th>2018</th>\n",
       "      <th>2019</th>\n",
       "    </tr>\n",
       "  </thead>\n",
       "  <tbody>\n",
       "    <tr>\n",
       "      <td>0</td>\n",
       "      <td>Belgium,Share of journeys to work by public tr...</td>\n",
       "      <td>:</td>\n",
       "      <td>:</td>\n",
       "      <td>:</td>\n",
       "      <td>:</td>\n",
       "      <td>:</td>\n",
       "      <td>:</td>\n",
       "      <td>:</td>\n",
       "      <td>:</td>\n",
       "      <td>:</td>\n",
       "      <td>...</td>\n",
       "      <td>:</td>\n",
       "      <td>15.90</td>\n",
       "      <td>:</td>\n",
       "      <td>:</td>\n",
       "      <td>:</td>\n",
       "      <td>:</td>\n",
       "      <td>:</td>\n",
       "      <td>:</td>\n",
       "      <td>:</td>\n",
       "      <td>:</td>\n",
       "    </tr>\n",
       "    <tr>\n",
       "      <td>1</td>\n",
       "      <td>Bruxelles / Brussel,Share of journeys to work ...</td>\n",
       "      <td>:</td>\n",
       "      <td>:</td>\n",
       "      <td>:</td>\n",
       "      <td>:</td>\n",
       "      <td>:</td>\n",
       "      <td>:</td>\n",
       "      <td>:</td>\n",
       "      <td>:</td>\n",
       "      <td>:</td>\n",
       "      <td>...</td>\n",
       "      <td>:</td>\n",
       "      <td>40.30</td>\n",
       "      <td>:</td>\n",
       "      <td>:</td>\n",
       "      <td>:</td>\n",
       "      <td>:</td>\n",
       "      <td>:</td>\n",
       "      <td>:</td>\n",
       "      <td>:</td>\n",
       "      <td>:</td>\n",
       "    </tr>\n",
       "    <tr>\n",
       "      <td>2</td>\n",
       "      <td>Antwerpen,Share of journeys to work by public ...</td>\n",
       "      <td>:</td>\n",
       "      <td>:</td>\n",
       "      <td>:</td>\n",
       "      <td>:</td>\n",
       "      <td>:</td>\n",
       "      <td>:</td>\n",
       "      <td>:</td>\n",
       "      <td>:</td>\n",
       "      <td>:</td>\n",
       "      <td>...</td>\n",
       "      <td>:</td>\n",
       "      <td>20.70</td>\n",
       "      <td>:</td>\n",
       "      <td>:</td>\n",
       "      <td>:</td>\n",
       "      <td>:</td>\n",
       "      <td>:</td>\n",
       "      <td>:</td>\n",
       "      <td>:</td>\n",
       "      <td>:</td>\n",
       "    </tr>\n",
       "    <tr>\n",
       "      <td>3</td>\n",
       "      <td>Gent,Share of journeys to work by public trans...</td>\n",
       "      <td>:</td>\n",
       "      <td>:</td>\n",
       "      <td>:</td>\n",
       "      <td>:</td>\n",
       "      <td>:</td>\n",
       "      <td>:</td>\n",
       "      <td>:</td>\n",
       "      <td>:</td>\n",
       "      <td>:</td>\n",
       "      <td>...</td>\n",
       "      <td>:</td>\n",
       "      <td>14.27</td>\n",
       "      <td>:</td>\n",
       "      <td>:</td>\n",
       "      <td>:</td>\n",
       "      <td>:</td>\n",
       "      <td>:</td>\n",
       "      <td>:</td>\n",
       "      <td>:</td>\n",
       "      <td>:</td>\n",
       "    </tr>\n",
       "    <tr>\n",
       "      <td>4</td>\n",
       "      <td>Charleroi,Share of journeys to work by public ...</td>\n",
       "      <td>:</td>\n",
       "      <td>:</td>\n",
       "      <td>:</td>\n",
       "      <td>:</td>\n",
       "      <td>:</td>\n",
       "      <td>:</td>\n",
       "      <td>:</td>\n",
       "      <td>:</td>\n",
       "      <td>:</td>\n",
       "      <td>...</td>\n",
       "      <td>:</td>\n",
       "      <td>9.00</td>\n",
       "      <td>:</td>\n",
       "      <td>:</td>\n",
       "      <td>:</td>\n",
       "      <td>:</td>\n",
       "      <td>:</td>\n",
       "      <td>:</td>\n",
       "      <td>:</td>\n",
       "      <td>:</td>\n",
       "    </tr>\n",
       "    <tr>\n",
       "      <td>...</td>\n",
       "      <td>...</td>\n",
       "      <td>...</td>\n",
       "      <td>...</td>\n",
       "      <td>...</td>\n",
       "      <td>...</td>\n",
       "      <td>...</td>\n",
       "      <td>...</td>\n",
       "      <td>...</td>\n",
       "      <td>...</td>\n",
       "      <td>...</td>\n",
       "      <td>...</td>\n",
       "      <td>...</td>\n",
       "      <td>...</td>\n",
       "      <td>...</td>\n",
       "      <td>...</td>\n",
       "      <td>...</td>\n",
       "      <td>...</td>\n",
       "      <td>...</td>\n",
       "      <td>...</td>\n",
       "      <td>...</td>\n",
       "      <td>...</td>\n",
       "    </tr>\n",
       "    <tr>\n",
       "      <td>8595</td>\n",
       "      <td>Luzern,Cost of a taxi ride of 5 km to the cent...</td>\n",
       "      <td>:</td>\n",
       "      <td>:</td>\n",
       "      <td>:</td>\n",
       "      <td>:</td>\n",
       "      <td>:</td>\n",
       "      <td>:</td>\n",
       "      <td>:</td>\n",
       "      <td>:</td>\n",
       "      <td>:</td>\n",
       "      <td>...</td>\n",
       "      <td>18.00 p</td>\n",
       "      <td>20.00 p</td>\n",
       "      <td>21.00 p</td>\n",
       "      <td>20.30 p</td>\n",
       "      <td>20.60 e</td>\n",
       "      <td>23.40 e</td>\n",
       "      <td>22.90 e</td>\n",
       "      <td>:</td>\n",
       "      <td>:</td>\n",
       "      <td>:</td>\n",
       "    </tr>\n",
       "    <tr>\n",
       "      <td>8596</td>\n",
       "      <td>Luzern (greater city),Cost of a taxi ride of 5...</td>\n",
       "      <td>:</td>\n",
       "      <td>:</td>\n",
       "      <td>:</td>\n",
       "      <td>:</td>\n",
       "      <td>:</td>\n",
       "      <td>:</td>\n",
       "      <td>:</td>\n",
       "      <td>:</td>\n",
       "      <td>:</td>\n",
       "      <td>...</td>\n",
       "      <td>:</td>\n",
       "      <td>:</td>\n",
       "      <td>:</td>\n",
       "      <td>:</td>\n",
       "      <td>:</td>\n",
       "      <td>:</td>\n",
       "      <td>:</td>\n",
       "      <td>:</td>\n",
       "      <td>:</td>\n",
       "      <td>:</td>\n",
       "    </tr>\n",
       "    <tr>\n",
       "      <td>8597</td>\n",
       "      <td>Lugano,Cost of a taxi ride of 5 km to the cent...</td>\n",
       "      <td>:</td>\n",
       "      <td>:</td>\n",
       "      <td>:</td>\n",
       "      <td>:</td>\n",
       "      <td>:</td>\n",
       "      <td>:</td>\n",
       "      <td>:</td>\n",
       "      <td>:</td>\n",
       "      <td>:</td>\n",
       "      <td>...</td>\n",
       "      <td>: p</td>\n",
       "      <td>: p</td>\n",
       "      <td>: p</td>\n",
       "      <td>:</td>\n",
       "      <td>:</td>\n",
       "      <td>:</td>\n",
       "      <td>13.80 e</td>\n",
       "      <td>:</td>\n",
       "      <td>:</td>\n",
       "      <td>:</td>\n",
       "    </tr>\n",
       "    <tr>\n",
       "      <td>8598</td>\n",
       "      <td>Lugano (greater city),Cost of a taxi ride of 5...</td>\n",
       "      <td>:</td>\n",
       "      <td>:</td>\n",
       "      <td>:</td>\n",
       "      <td>:</td>\n",
       "      <td>:</td>\n",
       "      <td>:</td>\n",
       "      <td>:</td>\n",
       "      <td>:</td>\n",
       "      <td>:</td>\n",
       "      <td>...</td>\n",
       "      <td>:</td>\n",
       "      <td>:</td>\n",
       "      <td>:</td>\n",
       "      <td>:</td>\n",
       "      <td>:</td>\n",
       "      <td>:</td>\n",
       "      <td>:</td>\n",
       "      <td>:</td>\n",
       "      <td>:</td>\n",
       "      <td>:</td>\n",
       "    </tr>\n",
       "    <tr>\n",
       "      <td>8599</td>\n",
       "      <td>Biel/Bienne,Cost of a taxi ride of 5 km to the...</td>\n",
       "      <td>:</td>\n",
       "      <td>:</td>\n",
       "      <td>:</td>\n",
       "      <td>:</td>\n",
       "      <td>:</td>\n",
       "      <td>:</td>\n",
       "      <td>:</td>\n",
       "      <td>:</td>\n",
       "      <td>:</td>\n",
       "      <td>...</td>\n",
       "      <td>17.00 p</td>\n",
       "      <td>19.00 p</td>\n",
       "      <td>20.00 p</td>\n",
       "      <td>19.50 p</td>\n",
       "      <td>19.80 p</td>\n",
       "      <td>:</td>\n",
       "      <td>:</td>\n",
       "      <td>:</td>\n",
       "      <td>:</td>\n",
       "      <td>:</td>\n",
       "    </tr>\n",
       "  </tbody>\n",
       "</table>\n",
       "<p>8600 rows × 31 columns</p>\n",
       "</div>"
      ],
      "text/plain": [
       "                                   CITIES,INDIC_UR\\TIME 1990 1991 1992 1993  \\\n",
       "0     Belgium,Share of journeys to work by public tr...    :    :    :    :   \n",
       "1     Bruxelles / Brussel,Share of journeys to work ...    :    :    :    :   \n",
       "2     Antwerpen,Share of journeys to work by public ...    :    :    :    :   \n",
       "3     Gent,Share of journeys to work by public trans...    :    :    :    :   \n",
       "4     Charleroi,Share of journeys to work by public ...    :    :    :    :   \n",
       "...                                                 ...  ...  ...  ...  ...   \n",
       "8595  Luzern,Cost of a taxi ride of 5 km to the cent...    :    :    :    :   \n",
       "8596  Luzern (greater city),Cost of a taxi ride of 5...    :    :    :    :   \n",
       "8597  Lugano,Cost of a taxi ride of 5 km to the cent...    :    :    :    :   \n",
       "8598  Lugano (greater city),Cost of a taxi ride of 5...    :    :    :    :   \n",
       "8599  Biel/Bienne,Cost of a taxi ride of 5 km to the...    :    :    :    :   \n",
       "\n",
       "     1994 1995 1996 1997 1998  ...     2010     2011     2012     2013  \\\n",
       "0       :    :    :    :    :  ...        :    15.90        :        :   \n",
       "1       :    :    :    :    :  ...        :    40.30        :        :   \n",
       "2       :    :    :    :    :  ...        :    20.70        :        :   \n",
       "3       :    :    :    :    :  ...        :    14.27        :        :   \n",
       "4       :    :    :    :    :  ...        :     9.00        :        :   \n",
       "...   ...  ...  ...  ...  ...  ...      ...      ...      ...      ...   \n",
       "8595    :    :    :    :    :  ...  18.00 p  20.00 p  21.00 p  20.30 p   \n",
       "8596    :    :    :    :    :  ...        :        :        :        :   \n",
       "8597    :    :    :    :    :  ...      : p      : p      : p        :   \n",
       "8598    :    :    :    :    :  ...        :        :        :        :   \n",
       "8599    :    :    :    :    :  ...  17.00 p  19.00 p  20.00 p  19.50 p   \n",
       "\n",
       "         2014     2015     2016 2017 2018 2019  \n",
       "0           :        :        :    :    :    :  \n",
       "1           :        :        :    :    :    :  \n",
       "2           :        :        :    :    :    :  \n",
       "3           :        :        :    :    :    :  \n",
       "4           :        :        :    :    :    :  \n",
       "...       ...      ...      ...  ...  ...  ...  \n",
       "8595  20.60 e  23.40 e  22.90 e    :    :    :  \n",
       "8596        :        :        :    :    :    :  \n",
       "8597        :        :  13.80 e    :    :    :  \n",
       "8598        :        :        :    :    :    :  \n",
       "8599  19.80 p        :        :    :    :    :  \n",
       "\n",
       "[8600 rows x 31 columns]"
      ]
     },
     "execution_count": 359,
     "metadata": {},
     "output_type": "execute_result"
    }
   ],
   "source": [
    "trasporti = pd.read_csv('trasporti.csv', sep = '\\t',\n",
    "                          encoding =\"ISO-8859-1\", thousands=',')\n",
    "trasporti"
   ]
  },
  {
   "cell_type": "code",
   "execution_count": 232,
   "metadata": {},
   "outputs": [],
   "source": [
    "trasporti = trasporti.drop_duplicates()\n"
   ]
  },
  {
   "cell_type": "code",
   "execution_count": 360,
   "metadata": {},
   "outputs": [
    {
     "data": {
      "text/plain": [
       "0       [Belgium, hare of journeys to work by public t...\n",
       "1       [Bruxelles / Brussel, hare of journeys to work...\n",
       "2       [Antwerpen, hare of journeys to work by public...\n",
       "3       [Gent, hare of journeys to work by public tran...\n",
       "4       [Charleroi, hare of journeys to work by public...\n",
       "                              ...                        \n",
       "8595    [Luzern, ost of a taxi ride of 5 km to the cen...\n",
       "8596    [Luzern (greater city), ost of a taxi ride of ...\n",
       "8597    [Lugano, ost of a taxi ride of 5 km to the cen...\n",
       "8598    [Lugano (greater city), ost of a taxi ride of ...\n",
       "8599    [Biel/Bienne, ost of a taxi ride of 5 km to th...\n",
       "Name: CITIES,INDIC_UR\\TIME, Length: 8600, dtype: object"
      ]
     },
     "execution_count": 360,
     "metadata": {},
     "output_type": "execute_result"
    }
   ],
   "source": [
    "lista_citta = trasporti['CITIES,INDIC_UR\\TIME'].str.split(',\\w')\n",
    "lista_citta"
   ]
  },
  {
   "cell_type": "code",
   "execution_count": 362,
   "metadata": {},
   "outputs": [
    {
     "data": {
      "text/plain": [
       "8600"
      ]
     },
     "execution_count": 362,
     "metadata": {},
     "output_type": "execute_result"
    }
   ],
   "source": [
    "misurazioni = []\n",
    "city = []\n",
    "for el in lista_citta:\n",
    "    city.append(el[0])\n",
    "    misurazioni.append(el[1])\n",
    "len(misurazioni)\n"
   ]
  },
  {
   "cell_type": "code",
   "execution_count": 235,
   "metadata": {},
   "outputs": [
    {
     "name": "stdout",
     "output_type": "stream",
     "text": [
      "207\n",
      "208\n",
      "1277\n",
      "1278\n",
      "2347\n",
      "2348\n",
      "3417\n",
      "3418\n",
      "4489\n",
      "4490\n",
      "5563\n",
      "5564\n",
      "6626\n",
      "6627\n",
      "7689\n"
     ]
    }
   ],
   "source": [
    "i=0\n",
    "for el in city:\n",
    "    if el == 'Madrid':\n",
    "        print(i)\n",
    "    i+=1"
   ]
  },
  {
   "cell_type": "code",
   "execution_count": 236,
   "metadata": {},
   "outputs": [],
   "source": [
    "trasporti = trasporti.drop(trasporti.index[208])\n",
    "trasporti = trasporti.drop(trasporti.index[1277])\n",
    "trasporti = trasporti.drop(trasporti.index[2346])\n",
    "trasporti = trasporti.drop(trasporti.index[3415])\n",
    "trasporti = trasporti.drop(trasporti.index[4486])\n",
    "trasporti = trasporti.drop(trasporti.index[5559])\n",
    "trasporti = trasporti.drop(trasporti.index[6621])"
   ]
  },
  {
   "cell_type": "code",
   "execution_count": 237,
   "metadata": {},
   "outputs": [
    {
     "data": {
      "text/plain": [
       "8535"
      ]
     },
     "execution_count": 237,
     "metadata": {},
     "output_type": "execute_result"
    }
   ],
   "source": [
    "lista_citta = trasporti['CITIES,INDIC_UR\\TIME'].str.split(',\\w')\n",
    "misurazioni = []\n",
    "city = []\n",
    "for el in lista_citta:\n",
    "    city.append(el[0])\n",
    "    misurazioni.append(el[1])\n",
    "len(misurazioni)"
   ]
  },
  {
   "cell_type": "code",
   "execution_count": 238,
   "metadata": {},
   "outputs": [
    {
     "name": "stdout",
     "output_type": "stream",
     "text": [
      "208\n",
      "209\n",
      "1277\n",
      "1278\n",
      "2346\n",
      "2347\n",
      "3415\n",
      "3416\n",
      "4486\n",
      "4487\n",
      "5559\n",
      "5560\n",
      "6621\n",
      "6622\n",
      "7683\n"
     ]
    }
   ],
   "source": [
    "i=0\n",
    "for el in city:\n",
    "    if el == 'Barcelona':\n",
    "        print(i)\n",
    "    i+=1"
   ]
  },
  {
   "cell_type": "code",
   "execution_count": 239,
   "metadata": {},
   "outputs": [],
   "source": [
    "trasporti = trasporti.drop(trasporti.index[209])\n",
    "trasporti = trasporti.drop(trasporti.index[1277])\n",
    "trasporti = trasporti.drop(trasporti.index[2345])\n",
    "trasporti = trasporti.drop(trasporti.index[3413])\n",
    "trasporti = trasporti.drop(trasporti.index[4483])\n",
    "trasporti = trasporti.drop(trasporti.index[5555])\n",
    "trasporti = trasporti.drop(trasporti.index[6616])"
   ]
  },
  {
   "cell_type": "code",
   "execution_count": 240,
   "metadata": {},
   "outputs": [
    {
     "data": {
      "text/plain": [
       "8528"
      ]
     },
     "execution_count": 240,
     "metadata": {},
     "output_type": "execute_result"
    }
   ],
   "source": [
    "lista_citta = trasporti['CITIES,INDIC_UR\\TIME'].str.split(',\\w')\n",
    "misurazioni = []\n",
    "city = []\n",
    "for el in lista_citta:\n",
    "    city.append(el[0])\n",
    "    misurazioni.append(el[1])\n",
    "len(misurazioni)\n"
   ]
  },
  {
   "cell_type": "code",
   "execution_count": 241,
   "metadata": {},
   "outputs": [
    {
     "name": "stdout",
     "output_type": "stream",
     "text": [
      "209\n",
      "210\n",
      "1277\n",
      "1278\n",
      "2345\n",
      "2346\n",
      "3413\n",
      "3414\n",
      "4483\n",
      "4484\n",
      "5555\n",
      "5556\n",
      "6616\n",
      "6617\n",
      "7677\n"
     ]
    }
   ],
   "source": [
    "i=0\n",
    "for el in city:\n",
    "    if el == 'Valencia':\n",
    "        print(i)\n",
    "    i+=1"
   ]
  },
  {
   "cell_type": "code",
   "execution_count": 242,
   "metadata": {},
   "outputs": [],
   "source": [
    "trasporti = trasporti.drop(trasporti.index[210])\n",
    "trasporti = trasporti.drop(trasporti.index[1277])\n",
    "trasporti = trasporti.drop(trasporti.index[2344])\n",
    "trasporti = trasporti.drop(trasporti.index[3411])\n",
    "trasporti = trasporti.drop(trasporti.index[4480])\n",
    "trasporti = trasporti.drop(trasporti.index[5551])\n",
    "trasporti = trasporti.drop(trasporti.index[6611])"
   ]
  },
  {
   "cell_type": "code",
   "execution_count": 243,
   "metadata": {},
   "outputs": [
    {
     "data": {
      "text/plain": [
       "8521"
      ]
     },
     "execution_count": 243,
     "metadata": {},
     "output_type": "execute_result"
    }
   ],
   "source": [
    "lista_citta = trasporti['CITIES,INDIC_UR\\TIME'].str.split(',\\w')\n",
    "misurazioni = []\n",
    "city = []\n",
    "for el in lista_citta:\n",
    "    city.append(el[0])\n",
    "    misurazioni.append(el[1])\n",
    "len(misurazioni)"
   ]
  },
  {
   "cell_type": "code",
   "execution_count": 244,
   "metadata": {},
   "outputs": [
    {
     "name": "stdout",
     "output_type": "stream",
     "text": [
      "210\n",
      "211\n",
      "1277\n",
      "1278\n",
      "2344\n",
      "2345\n",
      "3411\n",
      "3412\n",
      "4480\n",
      "4481\n",
      "5551\n",
      "5552\n",
      "6611\n",
      "7671\n"
     ]
    }
   ],
   "source": [
    "i=0\n",
    "for el in city:\n",
    "    if el == 'Sevilla':\n",
    "        print(i)\n",
    "    i+=1"
   ]
  },
  {
   "cell_type": "code",
   "execution_count": 245,
   "metadata": {},
   "outputs": [],
   "source": [
    "trasporti = trasporti.drop(trasporti.index[211])\n",
    "trasporti = trasporti.drop(trasporti.index[1277])\n",
    "trasporti = trasporti.drop(trasporti.index[2343])\n",
    "trasporti = trasporti.drop(trasporti.index[3409])\n",
    "trasporti = trasporti.drop(trasporti.index[4477])\n",
    "trasporti = trasporti.drop(trasporti.index[5547])"
   ]
  },
  {
   "cell_type": "code",
   "execution_count": 246,
   "metadata": {},
   "outputs": [
    {
     "data": {
      "text/plain": [
       "8515"
      ]
     },
     "execution_count": 246,
     "metadata": {},
     "output_type": "execute_result"
    }
   ],
   "source": [
    "lista_citta = trasporti['CITIES,INDIC_UR\\TIME'].str.split(',\\w')\n",
    "misurazioni = []\n",
    "city = []\n",
    "for el in lista_citta:\n",
    "    city.append(el[0])\n",
    "    misurazioni.append(el[1])\n",
    "len(misurazioni)"
   ]
  },
  {
   "cell_type": "code",
   "execution_count": 247,
   "metadata": {},
   "outputs": [
    {
     "name": "stdout",
     "output_type": "stream",
     "text": [
      "220\n",
      "221\n",
      "1286\n",
      "1287\n",
      "2352\n",
      "2353\n",
      "3418\n",
      "3419\n",
      "4486\n",
      "4487\n",
      "5556\n",
      "5557\n",
      "6615\n",
      "6616\n",
      "7675\n"
     ]
    }
   ],
   "source": [
    "i=0\n",
    "for el in city:\n",
    "    if el == 'Pamplona/Iruña':\n",
    "        print(i)\n",
    "    i+=1"
   ]
  },
  {
   "cell_type": "code",
   "execution_count": 248,
   "metadata": {},
   "outputs": [],
   "source": [
    "trasporti = trasporti.drop(trasporti.index[221])\n",
    "trasporti = trasporti.drop(trasporti.index[1286])\n",
    "trasporti = trasporti.drop(trasporti.index[2351])\n",
    "trasporti = trasporti.drop(trasporti.index[3416])\n",
    "trasporti = trasporti.drop(trasporti.index[4483])\n",
    "trasporti = trasporti.drop(trasporti.index[5552])\n",
    "trasporti = trasporti.drop(trasporti.index[6610])"
   ]
  },
  {
   "cell_type": "code",
   "execution_count": 249,
   "metadata": {},
   "outputs": [
    {
     "data": {
      "text/plain": [
       "8508"
      ]
     },
     "execution_count": 249,
     "metadata": {},
     "output_type": "execute_result"
    }
   ],
   "source": [
    "lista_citta = trasporti['CITIES,INDIC_UR\\TIME'].str.split(',\\w')\n",
    "misurazioni = []\n",
    "city = []\n",
    "for el in lista_citta:\n",
    "    city.append(el[0])\n",
    "    misurazioni.append(el[1])\n",
    "len(misurazioni)"
   ]
  },
  {
   "cell_type": "code",
   "execution_count": 250,
   "metadata": {},
   "outputs": [
    {
     "name": "stdout",
     "output_type": "stream",
     "text": [
      "225\n",
      "226\n",
      "1290\n",
      "1291\n",
      "2355\n",
      "2356\n",
      "3420\n",
      "3421\n",
      "4487\n",
      "4488\n",
      "5556\n",
      "6614\n",
      "7673\n"
     ]
    }
   ],
   "source": [
    "i=0\n",
    "for el in city:\n",
    "    if el == 'Bilbao':\n",
    "        print(i)\n",
    "    i+=1"
   ]
  },
  {
   "cell_type": "code",
   "execution_count": 251,
   "metadata": {},
   "outputs": [],
   "source": [
    "trasporti = trasporti.drop(trasporti.index[226])\n",
    "trasporti = trasporti.drop(trasporti.index[1290])\n",
    "trasporti = trasporti.drop(trasporti.index[2354])\n",
    "trasporti = trasporti.drop(trasporti.index[3418])\n",
    "trasporti = trasporti.drop(trasporti.index[4484])"
   ]
  },
  {
   "cell_type": "code",
   "execution_count": 252,
   "metadata": {},
   "outputs": [
    {
     "data": {
      "text/plain": [
       "8503"
      ]
     },
     "execution_count": 252,
     "metadata": {},
     "output_type": "execute_result"
    }
   ],
   "source": [
    "lista_citta = trasporti['CITIES,INDIC_UR\\TIME'].str.split(',\\w')\n",
    "misurazioni = []\n",
    "city = []\n",
    "for el in lista_citta:\n",
    "    city.append(el[0])\n",
    "    misurazioni.append(el[1])\n",
    "len(misurazioni)"
   ]
  },
  {
   "cell_type": "code",
   "execution_count": 253,
   "metadata": {},
   "outputs": [
    {
     "name": "stdout",
     "output_type": "stream",
     "text": [
      "231\n",
      "232\n",
      "1295\n",
      "1296\n",
      "2359\n",
      "2360\n",
      "3423\n",
      "3424\n",
      "4489\n",
      "4490\n",
      "5557\n",
      "6615\n",
      "6616\n",
      "7674\n",
      "7675\n"
     ]
    }
   ],
   "source": [
    "i=0\n",
    "for el in city:\n",
    "    if el == 'Santa Cruz de Tenerife':\n",
    "        print(i)\n",
    "    i+=1"
   ]
  },
  {
   "cell_type": "code",
   "execution_count": 254,
   "metadata": {},
   "outputs": [],
   "source": [
    "trasporti = trasporti.drop(trasporti.index[232])\n",
    "trasporti = trasporti.drop(trasporti.index[1295])\n",
    "trasporti = trasporti.drop(trasporti.index[2358])\n",
    "trasporti = trasporti.drop(trasporti.index[3421])\n",
    "trasporti = trasporti.drop(trasporti.index[4486])\n",
    "trasporti = trasporti.drop(trasporti.index[6611])\n",
    "trasporti = trasporti.drop(trasporti.index[7669])"
   ]
  },
  {
   "cell_type": "code",
   "execution_count": 255,
   "metadata": {},
   "outputs": [
    {
     "data": {
      "text/plain": [
       "8496"
      ]
     },
     "execution_count": 255,
     "metadata": {},
     "output_type": "execute_result"
    }
   ],
   "source": [
    "lista_citta = trasporti['CITIES,INDIC_UR\\TIME'].str.split(',\\w')\n",
    "misurazioni = []\n",
    "city = []\n",
    "for el in lista_citta:\n",
    "    city.append(el[0])\n",
    "    misurazioni.append(el[1])\n",
    "len(misurazioni)"
   ]
  },
  {
   "cell_type": "code",
   "execution_count": 256,
   "metadata": {},
   "outputs": [
    {
     "name": "stdout",
     "output_type": "stream",
     "text": [
      "279\n",
      "1342\n",
      "2405\n",
      "3468\n",
      "3469\n",
      "4533\n",
      "4534\n",
      "5600\n",
      "6658\n",
      "7716\n"
     ]
    }
   ],
   "source": [
    "i=0\n",
    "for el in city:\n",
    "    if el == 'Elda':\n",
    "        print(i)\n",
    "    i+=1"
   ]
  },
  {
   "cell_type": "code",
   "execution_count": 257,
   "metadata": {},
   "outputs": [
    {
     "name": "stdout",
     "output_type": "stream",
     "text": [
      "279\n",
      "1342\n",
      "2405\n",
      "3468\n",
      "3469\n",
      "4533\n",
      "4534\n",
      "5600\n",
      "6658\n",
      "7716\n"
     ]
    }
   ],
   "source": [
    "i=0\n",
    "for el in city:\n",
    "    if el == 'Elda':\n",
    "        print(i)\n",
    "    i+=1"
   ]
  },
  {
   "cell_type": "code",
   "execution_count": 258,
   "metadata": {},
   "outputs": [],
   "source": [
    "trasporti = trasporti.drop(trasporti.index[3469])\n",
    "trasporti = trasporti.drop(trasporti.index[4533])"
   ]
  },
  {
   "cell_type": "code",
   "execution_count": 259,
   "metadata": {},
   "outputs": [
    {
     "data": {
      "text/plain": [
       "8494"
      ]
     },
     "execution_count": 259,
     "metadata": {},
     "output_type": "execute_result"
    }
   ],
   "source": [
    "lista_citta = trasporti['CITIES,INDIC_UR\\TIME'].str.split(',\\w')\n",
    "misurazioni = []\n",
    "city = []\n",
    "for el in lista_citta:\n",
    "    city.append(el[0])\n",
    "    misurazioni.append(el[1])\n",
    "len(misurazioni)"
   ]
  },
  {
   "cell_type": "code",
   "execution_count": 260,
   "metadata": {},
   "outputs": [
    {
     "name": "stdout",
     "output_type": "stream",
     "text": [
      "282\n",
      "1345\n",
      "2408\n",
      "3471\n",
      "3472\n",
      "4535\n",
      "4536\n",
      "5601\n",
      "6659\n",
      "7717\n"
     ]
    }
   ],
   "source": [
    "i=0\n",
    "for el in city:\n",
    "    if el == 'Granada':\n",
    "        print(i)\n",
    "    i+=1"
   ]
  },
  {
   "cell_type": "code",
   "execution_count": 261,
   "metadata": {},
   "outputs": [],
   "source": [
    "trasporti = trasporti.drop(trasporti.index[3472])\n",
    "trasporti = trasporti.drop(trasporti.index[4535])"
   ]
  },
  {
   "cell_type": "code",
   "execution_count": 262,
   "metadata": {},
   "outputs": [
    {
     "data": {
      "text/plain": [
       "8492"
      ]
     },
     "execution_count": 262,
     "metadata": {},
     "output_type": "execute_result"
    }
   ],
   "source": [
    "lista_citta = trasporti['CITIES,INDIC_UR\\TIME'].str.split(',\\w')\n",
    "misurazioni = []\n",
    "city = []\n",
    "for el in lista_citta:\n",
    "    city.append(el[0])\n",
    "    misurazioni.append(el[1])\n",
    "len(misurazioni)"
   ]
  },
  {
   "cell_type": "code",
   "execution_count": 263,
   "metadata": {},
   "outputs": [
    {
     "name": "stdout",
     "output_type": "stream",
     "text": [
      "330\n",
      "1393\n",
      "2456\n",
      "3519\n",
      "4582\n",
      "4583\n",
      "5647\n",
      "6705\n",
      "7763\n"
     ]
    }
   ],
   "source": [
    "i=0\n",
    "for el in city:\n",
    "    if el == 'Puerto de la Cruz':\n",
    "        print(i)\n",
    "    i+=1"
   ]
  },
  {
   "cell_type": "code",
   "execution_count": 264,
   "metadata": {},
   "outputs": [],
   "source": [
    "trasporti = trasporti.drop(trasporti.index[4583])"
   ]
  },
  {
   "cell_type": "code",
   "execution_count": 265,
   "metadata": {},
   "outputs": [
    {
     "data": {
      "text/plain": [
       "8491"
      ]
     },
     "execution_count": 265,
     "metadata": {},
     "output_type": "execute_result"
    }
   ],
   "source": [
    "lista_citta = trasporti['CITIES,INDIC_UR\\TIME'].str.split(',\\w')\n",
    "misurazioni = []\n",
    "city = []\n",
    "for el in lista_citta:\n",
    "    city.append(el[0])\n",
    "    misurazioni.append(el[1])\n",
    "len(misurazioni)"
   ]
  },
  {
   "cell_type": "code",
   "execution_count": 266,
   "metadata": {},
   "outputs": [
    {
     "name": "stdout",
     "output_type": "stream",
     "text": [
      "332\n",
      "1395\n",
      "2458\n",
      "3521\n",
      "4584\n",
      "4585\n",
      "5648\n",
      "6706\n",
      "7764\n"
     ]
    }
   ],
   "source": [
    "i=0\n",
    "for el in city:\n",
    "    if el == 'Igualada':\n",
    "        print(i)\n",
    "    i+=1"
   ]
  },
  {
   "cell_type": "code",
   "execution_count": 267,
   "metadata": {},
   "outputs": [],
   "source": [
    "trasporti = trasporti.drop(trasporti.index[4585])"
   ]
  },
  {
   "cell_type": "code",
   "execution_count": 268,
   "metadata": {},
   "outputs": [
    {
     "data": {
      "text/plain": [
       "8490"
      ]
     },
     "execution_count": 268,
     "metadata": {},
     "output_type": "execute_result"
    }
   ],
   "source": [
    "lista_citta = trasporti['CITIES,INDIC_UR\\TIME'].str.split(',\\w')\n",
    "misurazioni = []\n",
    "city = []\n",
    "for el in lista_citta:\n",
    "    city.append(el[0])\n",
    "    misurazioni.append(el[1])\n",
    "len(misurazioni)"
   ]
  },
  {
   "cell_type": "code",
   "execution_count": 269,
   "metadata": {},
   "outputs": [
    {
     "name": "stdout",
     "output_type": "stream",
     "text": [
      "831\n",
      "832\n",
      "1894\n",
      "1895\n",
      "2957\n",
      "2958\n",
      "4020\n",
      "4021\n",
      "5083\n",
      "5084\n",
      "6146\n",
      "7204\n",
      "7205\n",
      "8262\n",
      "8263\n"
     ]
    }
   ],
   "source": [
    "i=0\n",
    "for el in city:\n",
    "    if el == 'Liverpool':\n",
    "        print(i)\n",
    "    i+=1"
   ]
  },
  {
   "cell_type": "code",
   "execution_count": 270,
   "metadata": {},
   "outputs": [],
   "source": [
    "trasporti = trasporti.drop(trasporti.index[832])\n",
    "trasporti = trasporti.drop(trasporti.index[1894])\n",
    "trasporti = trasporti.drop(trasporti.index[2956])\n",
    "trasporti = trasporti.drop(trasporti.index[4018])\n",
    "trasporti = trasporti.drop(trasporti.index[5080])\n",
    "trasporti = trasporti.drop(trasporti.index[7199])\n",
    "trasporti = trasporti.drop(trasporti.index[8256])"
   ]
  },
  {
   "cell_type": "code",
   "execution_count": 271,
   "metadata": {},
   "outputs": [
    {
     "data": {
      "text/plain": [
       "8483"
      ]
     },
     "execution_count": 271,
     "metadata": {},
     "output_type": "execute_result"
    }
   ],
   "source": [
    "lista_citta = trasporti['CITIES,INDIC_UR\\TIME'].str.split(',\\w')\n",
    "misurazioni = []\n",
    "city = []\n",
    "for el in lista_citta:\n",
    "    city.append(el[0])\n",
    "    misurazioni.append(el[1])\n",
    "len(misurazioni)"
   ]
  },
  {
   "cell_type": "code",
   "execution_count": 272,
   "metadata": {},
   "outputs": [
    {
     "name": "stdout",
     "output_type": "stream",
     "text": [
      "856\n",
      "857\n",
      "1918\n",
      "1919\n",
      "2980\n",
      "2981\n",
      "4042\n",
      "4043\n",
      "5104\n",
      "5105\n",
      "6166\n",
      "6167\n",
      "7224\n",
      "8281\n",
      "8282\n"
     ]
    }
   ],
   "source": [
    "i=0\n",
    "for el in city:\n",
    "    if el == 'Stoke-on-trent':\n",
    "        print(i)\n",
    "    i+=1"
   ]
  },
  {
   "cell_type": "code",
   "execution_count": 273,
   "metadata": {},
   "outputs": [],
   "source": [
    "trasporti = trasporti.drop(trasporti.index[857])\n",
    "trasporti = trasporti.drop(trasporti.index[1918])\n",
    "trasporti = trasporti.drop(trasporti.index[2979])\n",
    "trasporti = trasporti.drop(trasporti.index[4040])\n",
    "trasporti = trasporti.drop(trasporti.index[5101])\n",
    "trasporti = trasporti.drop(trasporti.index[6162])\n",
    "trasporti = trasporti.drop(trasporti.index[8276])"
   ]
  },
  {
   "cell_type": "code",
   "execution_count": 274,
   "metadata": {},
   "outputs": [
    {
     "data": {
      "text/plain": [
       "8476"
      ]
     },
     "execution_count": 274,
     "metadata": {},
     "output_type": "execute_result"
    }
   ],
   "source": [
    "lista_citta = trasporti['CITIES,INDIC_UR\\TIME'].str.split(',\\w')\n",
    "misurazioni = []\n",
    "city = []\n",
    "for el in lista_citta:\n",
    "    city.append(el[0])\n",
    "    misurazioni.append(el[1])\n",
    "len(misurazioni)"
   ]
  },
  {
   "cell_type": "code",
   "execution_count": 275,
   "metadata": {},
   "outputs": [
    {
     "name": "stdout",
     "output_type": "stream",
     "text": [
      "933\n",
      "934\n",
      "1994\n",
      "1995\n",
      "3055\n",
      "3056\n",
      "4116\n",
      "4117\n",
      "5177\n",
      "5178\n",
      "6238\n",
      "7295\n",
      "8352\n"
     ]
    }
   ],
   "source": [
    "i=0\n",
    "for el in city:\n",
    "    if el == 'Brighton and Hove':\n",
    "        print(i)\n",
    "    i+=1"
   ]
  },
  {
   "cell_type": "code",
   "execution_count": 276,
   "metadata": {},
   "outputs": [],
   "source": [
    "trasporti = trasporti.drop(trasporti.index[934])\n",
    "trasporti = trasporti.drop(trasporti.index[1994])\n",
    "trasporti = trasporti.drop(trasporti.index[3054])\n",
    "trasporti = trasporti.drop(trasporti.index[4114])\n",
    "trasporti = trasporti.drop(trasporti.index[5174])"
   ]
  },
  {
   "cell_type": "code",
   "execution_count": 277,
   "metadata": {},
   "outputs": [
    {
     "data": {
      "text/plain": [
       "8471"
      ]
     },
     "execution_count": 277,
     "metadata": {},
     "output_type": "execute_result"
    }
   ],
   "source": [
    "lista_citta = trasporti['CITIES,INDIC_UR\\TIME'].str.split(',\\w')\n",
    "misurazioni = []\n",
    "city = []\n",
    "for el in lista_citta:\n",
    "    city.append(el[0])\n",
    "    misurazioni.append(el[1])\n",
    "len(misurazioni)"
   ]
  },
  {
   "cell_type": "code",
   "execution_count": 278,
   "metadata": {},
   "outputs": [
    {
     "name": "stdout",
     "output_type": "stream",
     "text": [
      "938\n",
      "939\n",
      "1998\n",
      "1999\n",
      "3058\n",
      "3059\n",
      "4118\n",
      "4119\n",
      "5178\n",
      "5179\n",
      "6238\n",
      "7295\n",
      "8352\n"
     ]
    }
   ],
   "source": [
    "i=0\n",
    "for el in city:\n",
    "    if el == 'Southampton':\n",
    "        print(i)\n",
    "    i+=1"
   ]
  },
  {
   "cell_type": "code",
   "execution_count": 279,
   "metadata": {},
   "outputs": [],
   "source": [
    "trasporti = trasporti.drop(trasporti.index[939])\n",
    "trasporti = trasporti.drop(trasporti.index[1998])\n",
    "trasporti = trasporti.drop(trasporti.index[3057])\n",
    "trasporti = trasporti.drop(trasporti.index[4116])\n",
    "trasporti = trasporti.drop(trasporti.index[5175])"
   ]
  },
  {
   "cell_type": "code",
   "execution_count": 280,
   "metadata": {},
   "outputs": [
    {
     "data": {
      "text/plain": [
       "8466"
      ]
     },
     "execution_count": 280,
     "metadata": {},
     "output_type": "execute_result"
    }
   ],
   "source": [
    "lista_citta = trasporti['CITIES,INDIC_UR\\TIME'].str.split(',\\w')\n",
    "misurazioni = []\n",
    "city = []\n",
    "for el in lista_citta:\n",
    "    city.append(el[0])\n",
    "    misurazioni.append(el[1])\n",
    "len(misurazioni)"
   ]
  },
  {
   "cell_type": "code",
   "execution_count": 281,
   "metadata": {},
   "outputs": [
    {
     "name": "stdout",
     "output_type": "stream",
     "text": [
      "957\n",
      "958\n",
      "2016\n",
      "2017\n",
      "3075\n",
      "3076\n",
      "4134\n",
      "4135\n",
      "5193\n",
      "5194\n",
      "6252\n",
      "7309\n",
      "8366\n"
     ]
    }
   ],
   "source": [
    "i=0\n",
    "for el in city:\n",
    "    if el == 'Bournemouth':\n",
    "        print(i)\n",
    "    i+=1"
   ]
  },
  {
   "cell_type": "code",
   "execution_count": 282,
   "metadata": {},
   "outputs": [],
   "source": [
    "trasporti = trasporti.drop(trasporti.index[958])\n",
    "trasporti = trasporti.drop(trasporti.index[2016])\n",
    "trasporti = trasporti.drop(trasporti.index[3074])\n",
    "trasporti = trasporti.drop(trasporti.index[4132])\n",
    "trasporti = trasporti.drop(trasporti.index[5190])"
   ]
  },
  {
   "cell_type": "code",
   "execution_count": 283,
   "metadata": {},
   "outputs": [
    {
     "data": {
      "text/plain": [
       "8461"
      ]
     },
     "execution_count": 283,
     "metadata": {},
     "output_type": "execute_result"
    }
   ],
   "source": [
    "lista_citta = trasporti['CITIES,INDIC_UR\\TIME'].str.split(',\\w')\n",
    "misurazioni = []\n",
    "city = []\n",
    "for el in lista_citta:\n",
    "    city.append(el[0])\n",
    "    misurazioni.append(el[1])\n",
    "len(misurazioni)"
   ]
  },
  {
   "cell_type": "code",
   "execution_count": 284,
   "metadata": {},
   "outputs": [
    {
     "name": "stdout",
     "output_type": "stream",
     "text": [
      "973\n",
      "974\n",
      "2031\n",
      "2032\n",
      "3089\n",
      "3090\n",
      "4147\n",
      "4148\n",
      "5205\n",
      "5206\n",
      "6263\n",
      "7320\n",
      "8377\n"
     ]
    }
   ],
   "source": [
    "i=0\n",
    "for el in city:\n",
    "    if el == 'Blackpool':\n",
    "        print(i)\n",
    "    i+=1"
   ]
  },
  {
   "cell_type": "code",
   "execution_count": 285,
   "metadata": {},
   "outputs": [],
   "source": [
    "trasporti = trasporti.drop(trasporti.index[974])\n",
    "trasporti = trasporti.drop(trasporti.index[2031])\n",
    "trasporti = trasporti.drop(trasporti.index[3088])\n",
    "trasporti = trasporti.drop(trasporti.index[4145])\n",
    "trasporti = trasporti.drop(trasporti.index[5202])"
   ]
  },
  {
   "cell_type": "code",
   "execution_count": 286,
   "metadata": {},
   "outputs": [
    {
     "data": {
      "text/plain": [
       "8456"
      ]
     },
     "execution_count": 286,
     "metadata": {},
     "output_type": "execute_result"
    }
   ],
   "source": [
    "lista_citta = trasporti['CITIES,INDIC_UR\\TIME'].str.split(',\\w')\n",
    "misurazioni = []\n",
    "city = []\n",
    "for el in lista_citta:\n",
    "    city.append(el[0])\n",
    "    misurazioni.append(el[1])\n",
    "len(misurazioni)"
   ]
  },
  {
   "cell_type": "code",
   "execution_count": 288,
   "metadata": {},
   "outputs": [
    {
     "data": {
      "text/plain": [
       "1057"
      ]
     },
     "execution_count": 288,
     "metadata": {},
     "output_type": "execute_result"
    }
   ],
   "source": [
    "unici=[]\n",
    "for el in city:\n",
    "    if el not in unici:\n",
    "        unici.append(el)\n",
    "len(unici)"
   ]
  },
  {
   "cell_type": "code",
   "execution_count": 289,
   "metadata": {},
   "outputs": [],
   "source": [
    "diz={}\n",
    "for el in unici:\n",
    "    i=0\n",
    "    for elemento in city:\n",
    "        if elemento==el:\n",
    "            i+=1\n",
    "    diz[el]=i"
   ]
  },
  {
   "cell_type": "code",
   "execution_count": 290,
   "metadata": {},
   "outputs": [
    {
     "data": {
      "text/plain": [
       "[]"
      ]
     },
     "execution_count": 290,
     "metadata": {},
     "output_type": "execute_result"
    }
   ],
   "source": [
    "lista_doppioni=[]\n",
    "for key, value in diz.items() :\n",
    "    if value != 8:\n",
    "        print (key, value)\n",
    "        lista_doppioni.append(key)\n",
    "lista_doppioni"
   ]
  },
  {
   "cell_type": "code",
   "execution_count": 291,
   "metadata": {},
   "outputs": [],
   "source": [
    "trasporti['CITIES,INDIC_UR\\TIME']=city"
   ]
  },
  {
   "cell_type": "code",
   "execution_count": 339,
   "metadata": {},
   "outputs": [],
   "source": [
    "bike_network = trasporti[:1057]\n",
    "kill_accident = trasporti[1057:2114]\n",
    "share_bike = trasporti[2114:3171]\n",
    "share_car_mot = trasporti[3171:4228]\n",
    "share_foot = trasporti[4228:5285]\n",
    "share_pub_tra = trasporti[5285:6342]\n",
    "cost_ticket = trasporti[6342:7399]\n",
    "cost_taxi = trasporti[7399:]"
   ]
  },
  {
   "cell_type": "code",
   "execution_count": 340,
   "metadata": {},
   "outputs": [],
   "source": [
    "for index, row in bike_network.iterrows():\n",
    "    for i in range(1990,2020):\n",
    "        row[str(i)] = str(row[str(i)]).replace('e', '')\n",
    "        row[str(i)] = str(row[str(i)]).replace(',', '')\n",
    "        row[str(i)] = str(row[str(i)]).replace('b', '')\n",
    "        row[str(i)] = str(row[str(i)]).replace('d', '')\n",
    "        row[str(i)] = str(row[str(i)]).replace('p', '')\n",
    "        row[str(i)] = str(row[str(i)]).replace('r', '')\n",
    "        row[str(i)] = str(row[str(i)]).replace(':c', ':')\n",
    "        row[str(i)] = str(row[str(i)]).replace(':u', ':')\n",
    "        row[str(i)] = str(row[str(i)]).replace(':u', ':')\n",
    "        row[str(i)] = str(row[str(i)]).replace(': u', ':')\n",
    "        row[str(i)] = str(row[str(i)]).replace(':U', ':')\n",
    "        row[str(i)] = str(row[str(i)]).replace(': ', ':')"
   ]
  },
  {
   "cell_type": "code",
   "execution_count": 341,
   "metadata": {},
   "outputs": [],
   "source": [
    "for index, row in kill_accident.iterrows():\n",
    "    for i in range(1990,2020):\n",
    "        row[str(i)] = str(row[str(i)]).replace('e', '')\n",
    "        row[str(i)] = str(row[str(i)]).replace(',', '')\n",
    "        row[str(i)] = str(row[str(i)]).replace('b', '')\n",
    "        row[str(i)] = str(row[str(i)]).replace('d', '')\n",
    "        row[str(i)] = str(row[str(i)]).replace('p', '')\n",
    "        row[str(i)] = str(row[str(i)]).replace('r', '')\n",
    "        row[str(i)] = str(row[str(i)]).replace(':c', ':')\n",
    "        row[str(i)] = str(row[str(i)]).replace(':u', ':')\n",
    "        row[str(i)] = str(row[str(i)]).replace(':u', ':')\n",
    "        row[str(i)] = str(row[str(i)]).replace(': u', ':')\n",
    "        row[str(i)] = str(row[str(i)]).replace(':U', ':')\n",
    "        row[str(i)] = str(row[str(i)]).replace(': ', ':')"
   ]
  },
  {
   "cell_type": "code",
   "execution_count": 342,
   "metadata": {},
   "outputs": [],
   "source": [
    "for index, row in share_bike.iterrows():\n",
    "    for i in range(1990,2020):\n",
    "        row[str(i)] = str(row[str(i)]).replace('e', '')\n",
    "        row[str(i)] = str(row[str(i)]).replace(',', '')\n",
    "        row[str(i)] = str(row[str(i)]).replace('b', '')\n",
    "        row[str(i)] = str(row[str(i)]).replace('d', '')\n",
    "        row[str(i)] = str(row[str(i)]).replace('p', '')\n",
    "        row[str(i)] = str(row[str(i)]).replace('r', '')\n",
    "        row[str(i)] = str(row[str(i)]).replace(':c', ':')\n",
    "        row[str(i)] = str(row[str(i)]).replace(':u', ':')\n",
    "        row[str(i)] = str(row[str(i)]).replace(':u', ':')\n",
    "        row[str(i)] = str(row[str(i)]).replace(': u', ':')\n",
    "        row[str(i)] = str(row[str(i)]).replace(':U', ':')\n",
    "        row[str(i)] = str(row[str(i)]).replace(': ', ':')"
   ]
  },
  {
   "cell_type": "code",
   "execution_count": 343,
   "metadata": {},
   "outputs": [],
   "source": [
    "for index, row in share_car_mot.iterrows():\n",
    "    for i in range(1990,2020):\n",
    "        row[str(i)] = str(row[str(i)]).replace('e', '')\n",
    "        row[str(i)] = str(row[str(i)]).replace(',', '')\n",
    "        row[str(i)] = str(row[str(i)]).replace('b', '')\n",
    "        row[str(i)] = str(row[str(i)]).replace('d', '')\n",
    "        row[str(i)] = str(row[str(i)]).replace('p', '')\n",
    "        row[str(i)] = str(row[str(i)]).replace('r', '')\n",
    "        row[str(i)] = str(row[str(i)]).replace(':c', ':')\n",
    "        row[str(i)] = str(row[str(i)]).replace(':u', ':')\n",
    "        row[str(i)] = str(row[str(i)]).replace(':u', ':')\n",
    "        row[str(i)] = str(row[str(i)]).replace(': u', ':')\n",
    "        row[str(i)] = str(row[str(i)]).replace(':U', ':')\n",
    "        row[str(i)] = str(row[str(i)]).replace(': ', ':')"
   ]
  },
  {
   "cell_type": "code",
   "execution_count": 344,
   "metadata": {},
   "outputs": [],
   "source": [
    "for index, row in share_foot.iterrows():\n",
    "    for i in range(1990,2020):\n",
    "        row[str(i)] = str(row[str(i)]).replace('e', '')\n",
    "        row[str(i)] = str(row[str(i)]).replace(',', '')\n",
    "        row[str(i)] = str(row[str(i)]).replace('b', '')\n",
    "        row[str(i)] = str(row[str(i)]).replace('d', '')\n",
    "        row[str(i)] = str(row[str(i)]).replace('p', '')\n",
    "        row[str(i)] = str(row[str(i)]).replace('r', '')\n",
    "        row[str(i)] = str(row[str(i)]).replace(':c', ':')\n",
    "        row[str(i)] = str(row[str(i)]).replace(':u', ':')\n",
    "        row[str(i)] = str(row[str(i)]).replace(':u', ':')\n",
    "        row[str(i)] = str(row[str(i)]).replace(': u', ':')\n",
    "        row[str(i)] = str(row[str(i)]).replace(':U', ':')\n",
    "        row[str(i)] = str(row[str(i)]).replace(': ', ':')"
   ]
  },
  {
   "cell_type": "code",
   "execution_count": 345,
   "metadata": {},
   "outputs": [],
   "source": [
    "for index, row in share_pub_tra.iterrows():\n",
    "    for i in range(1990,2020):\n",
    "        row[str(i)] = str(row[str(i)]).replace('e', '')\n",
    "        row[str(i)] = str(row[str(i)]).replace(',', '')\n",
    "        row[str(i)] = str(row[str(i)]).replace('b', '')\n",
    "        row[str(i)] = str(row[str(i)]).replace('d', '')\n",
    "        row[str(i)] = str(row[str(i)]).replace('p', '')\n",
    "        row[str(i)] = str(row[str(i)]).replace('r', '')\n",
    "        row[str(i)] = str(row[str(i)]).replace(': ', ':')\n",
    "        row[str(i)] = str(row[str(i)]).replace(':c', ':')\n",
    "        row[str(i)] = str(row[str(i)]).replace(':u', ':')"
   ]
  },
  {
   "cell_type": "code",
   "execution_count": 346,
   "metadata": {},
   "outputs": [],
   "source": [
    "for index, row in cost_ticket.iterrows():\n",
    "    for i in range(1990,2020):\n",
    "        row[str(i)] = str(row[str(i)]).replace(':e', '')\n",
    "        row[str(i)] = str(row[str(i)]).replace(':b', '')\n",
    "        row[str(i)] = str(row[str(i)]).replace(':d', '')\n",
    "        row[str(i)] = str(row[str(i)]).replace(':p', '')\n",
    "        row[str(i)] = str(row[str(i)]).replace(':r', '')\n",
    "        row[str(i)] = str(row[str(i)]).replace(':s', '')\n",
    "        row[str(i)] = str(row[str(i)]).replace(':c', ':')\n",
    "        row[str(i)] = str(row[str(i)]).replace(':u', ':')\n",
    "        row[str(i)] = str(row[str(i)]).replace(':u', ':')\n",
    "        row[str(i)] = str(row[str(i)]).replace(':z', ':')\n",
    "        row[str(i)] = str(row[str(i)]).replace(': u', ':')\n",
    "        row[str(i)] = str(row[str(i)]).replace(':U', ':')\n",
    "        row[str(i)] = str(row[str(i)]).replace(': ', ':')\n",
    "        row[str(i)] = str(row[str(i)]).replace('0:', '0')\n",
    "        row[str(i)] = str(row[str(i)]).replace(' :', '')\n",
    "        row[str(i)] = str(row[str(i)]).replace('e', '')\n",
    "        row[str(i)] = str(row[str(i)]).replace(',', '')\n",
    "        row[str(i)] = str(row[str(i)]).replace('b', '')\n",
    "        row[str(i)] = str(row[str(i)]).replace('d', '')\n",
    "        row[str(i)] = str(row[str(i)]).replace('p', '')\n",
    "        row[str(i)] = str(row[str(i)]).replace('r', '')\n",
    "        row[str(i)] = str(row[str(i)]).replace('s', '')\n"
   ]
  },
  {
   "cell_type": "code",
   "execution_count": 347,
   "metadata": {},
   "outputs": [],
   "source": [
    "for index, row in cost_taxi.iterrows():\n",
    "    for i in range(1990,2020):\n",
    "        row[str(i)] = str(row[str(i)]).replace('e', '')\n",
    "        row[str(i)] = str(row[str(i)]).replace(',', '')\n",
    "        row[str(i)] = str(row[str(i)]).replace('b', '')\n",
    "        row[str(i)] = str(row[str(i)]).replace('d', '')\n",
    "        row[str(i)] = str(row[str(i)]).replace('p', '')\n",
    "        row[str(i)] = str(row[str(i)]).replace('r', '')\n",
    "        row[str(i)] = str(row[str(i)]).replace(':c', ':')\n",
    "        row[str(i)] = str(row[str(i)]).replace(':u', ':')\n",
    "        row[str(i)] = str(row[str(i)]).replace(':u', ':')\n",
    "        row[str(i)] = str(row[str(i)]).replace(': u', ':')\n",
    "        row[str(i)] = str(row[str(i)]).replace(':U', ':')\n",
    "        row[str(i)] = str(row[str(i)]).replace(': ', ':')"
   ]
  },
  {
   "cell_type": "code",
   "execution_count": 301,
   "metadata": {},
   "outputs": [
    {
     "data": {
      "text/html": [
       "<div>\n",
       "<style scoped>\n",
       "    .dataframe tbody tr th:only-of-type {\n",
       "        vertical-align: middle;\n",
       "    }\n",
       "\n",
       "    .dataframe tbody tr th {\n",
       "        vertical-align: top;\n",
       "    }\n",
       "\n",
       "    .dataframe thead th {\n",
       "        text-align: right;\n",
       "    }\n",
       "</style>\n",
       "<table border=\"1\" class=\"dataframe\">\n",
       "  <thead>\n",
       "    <tr style=\"text-align: right;\">\n",
       "      <th></th>\n",
       "      <th>CITIES,INDIC_UR\\TIME</th>\n",
       "      <th>1990</th>\n",
       "      <th>1991</th>\n",
       "      <th>1992</th>\n",
       "      <th>1993</th>\n",
       "      <th>1994</th>\n",
       "      <th>1995</th>\n",
       "      <th>1996</th>\n",
       "      <th>1997</th>\n",
       "      <th>1998</th>\n",
       "      <th>...</th>\n",
       "      <th>2010</th>\n",
       "      <th>2011</th>\n",
       "      <th>2012</th>\n",
       "      <th>2013</th>\n",
       "      <th>2014</th>\n",
       "      <th>2015</th>\n",
       "      <th>2016</th>\n",
       "      <th>2017</th>\n",
       "      <th>2018</th>\n",
       "      <th>2019</th>\n",
       "    </tr>\n",
       "  </thead>\n",
       "  <tbody>\n",
       "    <tr>\n",
       "      <td>0</td>\n",
       "      <td>Belgium</td>\n",
       "      <td>:</td>\n",
       "      <td>:</td>\n",
       "      <td>:</td>\n",
       "      <td>:</td>\n",
       "      <td>:</td>\n",
       "      <td>:</td>\n",
       "      <td>:</td>\n",
       "      <td>:</td>\n",
       "      <td>:</td>\n",
       "      <td>...</td>\n",
       "      <td>:</td>\n",
       "      <td>15.90</td>\n",
       "      <td>:</td>\n",
       "      <td>:</td>\n",
       "      <td>:</td>\n",
       "      <td>:</td>\n",
       "      <td>:</td>\n",
       "      <td>:</td>\n",
       "      <td>:</td>\n",
       "      <td>:</td>\n",
       "    </tr>\n",
       "    <tr>\n",
       "      <td>1</td>\n",
       "      <td>Bruxelles / Brussel</td>\n",
       "      <td>:</td>\n",
       "      <td>:</td>\n",
       "      <td>:</td>\n",
       "      <td>:</td>\n",
       "      <td>:</td>\n",
       "      <td>:</td>\n",
       "      <td>:</td>\n",
       "      <td>:</td>\n",
       "      <td>:</td>\n",
       "      <td>...</td>\n",
       "      <td>:</td>\n",
       "      <td>40.30</td>\n",
       "      <td>:</td>\n",
       "      <td>:</td>\n",
       "      <td>:</td>\n",
       "      <td>:</td>\n",
       "      <td>:</td>\n",
       "      <td>:</td>\n",
       "      <td>:</td>\n",
       "      <td>:</td>\n",
       "    </tr>\n",
       "    <tr>\n",
       "      <td>2</td>\n",
       "      <td>Antwerpen</td>\n",
       "      <td>:</td>\n",
       "      <td>:</td>\n",
       "      <td>:</td>\n",
       "      <td>:</td>\n",
       "      <td>:</td>\n",
       "      <td>:</td>\n",
       "      <td>:</td>\n",
       "      <td>:</td>\n",
       "      <td>:</td>\n",
       "      <td>...</td>\n",
       "      <td>:</td>\n",
       "      <td>20.70</td>\n",
       "      <td>:</td>\n",
       "      <td>:</td>\n",
       "      <td>:</td>\n",
       "      <td>:</td>\n",
       "      <td>:</td>\n",
       "      <td>:</td>\n",
       "      <td>:</td>\n",
       "      <td>:</td>\n",
       "    </tr>\n",
       "    <tr>\n",
       "      <td>3</td>\n",
       "      <td>Gent</td>\n",
       "      <td>:</td>\n",
       "      <td>:</td>\n",
       "      <td>:</td>\n",
       "      <td>:</td>\n",
       "      <td>:</td>\n",
       "      <td>:</td>\n",
       "      <td>:</td>\n",
       "      <td>:</td>\n",
       "      <td>:</td>\n",
       "      <td>...</td>\n",
       "      <td>:</td>\n",
       "      <td>14.27</td>\n",
       "      <td>:</td>\n",
       "      <td>:</td>\n",
       "      <td>:</td>\n",
       "      <td>:</td>\n",
       "      <td>:</td>\n",
       "      <td>:</td>\n",
       "      <td>:</td>\n",
       "      <td>:</td>\n",
       "    </tr>\n",
       "    <tr>\n",
       "      <td>4</td>\n",
       "      <td>Charleroi</td>\n",
       "      <td>:</td>\n",
       "      <td>:</td>\n",
       "      <td>:</td>\n",
       "      <td>:</td>\n",
       "      <td>:</td>\n",
       "      <td>:</td>\n",
       "      <td>:</td>\n",
       "      <td>:</td>\n",
       "      <td>:</td>\n",
       "      <td>...</td>\n",
       "      <td>:</td>\n",
       "      <td>9.00</td>\n",
       "      <td>:</td>\n",
       "      <td>:</td>\n",
       "      <td>:</td>\n",
       "      <td>:</td>\n",
       "      <td>:</td>\n",
       "      <td>:</td>\n",
       "      <td>:</td>\n",
       "      <td>:</td>\n",
       "    </tr>\n",
       "    <tr>\n",
       "      <td>...</td>\n",
       "      <td>...</td>\n",
       "      <td>...</td>\n",
       "      <td>...</td>\n",
       "      <td>...</td>\n",
       "      <td>...</td>\n",
       "      <td>...</td>\n",
       "      <td>...</td>\n",
       "      <td>...</td>\n",
       "      <td>...</td>\n",
       "      <td>...</td>\n",
       "      <td>...</td>\n",
       "      <td>...</td>\n",
       "      <td>...</td>\n",
       "      <td>...</td>\n",
       "      <td>...</td>\n",
       "      <td>...</td>\n",
       "      <td>...</td>\n",
       "      <td>...</td>\n",
       "      <td>...</td>\n",
       "      <td>...</td>\n",
       "      <td>...</td>\n",
       "    </tr>\n",
       "    <tr>\n",
       "      <td>1070</td>\n",
       "      <td>Luzern</td>\n",
       "      <td>44.68</td>\n",
       "      <td>:</td>\n",
       "      <td>:</td>\n",
       "      <td>:</td>\n",
       "      <td>:</td>\n",
       "      <td>:</td>\n",
       "      <td>:</td>\n",
       "      <td>:</td>\n",
       "      <td>:</td>\n",
       "      <td>...</td>\n",
       "      <td>:</td>\n",
       "      <td>:</td>\n",
       "      <td>47.91</td>\n",
       "      <td>47.80</td>\n",
       "      <td>48.37</td>\n",
       "      <td>46.60</td>\n",
       "      <td>47.16</td>\n",
       "      <td>:</td>\n",
       "      <td>:</td>\n",
       "      <td>:</td>\n",
       "    </tr>\n",
       "    <tr>\n",
       "      <td>1071</td>\n",
       "      <td>Luzern (greater city)</td>\n",
       "      <td>:</td>\n",
       "      <td>:</td>\n",
       "      <td>:</td>\n",
       "      <td>:</td>\n",
       "      <td>:</td>\n",
       "      <td>:</td>\n",
       "      <td>:</td>\n",
       "      <td>:</td>\n",
       "      <td>:</td>\n",
       "      <td>...</td>\n",
       "      <td>:</td>\n",
       "      <td>:</td>\n",
       "      <td>:</td>\n",
       "      <td>39.90</td>\n",
       "      <td>40.55</td>\n",
       "      <td>:</td>\n",
       "      <td>:</td>\n",
       "      <td>:</td>\n",
       "      <td>:</td>\n",
       "      <td>:</td>\n",
       "    </tr>\n",
       "    <tr>\n",
       "      <td>1072</td>\n",
       "      <td>Lugano</td>\n",
       "      <td>24.41</td>\n",
       "      <td>:</td>\n",
       "      <td>:</td>\n",
       "      <td>:</td>\n",
       "      <td>:</td>\n",
       "      <td>:</td>\n",
       "      <td>:</td>\n",
       "      <td>:</td>\n",
       "      <td>:</td>\n",
       "      <td>...</td>\n",
       "      <td>:</td>\n",
       "      <td>:</td>\n",
       "      <td>26.59</td>\n",
       "      <td>27.20</td>\n",
       "      <td>26.81</td>\n",
       "      <td>26.05</td>\n",
       "      <td>26.88</td>\n",
       "      <td>:</td>\n",
       "      <td>:</td>\n",
       "      <td>:</td>\n",
       "    </tr>\n",
       "    <tr>\n",
       "      <td>1073</td>\n",
       "      <td>Lugano (greater city)</td>\n",
       "      <td>:</td>\n",
       "      <td>:</td>\n",
       "      <td>:</td>\n",
       "      <td>:</td>\n",
       "      <td>:</td>\n",
       "      <td>:</td>\n",
       "      <td>:</td>\n",
       "      <td>:</td>\n",
       "      <td>:</td>\n",
       "      <td>...</td>\n",
       "      <td>:</td>\n",
       "      <td>:</td>\n",
       "      <td>:</td>\n",
       "      <td>25.70</td>\n",
       "      <td>25.32</td>\n",
       "      <td>:</td>\n",
       "      <td>:</td>\n",
       "      <td>:</td>\n",
       "      <td>:</td>\n",
       "      <td>:</td>\n",
       "    </tr>\n",
       "    <tr>\n",
       "      <td>1074</td>\n",
       "      <td>Biel/Bienne</td>\n",
       "      <td>34.75</td>\n",
       "      <td>:</td>\n",
       "      <td>:</td>\n",
       "      <td>:</td>\n",
       "      <td>:</td>\n",
       "      <td>:</td>\n",
       "      <td>:</td>\n",
       "      <td>:</td>\n",
       "      <td>:</td>\n",
       "      <td>...</td>\n",
       "      <td>:</td>\n",
       "      <td>:</td>\n",
       "      <td>38.94</td>\n",
       "      <td>41.60</td>\n",
       "      <td>38.30</td>\n",
       "      <td>:</td>\n",
       "      <td>:</td>\n",
       "      <td>:</td>\n",
       "      <td>:</td>\n",
       "      <td>:</td>\n",
       "    </tr>\n",
       "  </tbody>\n",
       "</table>\n",
       "<p>1057 rows × 31 columns</p>\n",
       "</div>"
      ],
      "text/plain": [
       "       CITIES,INDIC_UR\\TIME   1990 1991 1992 1993 1994 1995 1996 1997 1998  \\\n",
       "0                   Belgium      :    :    :    :    :    :    :    :    :   \n",
       "1       Bruxelles / Brussel      :    :    :    :    :    :    :    :    :   \n",
       "2                 Antwerpen      :    :    :    :    :    :    :    :    :   \n",
       "3                      Gent      :    :    :    :    :    :    :    :    :   \n",
       "4                 Charleroi      :    :    :    :    :    :    :    :    :   \n",
       "...                     ...    ...  ...  ...  ...  ...  ...  ...  ...  ...   \n",
       "1070                 Luzern  44.68    :    :    :    :    :    :    :    :   \n",
       "1071  Luzern (greater city)      :    :    :    :    :    :    :    :    :   \n",
       "1072                 Lugano  24.41    :    :    :    :    :    :    :    :   \n",
       "1073  Lugano (greater city)      :    :    :    :    :    :    :    :    :   \n",
       "1074            Biel/Bienne  34.75    :    :    :    :    :    :    :    :   \n",
       "\n",
       "      ... 2010   2011    2012    2013    2014    2015    2016 2017 2018 2019  \n",
       "0     ...    :  15.90       :       :       :       :       :    :    :    :  \n",
       "1     ...    :  40.30       :       :       :       :       :    :    :    :  \n",
       "2     ...    :  20.70       :       :       :       :       :    :    :    :  \n",
       "3     ...    :  14.27       :       :       :       :       :    :    :    :  \n",
       "4     ...    :   9.00       :       :       :       :       :    :    :    :  \n",
       "...   ...  ...    ...     ...     ...     ...     ...     ...  ...  ...  ...  \n",
       "1070  ...    :      :  47.91   47.80   48.37   46.60   47.16     :    :    :  \n",
       "1071  ...    :      :       :  39.90   40.55        :       :    :    :    :  \n",
       "1072  ...    :      :  26.59   27.20   26.81   26.05   26.88     :    :    :  \n",
       "1073  ...    :      :       :  25.70   25.32        :       :    :    :    :  \n",
       "1074  ...    :      :  38.94   41.60   38.30        :       :    :    :    :  \n",
       "\n",
       "[1057 rows x 31 columns]"
      ]
     },
     "execution_count": 301,
     "metadata": {},
     "output_type": "execute_result"
    }
   ],
   "source": [
    "bike_network"
   ]
  },
  {
   "cell_type": "code",
   "execution_count": 348,
   "metadata": {},
   "outputs": [],
   "source": [
    "bike_network = bike_network.replace(':', np.nan)\n",
    "kill_accident = kill_accident.replace(':', np.nan)\n",
    "share_bike = share_bike.replace(':', np.nan)\n",
    "share_car_mot = share_car_mot.replace(':', np.nan)\n",
    "share_foot = share_foot.replace(':', np.nan)\n",
    "share_pub_tra =  share_pub_tra.replace(':', np.nan)\n",
    "cost_ticket = cost_ticket.replace(':', np.nan)\n",
    "cost_taxi = cost_taxi.replace(':', np.nan)"
   ]
  },
  {
   "cell_type": "code",
   "execution_count": 303,
   "metadata": {},
   "outputs": [
    {
     "data": {
      "text/plain": [
       "700"
      ]
     },
     "execution_count": 303,
     "metadata": {},
     "output_type": "execute_result"
    }
   ],
   "source": [
    "bike_network = bike_network.reset_index(drop=True)\n",
    "bike_network_prova = bike_network.iloc[:,1:30]\n",
    "bike_network_prova = bike_network_prova.dropna(how='all')\n",
    "\n",
    "lista_indici=[]\n",
    "for index,row in bike_network_prova.iterrows():\n",
    "    lista_indici.append(index)\n",
    "bike_network.iloc[lista_indici]['CITIES,INDIC_UR\\TIME']\n",
    "\n",
    "bike_network_prova = bike_network_prova.reset_index(drop=True)\n",
    "len(bike_network_prova)"
   ]
  },
  {
   "cell_type": "code",
   "execution_count": 304,
   "metadata": {},
   "outputs": [],
   "source": [
    "lista_prev2019 = []\n",
    "\n",
    "x = list(range(1990,2019))\n",
    "x = np.array(x).reshape((-1,1))\n",
    "\n",
    "for i in range(0,700):\n",
    "    y = []\n",
    "    for el in bike_network_prova.loc[i]:\n",
    "        y.append(el)\n",
    "        n = np.array(y).reshape((-1,1))\n",
    "    imp = SimpleImputer(missing_values=np.nan, strategy='mean')\n",
    "    imp = imp.fit(n)\n",
    "    y_imp = imp.transform(n)\n",
    "    model = LinearRegression().fit(x, y_imp)\n",
    "    prev = np.arange(1990,2020).reshape((-1,1))\n",
    "    y_pred = model.predict(prev)\n",
    "    lista_prev2019.append(y_pred[-1])"
   ]
  },
  {
   "cell_type": "code",
   "execution_count": 305,
   "metadata": {},
   "outputs": [
    {
     "data": {
      "text/html": [
       "<div>\n",
       "<style scoped>\n",
       "    .dataframe tbody tr th:only-of-type {\n",
       "        vertical-align: middle;\n",
       "    }\n",
       "\n",
       "    .dataframe tbody tr th {\n",
       "        vertical-align: top;\n",
       "    }\n",
       "\n",
       "    .dataframe thead th {\n",
       "        text-align: right;\n",
       "    }\n",
       "</style>\n",
       "<table border=\"1\" class=\"dataframe\">\n",
       "  <thead>\n",
       "    <tr style=\"text-align: right;\">\n",
       "      <th></th>\n",
       "      <th>0</th>\n",
       "      <th>city</th>\n",
       "    </tr>\n",
       "  </thead>\n",
       "  <tbody>\n",
       "    <tr>\n",
       "      <td>0</td>\n",
       "      <td>11.377525</td>\n",
       "      <td>Belgium</td>\n",
       "    </tr>\n",
       "    <tr>\n",
       "      <td>1</td>\n",
       "      <td>41.522291</td>\n",
       "      <td>Bruxelles / Brussel</td>\n",
       "    </tr>\n",
       "    <tr>\n",
       "      <td>2</td>\n",
       "      <td>20.597328</td>\n",
       "      <td>Antwerpen</td>\n",
       "    </tr>\n",
       "    <tr>\n",
       "      <td>3</td>\n",
       "      <td>16.127882</td>\n",
       "      <td>Gent</td>\n",
       "    </tr>\n",
       "    <tr>\n",
       "      <td>4</td>\n",
       "      <td>9.283571</td>\n",
       "      <td>Charleroi</td>\n",
       "    </tr>\n",
       "    <tr>\n",
       "      <td>...</td>\n",
       "      <td>...</td>\n",
       "      <td>...</td>\n",
       "    </tr>\n",
       "    <tr>\n",
       "      <td>695</td>\n",
       "      <td>47.149451</td>\n",
       "      <td>Pabianice</td>\n",
       "    </tr>\n",
       "    <tr>\n",
       "      <td>696</td>\n",
       "      <td>40.227401</td>\n",
       "      <td>Glogów</td>\n",
       "    </tr>\n",
       "    <tr>\n",
       "      <td>697</td>\n",
       "      <td>26.204894</td>\n",
       "      <td>Stalowa Wola</td>\n",
       "    </tr>\n",
       "    <tr>\n",
       "      <td>698</td>\n",
       "      <td>25.508596</td>\n",
       "      <td>Tomaszów Mazowiecki</td>\n",
       "    </tr>\n",
       "    <tr>\n",
       "      <td>699</td>\n",
       "      <td>38.249345</td>\n",
       "      <td>Lomza</td>\n",
       "    </tr>\n",
       "  </tbody>\n",
       "</table>\n",
       "<p>700 rows × 2 columns</p>\n",
       "</div>"
      ],
      "text/plain": [
       "             0                 city\n",
       "0    11.377525              Belgium\n",
       "1    41.522291  Bruxelles / Brussel\n",
       "2    20.597328            Antwerpen\n",
       "3    16.127882                 Gent\n",
       "4     9.283571            Charleroi\n",
       "..         ...                  ...\n",
       "695  47.149451            Pabianice\n",
       "696  40.227401               Glogów\n",
       "697  26.204894         Stalowa Wola\n",
       "698  25.508596  Tomaszów Mazowiecki\n",
       "699  38.249345                Lomza\n",
       "\n",
       "[700 rows x 2 columns]"
      ]
     },
     "execution_count": 305,
     "metadata": {},
     "output_type": "execute_result"
    }
   ],
   "source": [
    "bike_network2019 = pd.DataFrame(lista_prev2019)\n",
    "bike_network2019['city'] = bike_network['CITIES,INDIC_UR\\TIME']\n",
    "bike_network2019"
   ]
  },
  {
   "cell_type": "code",
   "execution_count": 306,
   "metadata": {},
   "outputs": [
    {
     "data": {
      "text/plain": [
       "705"
      ]
     },
     "execution_count": 306,
     "metadata": {},
     "output_type": "execute_result"
    }
   ],
   "source": [
    "kill_accident = kill_accident.reset_index(drop=True)\n",
    "kill_accident_prova = kill_accident.iloc[:,1:30]\n",
    "kill_accident_prova = kill_accident_prova.dropna(how='all')\n",
    "\n",
    "lista_indici=[]\n",
    "for index,row in kill_accident_prova.iterrows():\n",
    "    lista_indici.append(index)\n",
    "kill_accident.iloc[lista_indici]['CITIES,INDIC_UR\\TIME']\n",
    "\n",
    "kill_accident_prova = kill_accident_prova.reset_index(drop=True)\n",
    "len(kill_accident_prova)"
   ]
  },
  {
   "cell_type": "code",
   "execution_count": 307,
   "metadata": {},
   "outputs": [],
   "source": [
    "lista_prev2019 = []\n",
    "\n",
    "x = list(range(1990,2019))\n",
    "x = np.array(x).reshape((-1,1))\n",
    "\n",
    "for i in range(0,705):\n",
    "    y = []\n",
    "    for el in kill_accident_prova.loc[i]:\n",
    "        y.append(el)\n",
    "        n = np.array(y).reshape((-1,1))\n",
    "    imp = SimpleImputer(missing_values=np.nan, strategy='mean')\n",
    "    imp = imp.fit(n)\n",
    "    y_imp = imp.transform(n)\n",
    "    model = LinearRegression().fit(x, y_imp)\n",
    "    prev = np.arange(1990,2020).reshape((-1,1))\n",
    "    y_pred = model.predict(prev)\n",
    "    lista_prev2019.append(y_pred[-1])"
   ]
  },
  {
   "cell_type": "code",
   "execution_count": 308,
   "metadata": {},
   "outputs": [
    {
     "data": {
      "text/html": [
       "<div>\n",
       "<style scoped>\n",
       "    .dataframe tbody tr th:only-of-type {\n",
       "        vertical-align: middle;\n",
       "    }\n",
       "\n",
       "    .dataframe tbody tr th {\n",
       "        vertical-align: top;\n",
       "    }\n",
       "\n",
       "    .dataframe thead th {\n",
       "        text-align: right;\n",
       "    }\n",
       "</style>\n",
       "<table border=\"1\" class=\"dataframe\">\n",
       "  <thead>\n",
       "    <tr style=\"text-align: right;\">\n",
       "      <th></th>\n",
       "      <th>0</th>\n",
       "      <th>city</th>\n",
       "    </tr>\n",
       "  </thead>\n",
       "  <tbody>\n",
       "    <tr>\n",
       "      <td>0</td>\n",
       "      <td>8.705862</td>\n",
       "      <td>Belgium</td>\n",
       "    </tr>\n",
       "    <tr>\n",
       "      <td>1</td>\n",
       "      <td>2.076010</td>\n",
       "      <td>Bruxelles / Brussel</td>\n",
       "    </tr>\n",
       "    <tr>\n",
       "      <td>2</td>\n",
       "      <td>13.040000</td>\n",
       "      <td>Antwerpen</td>\n",
       "    </tr>\n",
       "    <tr>\n",
       "      <td>3</td>\n",
       "      <td>12.550000</td>\n",
       "      <td>Gent</td>\n",
       "    </tr>\n",
       "    <tr>\n",
       "      <td>4</td>\n",
       "      <td>0.600000</td>\n",
       "      <td>Charleroi</td>\n",
       "    </tr>\n",
       "    <tr>\n",
       "      <td>...</td>\n",
       "      <td>...</td>\n",
       "      <td>...</td>\n",
       "    </tr>\n",
       "    <tr>\n",
       "      <td>700</td>\n",
       "      <td>8.125680</td>\n",
       "      <td>Leszno</td>\n",
       "    </tr>\n",
       "    <tr>\n",
       "      <td>701</td>\n",
       "      <td>7.561182</td>\n",
       "      <td>Swidnica</td>\n",
       "    </tr>\n",
       "    <tr>\n",
       "      <td>702</td>\n",
       "      <td>1.816212</td>\n",
       "      <td>Zgierz</td>\n",
       "    </tr>\n",
       "    <tr>\n",
       "      <td>703</td>\n",
       "      <td>1.656145</td>\n",
       "      <td>Tczew</td>\n",
       "    </tr>\n",
       "    <tr>\n",
       "      <td>704</td>\n",
       "      <td>8.499089</td>\n",
       "      <td>Elk</td>\n",
       "    </tr>\n",
       "  </tbody>\n",
       "</table>\n",
       "<p>705 rows × 2 columns</p>\n",
       "</div>"
      ],
      "text/plain": [
       "             0                 city\n",
       "0     8.705862              Belgium\n",
       "1     2.076010  Bruxelles / Brussel\n",
       "2    13.040000            Antwerpen\n",
       "3    12.550000                 Gent\n",
       "4     0.600000            Charleroi\n",
       "..         ...                  ...\n",
       "700   8.125680               Leszno\n",
       "701   7.561182             Swidnica\n",
       "702   1.816212               Zgierz\n",
       "703   1.656145                Tczew\n",
       "704   8.499089                  Elk\n",
       "\n",
       "[705 rows x 2 columns]"
      ]
     },
     "execution_count": 308,
     "metadata": {},
     "output_type": "execute_result"
    }
   ],
   "source": [
    "kill_accident2019 = pd.DataFrame(lista_prev2019)\n",
    "kill_accident2019['city'] = kill_accident['CITIES,INDIC_UR\\TIME']\n",
    "kill_accident2019"
   ]
  },
  {
   "cell_type": "code",
   "execution_count": 309,
   "metadata": {},
   "outputs": [
    {
     "data": {
      "text/plain": [
       "719"
      ]
     },
     "execution_count": 309,
     "metadata": {},
     "output_type": "execute_result"
    }
   ],
   "source": [
    "share_bike = share_bike.reset_index(drop=True)\n",
    "share_bike_prova = share_bike.iloc[:,1:30]\n",
    "share_bike_prova = share_bike_prova.dropna(how='all')\n",
    "\n",
    "lista_indici=[]\n",
    "for index,row in share_bike_prova.iterrows():\n",
    "    lista_indici.append(index)\n",
    "share_bike.iloc[lista_indici]['CITIES,INDIC_UR\\TIME']\n",
    "\n",
    "share_bike_prova = share_bike_prova.reset_index(drop=True)\n",
    "len(share_bike_prova)"
   ]
  },
  {
   "cell_type": "code",
   "execution_count": 310,
   "metadata": {},
   "outputs": [],
   "source": [
    "lista_prev2019 = []\n",
    "\n",
    "x = list(range(1990,2019))\n",
    "x = np.array(x).reshape((-1,1))\n",
    "\n",
    "for i in range(0,719):\n",
    "    y = []\n",
    "    for el in share_bike_prova.loc[i]:\n",
    "        y.append(el)\n",
    "        n = np.array(y).reshape((-1,1))\n",
    "    imp = SimpleImputer(missing_values=np.nan, strategy='mean')\n",
    "    imp = imp.fit(n)\n",
    "    y_imp = imp.transform(n)\n",
    "    model = LinearRegression().fit(x, y_imp)\n",
    "    prev = np.arange(1990,2020).reshape((-1,1))\n",
    "    y_pred = model.predict(prev)\n",
    "    lista_prev2019.append(y_pred[-1])"
   ]
  },
  {
   "cell_type": "code",
   "execution_count": 311,
   "metadata": {},
   "outputs": [
    {
     "data": {
      "text/html": [
       "<div>\n",
       "<style scoped>\n",
       "    .dataframe tbody tr th:only-of-type {\n",
       "        vertical-align: middle;\n",
       "    }\n",
       "\n",
       "    .dataframe tbody tr th {\n",
       "        vertical-align: top;\n",
       "    }\n",
       "\n",
       "    .dataframe thead th {\n",
       "        text-align: right;\n",
       "    }\n",
       "</style>\n",
       "<table border=\"1\" class=\"dataframe\">\n",
       "  <thead>\n",
       "    <tr style=\"text-align: right;\">\n",
       "      <th></th>\n",
       "      <th>0</th>\n",
       "      <th>city</th>\n",
       "    </tr>\n",
       "  </thead>\n",
       "  <tbody>\n",
       "    <tr>\n",
       "      <td>0</td>\n",
       "      <td>3.475788</td>\n",
       "      <td>Belgium</td>\n",
       "    </tr>\n",
       "    <tr>\n",
       "      <td>1</td>\n",
       "      <td>4.892044</td>\n",
       "      <td>Bruxelles / Brussel</td>\n",
       "    </tr>\n",
       "    <tr>\n",
       "      <td>2</td>\n",
       "      <td>2.960000</td>\n",
       "      <td>Antwerpen</td>\n",
       "    </tr>\n",
       "    <tr>\n",
       "      <td>3</td>\n",
       "      <td>2.310000</td>\n",
       "      <td>Gent</td>\n",
       "    </tr>\n",
       "    <tr>\n",
       "      <td>4</td>\n",
       "      <td>2.010000</td>\n",
       "      <td>Charleroi</td>\n",
       "    </tr>\n",
       "    <tr>\n",
       "      <td>...</td>\n",
       "      <td>...</td>\n",
       "      <td>...</td>\n",
       "    </tr>\n",
       "    <tr>\n",
       "      <td>714</td>\n",
       "      <td>7.898409</td>\n",
       "      <td>Walbrzych</td>\n",
       "    </tr>\n",
       "    <tr>\n",
       "      <td>715</td>\n",
       "      <td>6.084150</td>\n",
       "      <td>Elblag</td>\n",
       "    </tr>\n",
       "    <tr>\n",
       "      <td>716</td>\n",
       "      <td>11.756788</td>\n",
       "      <td>Wloclawek</td>\n",
       "    </tr>\n",
       "    <tr>\n",
       "      <td>717</td>\n",
       "      <td>9.845333</td>\n",
       "      <td>Tarnów</td>\n",
       "    </tr>\n",
       "    <tr>\n",
       "      <td>718</td>\n",
       "      <td>7.162099</td>\n",
       "      <td>Chorzów</td>\n",
       "    </tr>\n",
       "  </tbody>\n",
       "</table>\n",
       "<p>719 rows × 2 columns</p>\n",
       "</div>"
      ],
      "text/plain": [
       "             0                 city\n",
       "0     3.475788              Belgium\n",
       "1     4.892044  Bruxelles / Brussel\n",
       "2     2.960000            Antwerpen\n",
       "3     2.310000                 Gent\n",
       "4     2.010000            Charleroi\n",
       "..         ...                  ...\n",
       "714   7.898409            Walbrzych\n",
       "715   6.084150               Elblag\n",
       "716  11.756788            Wloclawek\n",
       "717   9.845333               Tarnów\n",
       "718   7.162099              Chorzów\n",
       "\n",
       "[719 rows x 2 columns]"
      ]
     },
     "execution_count": 311,
     "metadata": {},
     "output_type": "execute_result"
    }
   ],
   "source": [
    "share_bike2019 = pd.DataFrame(lista_prev2019)\n",
    "share_bike2019['city'] = share_bike['CITIES,INDIC_UR\\TIME']\n",
    "share_bike2019"
   ]
  },
  {
   "cell_type": "code",
   "execution_count": 312,
   "metadata": {},
   "outputs": [
    {
     "data": {
      "text/plain": [
       "746"
      ]
     },
     "execution_count": 312,
     "metadata": {},
     "output_type": "execute_result"
    }
   ],
   "source": [
    "share_car_mot = share_car_mot.reset_index(drop=True)\n",
    "share_car_mot_prova = share_car_mot.iloc[:,1:30]\n",
    "share_car_mot_prova = share_car_mot_prova.dropna(how='all')\n",
    "\n",
    "lista_indici=[]\n",
    "for index,row in share_car_mot_prova.iterrows():\n",
    "    lista_indici.append(index)\n",
    "share_car_mot.iloc[lista_indici]['CITIES,INDIC_UR\\TIME']\n",
    "\n",
    "share_car_mot_prova = share_car_mot_prova.reset_index(drop=True)\n",
    "len(share_car_mot_prova)"
   ]
  },
  {
   "cell_type": "code",
   "execution_count": 313,
   "metadata": {},
   "outputs": [],
   "source": [
    "lista_prev2019 = []\n",
    "\n",
    "x = list(range(1990,2019))\n",
    "x = np.array(x).reshape((-1,1))\n",
    "\n",
    "for i in range(0,746):\n",
    "    y = []\n",
    "    for el in share_car_mot_prova.loc[i]:\n",
    "        y.append(el)\n",
    "        n = np.array(y).reshape((-1,1))\n",
    "    imp = SimpleImputer(missing_values=np.nan, strategy='mean')\n",
    "    imp = imp.fit(n)\n",
    "    y_imp = imp.transform(n)\n",
    "    model = LinearRegression().fit(x, y_imp)\n",
    "    prev = np.arange(1990,2020).reshape((-1,1))\n",
    "    y_pred = model.predict(prev)\n",
    "    lista_prev2019.append(y_pred[-1])"
   ]
  },
  {
   "cell_type": "code",
   "execution_count": 314,
   "metadata": {},
   "outputs": [
    {
     "data": {
      "text/html": [
       "<div>\n",
       "<style scoped>\n",
       "    .dataframe tbody tr th:only-of-type {\n",
       "        vertical-align: middle;\n",
       "    }\n",
       "\n",
       "    .dataframe tbody tr th {\n",
       "        vertical-align: top;\n",
       "    }\n",
       "\n",
       "    .dataframe thead th {\n",
       "        text-align: right;\n",
       "    }\n",
       "</style>\n",
       "<table border=\"1\" class=\"dataframe\">\n",
       "  <thead>\n",
       "    <tr style=\"text-align: right;\">\n",
       "      <th></th>\n",
       "      <th>0</th>\n",
       "      <th>city</th>\n",
       "    </tr>\n",
       "  </thead>\n",
       "  <tbody>\n",
       "    <tr>\n",
       "      <td>0</td>\n",
       "      <td>74.755911</td>\n",
       "      <td>Belgium</td>\n",
       "    </tr>\n",
       "    <tr>\n",
       "      <td>1</td>\n",
       "      <td>51.406318</td>\n",
       "      <td>Bruxelles / Brussel</td>\n",
       "    </tr>\n",
       "    <tr>\n",
       "      <td>2</td>\n",
       "      <td>57.513202</td>\n",
       "      <td>Antwerpen</td>\n",
       "    </tr>\n",
       "    <tr>\n",
       "      <td>3</td>\n",
       "      <td>65.889852</td>\n",
       "      <td>Gent</td>\n",
       "    </tr>\n",
       "    <tr>\n",
       "      <td>4</td>\n",
       "      <td>85.533030</td>\n",
       "      <td>Charleroi</td>\n",
       "    </tr>\n",
       "    <tr>\n",
       "      <td>...</td>\n",
       "      <td>...</td>\n",
       "      <td>...</td>\n",
       "    </tr>\n",
       "    <tr>\n",
       "      <td>741</td>\n",
       "      <td>37.509877</td>\n",
       "      <td>Barreiro</td>\n",
       "    </tr>\n",
       "    <tr>\n",
       "      <td>742</td>\n",
       "      <td>46.122229</td>\n",
       "      <td>Póvoa de Varzim</td>\n",
       "    </tr>\n",
       "    <tr>\n",
       "      <td>743</td>\n",
       "      <td>61.263804</td>\n",
       "      <td>Sintra</td>\n",
       "    </tr>\n",
       "    <tr>\n",
       "      <td>744</td>\n",
       "      <td>62.989926</td>\n",
       "      <td>Vila Nova de Gaia</td>\n",
       "    </tr>\n",
       "    <tr>\n",
       "      <td>745</td>\n",
       "      <td>46.086862</td>\n",
       "      <td>Matosinhos</td>\n",
       "    </tr>\n",
       "  </tbody>\n",
       "</table>\n",
       "<p>746 rows × 2 columns</p>\n",
       "</div>"
      ],
      "text/plain": [
       "             0                 city\n",
       "0    74.755911              Belgium\n",
       "1    51.406318  Bruxelles / Brussel\n",
       "2    57.513202            Antwerpen\n",
       "3    65.889852                 Gent\n",
       "4    85.533030            Charleroi\n",
       "..         ...                  ...\n",
       "741  37.509877             Barreiro\n",
       "742  46.122229      Póvoa de Varzim\n",
       "743  61.263804               Sintra\n",
       "744  62.989926    Vila Nova de Gaia\n",
       "745  46.086862           Matosinhos\n",
       "\n",
       "[746 rows x 2 columns]"
      ]
     },
     "execution_count": 314,
     "metadata": {},
     "output_type": "execute_result"
    }
   ],
   "source": [
    "share_car_mot2019 = pd.DataFrame(lista_prev2019)\n",
    "share_car_mot2019['city'] = share_car_mot['CITIES,INDIC_UR\\TIME']\n",
    "share_car_mot2019"
   ]
  },
  {
   "cell_type": "code",
   "execution_count": 327,
   "metadata": {},
   "outputs": [
    {
     "data": {
      "text/plain": [
       "987"
      ]
     },
     "execution_count": 327,
     "metadata": {},
     "output_type": "execute_result"
    }
   ],
   "source": [
    "share_foot = share_foot.reset_index(drop=True)\n",
    "share_foot_prova = share_foot.iloc[:,1:30]\n",
    "share_foot_prova = share_foot_prova.dropna(how='all')\n",
    "\n",
    "lista_indici=[]\n",
    "for index,row in share_foot_prova.iterrows():\n",
    "    lista_indici.append(index)\n",
    "share_foot.iloc[lista_indici]['CITIES,INDIC_UR\\TIME']\n",
    "\n",
    "share_foot_prova = share_foot_prova.reset_index(drop=True)\n",
    "len(share_foot_prova)"
   ]
  },
  {
   "cell_type": "code",
   "execution_count": 328,
   "metadata": {},
   "outputs": [],
   "source": [
    "lista_prev2019 = []\n",
    "\n",
    "x = list(range(1990,2019))\n",
    "x = np.array(x).reshape((-1,1))\n",
    "\n",
    "for i in range(0,987):\n",
    "    y = []\n",
    "    for el in share_foot_prova.loc[i]:\n",
    "        y.append(el)\n",
    "        n = np.array(y).reshape((-1,1))\n",
    "    imp = SimpleImputer(missing_values=np.nan, strategy='mean')\n",
    "    imp = imp.fit(n)\n",
    "    y_imp = imp.transform(n)\n",
    "    model = LinearRegression().fit(x, y_imp)\n",
    "    prev = np.arange(1990,2020).reshape((-1,1))\n",
    "    y_pred = model.predict(prev)\n",
    "    lista_prev2019.append(y_pred[-1])"
   ]
  },
  {
   "cell_type": "code",
   "execution_count": 329,
   "metadata": {},
   "outputs": [
    {
     "data": {
      "text/html": [
       "<div>\n",
       "<style scoped>\n",
       "    .dataframe tbody tr th:only-of-type {\n",
       "        vertical-align: middle;\n",
       "    }\n",
       "\n",
       "    .dataframe tbody tr th {\n",
       "        vertical-align: top;\n",
       "    }\n",
       "\n",
       "    .dataframe thead th {\n",
       "        text-align: right;\n",
       "    }\n",
       "</style>\n",
       "<table border=\"1\" class=\"dataframe\">\n",
       "  <thead>\n",
       "    <tr style=\"text-align: right;\">\n",
       "      <th></th>\n",
       "      <th>0</th>\n",
       "      <th>city</th>\n",
       "    </tr>\n",
       "  </thead>\n",
       "  <tbody>\n",
       "    <tr>\n",
       "      <td>0</td>\n",
       "      <td>0.701955</td>\n",
       "      <td>Belgium</td>\n",
       "    </tr>\n",
       "    <tr>\n",
       "      <td>1</td>\n",
       "      <td>0.228306</td>\n",
       "      <td>Bruxelles / Brussel</td>\n",
       "    </tr>\n",
       "    <tr>\n",
       "      <td>2</td>\n",
       "      <td>0.403951</td>\n",
       "      <td>Antwerpen</td>\n",
       "    </tr>\n",
       "    <tr>\n",
       "      <td>3</td>\n",
       "      <td>0.421452</td>\n",
       "      <td>Gent</td>\n",
       "    </tr>\n",
       "    <tr>\n",
       "      <td>4</td>\n",
       "      <td>0.494254</td>\n",
       "      <td>Charleroi</td>\n",
       "    </tr>\n",
       "    <tr>\n",
       "      <td>...</td>\n",
       "      <td>...</td>\n",
       "      <td>...</td>\n",
       "    </tr>\n",
       "    <tr>\n",
       "      <td>982</td>\n",
       "      <td>0.282272</td>\n",
       "      <td>Preston</td>\n",
       "    </tr>\n",
       "    <tr>\n",
       "      <td>983</td>\n",
       "      <td>0.217268</td>\n",
       "      <td>Preston (greater city)</td>\n",
       "    </tr>\n",
       "    <tr>\n",
       "      <td>984</td>\n",
       "      <td>0.317963</td>\n",
       "      <td>St Albans</td>\n",
       "    </tr>\n",
       "    <tr>\n",
       "      <td>985</td>\n",
       "      <td>0.198791</td>\n",
       "      <td>Warwick</td>\n",
       "    </tr>\n",
       "    <tr>\n",
       "      <td>986</td>\n",
       "      <td>0.246481</td>\n",
       "      <td>Newcastle-under-Lyme</td>\n",
       "    </tr>\n",
       "  </tbody>\n",
       "</table>\n",
       "<p>987 rows × 2 columns</p>\n",
       "</div>"
      ],
      "text/plain": [
       "            0                    city\n",
       "0    0.701955                 Belgium\n",
       "1    0.228306     Bruxelles / Brussel\n",
       "2    0.403951               Antwerpen\n",
       "3    0.421452                    Gent\n",
       "4    0.494254               Charleroi\n",
       "..        ...                     ...\n",
       "982  0.282272                 Preston\n",
       "983  0.217268  Preston (greater city)\n",
       "984  0.317963               St Albans\n",
       "985  0.198791                 Warwick\n",
       "986  0.246481    Newcastle-under-Lyme\n",
       "\n",
       "[987 rows x 2 columns]"
      ]
     },
     "execution_count": 329,
     "metadata": {},
     "output_type": "execute_result"
    }
   ],
   "source": [
    "share_foot2019 = pd.DataFrame(lista_prev2019)\n",
    "share_foot2019['city'] = share_foot['CITIES,INDIC_UR\\TIME']\n",
    "share_foot2019"
   ]
  },
  {
   "cell_type": "code",
   "execution_count": 330,
   "metadata": {},
   "outputs": [
    {
     "data": {
      "text/plain": [
       "415"
      ]
     },
     "execution_count": 330,
     "metadata": {},
     "output_type": "execute_result"
    }
   ],
   "source": [
    "share_pub_tra = share_pub_tra.reset_index(drop=True)\n",
    "share_pub_tra_prova = share_pub_tra.iloc[:,1:30]\n",
    "share_pub_tra_prova = share_pub_tra_prova.dropna(how='all')\n",
    "\n",
    "lista_indici=[]\n",
    "for index,row in share_pub_tra_prova.iterrows():\n",
    "    lista_indici.append(index)\n",
    "share_pub_tra.iloc[lista_indici]['CITIES,INDIC_UR\\TIME']\n",
    "\n",
    "share_pub_tra_prova = share_pub_tra_prova.reset_index(drop=True)\n",
    "len(share_pub_tra_prova)"
   ]
  },
  {
   "cell_type": "code",
   "execution_count": 331,
   "metadata": {},
   "outputs": [],
   "source": [
    "lista_prev2019 = []\n",
    "\n",
    "x = list(range(1990,2019))\n",
    "x = np.array(x).reshape((-1,1))\n",
    "\n",
    "for i in range(0,415):\n",
    "    y = []\n",
    "    for el in share_pub_tra_prova.loc[i]:\n",
    "        y.append(el)\n",
    "        n = np.array(y).reshape((-1,1))\n",
    "    imp = SimpleImputer(missing_values=np.nan, strategy='mean')\n",
    "    imp = imp.fit(n)\n",
    "    y_imp = imp.transform(n)\n",
    "    model = LinearRegression().fit(x, y_imp)\n",
    "    prev = np.arange(1990,2020).reshape((-1,1))\n",
    "    y_pred = model.predict(prev)\n",
    "    lista_prev2019.append(y_pred[-1])"
   ]
  },
  {
   "cell_type": "code",
   "execution_count": 332,
   "metadata": {},
   "outputs": [
    {
     "data": {
      "text/html": [
       "<div>\n",
       "<style scoped>\n",
       "    .dataframe tbody tr th:only-of-type {\n",
       "        vertical-align: middle;\n",
       "    }\n",
       "\n",
       "    .dataframe tbody tr th {\n",
       "        vertical-align: top;\n",
       "    }\n",
       "\n",
       "    .dataframe thead th {\n",
       "        text-align: right;\n",
       "    }\n",
       "</style>\n",
       "<table border=\"1\" class=\"dataframe\">\n",
       "  <thead>\n",
       "    <tr style=\"text-align: right;\">\n",
       "      <th></th>\n",
       "      <th>0</th>\n",
       "      <th>city</th>\n",
       "    </tr>\n",
       "  </thead>\n",
       "  <tbody>\n",
       "    <tr>\n",
       "      <td>0</td>\n",
       "      <td>297.690131</td>\n",
       "      <td>Belgium</td>\n",
       "    </tr>\n",
       "    <tr>\n",
       "      <td>1</td>\n",
       "      <td>675.137155</td>\n",
       "      <td>Bruxelles / Brussel</td>\n",
       "    </tr>\n",
       "    <tr>\n",
       "      <td>2</td>\n",
       "      <td>438.584852</td>\n",
       "      <td>Antwerpen</td>\n",
       "    </tr>\n",
       "    <tr>\n",
       "      <td>3</td>\n",
       "      <td>63.683276</td>\n",
       "      <td>Gent</td>\n",
       "    </tr>\n",
       "    <tr>\n",
       "      <td>4</td>\n",
       "      <td>115.879833</td>\n",
       "      <td>Charleroi</td>\n",
       "    </tr>\n",
       "    <tr>\n",
       "      <td>...</td>\n",
       "      <td>...</td>\n",
       "      <td>...</td>\n",
       "    </tr>\n",
       "    <tr>\n",
       "      <td>410</td>\n",
       "      <td>173.771675</td>\n",
       "      <td>Brive-la-Gaillarde</td>\n",
       "    </tr>\n",
       "    <tr>\n",
       "      <td>411</td>\n",
       "      <td>246.000000</td>\n",
       "      <td>Albi</td>\n",
       "    </tr>\n",
       "    <tr>\n",
       "      <td>412</td>\n",
       "      <td>30.710263</td>\n",
       "      <td>Fréjus</td>\n",
       "    </tr>\n",
       "    <tr>\n",
       "      <td>413</td>\n",
       "      <td>11.000000</td>\n",
       "      <td>Châlons-en-Champagne</td>\n",
       "    </tr>\n",
       "    <tr>\n",
       "      <td>414</td>\n",
       "      <td>14.014778</td>\n",
       "      <td>Aubagne</td>\n",
       "    </tr>\n",
       "  </tbody>\n",
       "</table>\n",
       "<p>415 rows × 2 columns</p>\n",
       "</div>"
      ],
      "text/plain": [
       "              0                  city\n",
       "0    297.690131               Belgium\n",
       "1    675.137155   Bruxelles / Brussel\n",
       "2    438.584852             Antwerpen\n",
       "3     63.683276                  Gent\n",
       "4    115.879833             Charleroi\n",
       "..          ...                   ...\n",
       "410  173.771675    Brive-la-Gaillarde\n",
       "411  246.000000                  Albi\n",
       "412   30.710263                Fréjus\n",
       "413   11.000000  Châlons-en-Champagne\n",
       "414   14.014778               Aubagne\n",
       "\n",
       "[415 rows x 2 columns]"
      ]
     },
     "execution_count": 332,
     "metadata": {},
     "output_type": "execute_result"
    }
   ],
   "source": [
    "share_pub_tra2019 = pd.DataFrame(lista_prev2019)\n",
    "share_pub_tra2019['city'] = share_pub_tra['CITIES,INDIC_UR\\TIME']\n",
    "share_pub_tra2019"
   ]
  },
  {
   "cell_type": "code",
   "execution_count": 349,
   "metadata": {},
   "outputs": [
    {
     "data": {
      "text/plain": [
       "465"
      ]
     },
     "execution_count": 349,
     "metadata": {},
     "output_type": "execute_result"
    }
   ],
   "source": [
    "cost_ticket = cost_ticket.reset_index(drop=True)\n",
    "cost_ticket_prova = cost_ticket.iloc[:,1:30]\n",
    "cost_ticket_prova = cost_ticket_prova.dropna(how='all')\n",
    "\n",
    "lista_indici=[]\n",
    "for index,row in cost_ticket_prova.iterrows():\n",
    "    lista_indici.append(index)\n",
    "cost_ticket.iloc[lista_indici]['CITIES,INDIC_UR\\TIME']\n",
    "\n",
    "cost_ticket_prova = cost_ticket_prova.reset_index(drop=True)\n",
    "len(cost_ticket_prova)"
   ]
  },
  {
   "cell_type": "code",
   "execution_count": 350,
   "metadata": {},
   "outputs": [],
   "source": [
    "lista_prev2019 = []\n",
    "\n",
    "x = list(range(1990,2019))\n",
    "x = np.array(x).reshape((-1,1))\n",
    "\n",
    "for i in range(0,465):\n",
    "    y = []\n",
    "    for el in cost_ticket_prova.loc[i]:\n",
    "        y.append(el)\n",
    "        n = np.array(y).reshape((-1,1))\n",
    "    imp = SimpleImputer(missing_values=np.nan, strategy='mean')\n",
    "    imp = imp.fit(n)\n",
    "    y_imp = imp.transform(n)\n",
    "    model = LinearRegression().fit(x, y_imp)\n",
    "    prev = np.arange(1990,2020).reshape((-1,1))\n",
    "    y_pred = model.predict(prev)\n",
    "    lista_prev2019.append(y_pred[-1])"
   ]
  },
  {
   "cell_type": "code",
   "execution_count": 351,
   "metadata": {},
   "outputs": [
    {
     "data": {
      "text/html": [
       "<div>\n",
       "<style scoped>\n",
       "    .dataframe tbody tr th:only-of-type {\n",
       "        vertical-align: middle;\n",
       "    }\n",
       "\n",
       "    .dataframe tbody tr th {\n",
       "        vertical-align: top;\n",
       "    }\n",
       "\n",
       "    .dataframe thead th {\n",
       "        text-align: right;\n",
       "    }\n",
       "</style>\n",
       "<table border=\"1\" class=\"dataframe\">\n",
       "  <thead>\n",
       "    <tr style=\"text-align: right;\">\n",
       "      <th></th>\n",
       "      <th>0</th>\n",
       "      <th>city</th>\n",
       "    </tr>\n",
       "  </thead>\n",
       "  <tbody>\n",
       "    <tr>\n",
       "      <td>0</td>\n",
       "      <td>52.162559</td>\n",
       "      <td>Belgium</td>\n",
       "    </tr>\n",
       "    <tr>\n",
       "      <td>1</td>\n",
       "      <td>35.961476</td>\n",
       "      <td>Bruxelles / Brussel</td>\n",
       "    </tr>\n",
       "    <tr>\n",
       "      <td>2</td>\n",
       "      <td>35.961476</td>\n",
       "      <td>Antwerpen</td>\n",
       "    </tr>\n",
       "    <tr>\n",
       "      <td>3</td>\n",
       "      <td>33.761608</td>\n",
       "      <td>Gent</td>\n",
       "    </tr>\n",
       "    <tr>\n",
       "      <td>4</td>\n",
       "      <td>35.089030</td>\n",
       "      <td>Charleroi</td>\n",
       "    </tr>\n",
       "    <tr>\n",
       "      <td>...</td>\n",
       "      <td>...</td>\n",
       "      <td>...</td>\n",
       "    </tr>\n",
       "    <tr>\n",
       "      <td>460</td>\n",
       "      <td>50.091133</td>\n",
       "      <td>Split</td>\n",
       "    </tr>\n",
       "    <tr>\n",
       "      <td>461</td>\n",
       "      <td>54.359511</td>\n",
       "      <td>Pula - Pola</td>\n",
       "    </tr>\n",
       "    <tr>\n",
       "      <td>462</td>\n",
       "      <td>54.330864</td>\n",
       "      <td>Zadar</td>\n",
       "    </tr>\n",
       "    <tr>\n",
       "      <td>463</td>\n",
       "      <td>49.467406</td>\n",
       "      <td>Italy</td>\n",
       "    </tr>\n",
       "    <tr>\n",
       "      <td>464</td>\n",
       "      <td>49.066682</td>\n",
       "      <td>Roma</td>\n",
       "    </tr>\n",
       "  </tbody>\n",
       "</table>\n",
       "<p>465 rows × 2 columns</p>\n",
       "</div>"
      ],
      "text/plain": [
       "             0                 city\n",
       "0    52.162559              Belgium\n",
       "1    35.961476  Bruxelles / Brussel\n",
       "2    35.961476            Antwerpen\n",
       "3    33.761608                 Gent\n",
       "4    35.089030            Charleroi\n",
       "..         ...                  ...\n",
       "460  50.091133                Split\n",
       "461  54.359511          Pula - Pola\n",
       "462  54.330864                Zadar\n",
       "463  49.467406                Italy\n",
       "464  49.066682                 Roma\n",
       "\n",
       "[465 rows x 2 columns]"
      ]
     },
     "execution_count": 351,
     "metadata": {},
     "output_type": "execute_result"
    }
   ],
   "source": [
    "cost_ticket2019 = pd.DataFrame(lista_prev2019)\n",
    "cost_ticket2019['city'] = cost_ticket['CITIES,INDIC_UR\\TIME']\n",
    "cost_ticket2019"
   ]
  },
  {
   "cell_type": "code",
   "execution_count": 352,
   "metadata": {},
   "outputs": [
    {
     "data": {
      "text/plain": [
       "582"
      ]
     },
     "execution_count": 352,
     "metadata": {},
     "output_type": "execute_result"
    }
   ],
   "source": [
    "cost_taxi = cost_taxi.reset_index(drop=True)\n",
    "cost_taxi_prova = cost_taxi.iloc[:,1:30]\n",
    "cost_taxi_prova = cost_taxi_prova.dropna(how='all')\n",
    "\n",
    "lista_indici=[]\n",
    "for index,row in cost_taxi_prova.iterrows():\n",
    "    lista_indici.append(index)\n",
    "cost_taxi.iloc[lista_indici]['CITIES,INDIC_UR\\TIME']\n",
    "\n",
    "cost_taxi_prova = cost_taxi_prova.reset_index(drop=True)\n",
    "len(cost_taxi_prova)"
   ]
  },
  {
   "cell_type": "code",
   "execution_count": 353,
   "metadata": {},
   "outputs": [],
   "source": [
    "lista_prev2019 = []\n",
    "\n",
    "x = list(range(1990,2019))\n",
    "x = np.array(x).reshape((-1,1))\n",
    "\n",
    "for i in range(0,582):\n",
    "    y = []\n",
    "    for el in cost_taxi_prova.loc[i]:\n",
    "        y.append(el)\n",
    "        n = np.array(y).reshape((-1,1))\n",
    "    imp = SimpleImputer(missing_values=np.nan, strategy='mean')\n",
    "    imp = imp.fit(n)\n",
    "    y_imp = imp.transform(n)\n",
    "    model = LinearRegression().fit(x, y_imp)\n",
    "    prev = np.arange(1990,2020).reshape((-1,1))\n",
    "    y_pred = model.predict(prev)\n",
    "    lista_prev2019.append(y_pred[-1])"
   ]
  },
  {
   "cell_type": "code",
   "execution_count": 354,
   "metadata": {},
   "outputs": [
    {
     "data": {
      "text/html": [
       "<div>\n",
       "<style scoped>\n",
       "    .dataframe tbody tr th:only-of-type {\n",
       "        vertical-align: middle;\n",
       "    }\n",
       "\n",
       "    .dataframe tbody tr th {\n",
       "        vertical-align: top;\n",
       "    }\n",
       "\n",
       "    .dataframe thead th {\n",
       "        text-align: right;\n",
       "    }\n",
       "</style>\n",
       "<table border=\"1\" class=\"dataframe\">\n",
       "  <thead>\n",
       "    <tr style=\"text-align: right;\">\n",
       "      <th></th>\n",
       "      <th>0</th>\n",
       "      <th>city</th>\n",
       "    </tr>\n",
       "  </thead>\n",
       "  <tbody>\n",
       "    <tr>\n",
       "      <td>0</td>\n",
       "      <td>11.188160</td>\n",
       "      <td>Belgium</td>\n",
       "    </tr>\n",
       "    <tr>\n",
       "      <td>1</td>\n",
       "      <td>11.965250</td>\n",
       "      <td>Bruxelles / Brussel</td>\n",
       "    </tr>\n",
       "    <tr>\n",
       "      <td>2</td>\n",
       "      <td>11.695296</td>\n",
       "      <td>Antwerpen</td>\n",
       "    </tr>\n",
       "    <tr>\n",
       "      <td>3</td>\n",
       "      <td>9.593033</td>\n",
       "      <td>Gent</td>\n",
       "    </tr>\n",
       "    <tr>\n",
       "      <td>4</td>\n",
       "      <td>9.857590</td>\n",
       "      <td>Charleroi</td>\n",
       "    </tr>\n",
       "    <tr>\n",
       "      <td>...</td>\n",
       "      <td>...</td>\n",
       "      <td>...</td>\n",
       "    </tr>\n",
       "    <tr>\n",
       "      <td>577</td>\n",
       "      <td>18.355501</td>\n",
       "      <td>Nyíregyháza</td>\n",
       "    </tr>\n",
       "    <tr>\n",
       "      <td>578</td>\n",
       "      <td>18.679435</td>\n",
       "      <td>Pécs</td>\n",
       "    </tr>\n",
       "    <tr>\n",
       "      <td>579</td>\n",
       "      <td>20.485209</td>\n",
       "      <td>Debrecen</td>\n",
       "    </tr>\n",
       "    <tr>\n",
       "      <td>580</td>\n",
       "      <td>13.800000</td>\n",
       "      <td>Szeged</td>\n",
       "    </tr>\n",
       "    <tr>\n",
       "      <td>581</td>\n",
       "      <td>18.199015</td>\n",
       "      <td>Gyõr</td>\n",
       "    </tr>\n",
       "  </tbody>\n",
       "</table>\n",
       "<p>582 rows × 2 columns</p>\n",
       "</div>"
      ],
      "text/plain": [
       "             0                 city\n",
       "0    11.188160              Belgium\n",
       "1    11.965250  Bruxelles / Brussel\n",
       "2    11.695296            Antwerpen\n",
       "3     9.593033                 Gent\n",
       "4     9.857590            Charleroi\n",
       "..         ...                  ...\n",
       "577  18.355501          Nyíregyháza\n",
       "578  18.679435                 Pécs\n",
       "579  20.485209             Debrecen\n",
       "580  13.800000               Szeged\n",
       "581  18.199015                 Gyõr\n",
       "\n",
       "[582 rows x 2 columns]"
      ]
     },
     "execution_count": 354,
     "metadata": {},
     "output_type": "execute_result"
    }
   ],
   "source": [
    "cost_taxi2019 = pd.DataFrame(lista_prev2019)\n",
    "cost_taxi2019['city'] = cost_taxi['CITIES,INDIC_UR\\TIME']\n",
    "cost_taxi2019"
   ]
  },
  {
   "cell_type": "code",
   "execution_count": 287,
   "metadata": {},
   "outputs": [
    {
     "data": {
      "text/plain": [
       "0\n",
       "ength of bicycle network (dedicated cycle paths and lanes) - km                                           1057\n",
       "eople killed in road accidents per 10000 pop.                                                             1057\n",
       "hare of journeys to work by bicycle -%                                                                    1057\n",
       "hare of journeys to work by car or motor cycle -%                                                         1057\n",
       "hare of journeys to work by foot -%                                                                       1057\n",
       "hare of journeys to work by public transport (rail, metro, bus, tram) -%                                  1057\n",
       "ost of a combined monthly ticket (all modes of public transport) for 5-10 km in the central zone - EUR    1057\n",
       "ost of a taxi ride of 5 km to the centre at day time - EUR                                                1057\n",
       "dtype: int64"
      ]
     },
     "execution_count": 287,
     "metadata": {},
     "output_type": "execute_result"
    }
   ],
   "source": [
    "misurazioni = pd.DataFrame(misurazioni)\n",
    "misurazioni.groupby(0).size()"
   ]
  },
  {
   "cell_type": "code",
   "execution_count": 449,
   "metadata": {},
   "outputs": [],
   "source": [
    "bike_network2019.columns = ['Length of bicycle network ', 'city']\n",
    "kill_accident2019.columns = ['People killed in road accidents per 10000 pop', 'city']\n",
    "share_bike2019.columns = ['Share of journeys to work by bicycle', 'city']\n",
    "share_car_mot2019.columns = ['Share of journeys to work by car or motor cycle', 'city']\n",
    "share_foot2019.columns = ['Share of journeys to work by foot', 'city']\n",
    "share_pub_tra2019.columns = ['Share of journeys to work by public transport (rail, metro, bus, tram)', 'city']\n",
    "cost_ticket2019.columns = ['Cost of a combined monthly ticket (all modes of public transport) for 5-10 km in the central zone', 'city']\n",
    "cost_taxi2019.columns = ['Cost of a taxi ride of 5 km to the centre at day time', 'city']"
   ]
  },
  {
   "cell_type": "code",
   "execution_count": 373,
   "metadata": {},
   "outputs": [],
   "source": [
    "bike_netwoks_2019 = Eurostat_db.bike_netwoks_2019\n",
    "kill_accident_2019 = Eurostat_db.kill_accident_2019\n",
    "share_bike_2019 = Eurostat_db.share_bike_2019\n",
    "share_car_moto_2019 = Eurostat_db.share_car_moto_2019\n",
    "share_foot_2019 = Eurostat_db.share_foot_2019\n",
    "share_pub_2019 = Eurostat_db.share_pub_2019\n",
    "cost_ticket_2019 = Eurostat_db.cost_ticket_2019\n",
    "cost_taxi_2019 = Eurostat_db.cost_taxi_2019"
   ]
  },
  {
   "cell_type": "code",
   "execution_count": 452,
   "metadata": {},
   "outputs": [
    {
     "data": {
      "text/plain": [
       "<pymongo.results.InsertManyResult at 0x7fd9db124888>"
      ]
     },
     "execution_count": 452,
     "metadata": {},
     "output_type": "execute_result"
    }
   ],
   "source": [
    "bike_netwoks_2019.insert_many(bike_network2019.to_dict('records'))\n",
    "kill_accident_2019.insert_many(kill_accident2019.to_dict('records'))\n",
    "share_bike_2019.insert_many(share_bike2019.to_dict('records'))\n",
    "share_car_moto_2019.insert_many(share_car_mot2019.to_dict('records'))\n",
    "share_foot_2019.insert_many(share_foot2019.to_dict('records'))\n",
    "share_pub_2019.insert_many(share_pub_tra2019.to_dict('records'))\n",
    "cost_ticket_2019.insert_many(cost_ticket2019.to_dict('records'))\n",
    "cost_taxi_2019.insert_many(cost_taxi2019.to_dict('records'))"
   ]
  },
  {
   "cell_type": "code",
   "execution_count": null,
   "metadata": {},
   "outputs": [],
   "source": []
  }
 ],
 "metadata": {
  "kernelspec": {
   "display_name": "Python 3",
   "language": "python",
   "name": "python3"
  },
  "language_info": {
   "codemirror_mode": {
    "name": "ipython",
    "version": 3
   },
   "file_extension": ".py",
   "mimetype": "text/x-python",
   "name": "python",
   "nbconvert_exporter": "python",
   "pygments_lexer": "ipython3",
   "version": "3.7.3"
  }
 },
 "nbformat": 4,
 "nbformat_minor": 4
}
