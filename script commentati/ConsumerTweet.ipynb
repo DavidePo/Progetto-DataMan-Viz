{
 "cells": [
  {
   "cell_type": "code",
   "execution_count": 24,
   "metadata": {},
   "outputs": [
    {
     "ename": "KeyboardInterrupt",
     "evalue": "",
     "output_type": "error",
     "traceback": [
      "\u001b[0;31m---------------------------------------------------------------------------\u001b[0m",
      "\u001b[0;31mKeyboardInterrupt\u001b[0m                         Traceback (most recent call last)",
      "\u001b[0;32m<ipython-input-24-da9431afe9a6>\u001b[0m in \u001b[0;36m<module>\u001b[0;34m\u001b[0m\n\u001b[1;32m     12\u001b[0m \u001b[0mconsumer\u001b[0m\u001b[0;34m.\u001b[0m\u001b[0msubscribe\u001b[0m\u001b[0;34m(\u001b[0m\u001b[0;34m[\u001b[0m\u001b[0;34m\"test_json\"\u001b[0m\u001b[0;34m]\u001b[0m\u001b[0;34m)\u001b[0m\u001b[0;34m\u001b[0m\u001b[0;34m\u001b[0m\u001b[0m\n\u001b[1;32m     13\u001b[0m \u001b[0;34m\u001b[0m\u001b[0m\n\u001b[0;32m---> 14\u001b[0;31m \u001b[0;32mfor\u001b[0m \u001b[0mmsg\u001b[0m \u001b[0;32min\u001b[0m \u001b[0mconsumer\u001b[0m\u001b[0;34m:\u001b[0m\u001b[0;34m\u001b[0m\u001b[0;34m\u001b[0m\u001b[0m\n\u001b[0m\u001b[1;32m     15\u001b[0m   \u001b[0mlista_msg\u001b[0m\u001b[0;34m.\u001b[0m\u001b[0mappend\u001b[0m\u001b[0;34m(\u001b[0m\u001b[0mmsg\u001b[0m\u001b[0;34m)\u001b[0m\u001b[0;34m\u001b[0m\u001b[0;34m\u001b[0m\u001b[0m\n",
      "\u001b[0;32m/opt/conda/lib/python3.7/site-packages/kafka/consumer/group.py\u001b[0m in \u001b[0;36m__next__\u001b[0;34m(self)\u001b[0m\n\u001b[1;32m   1179\u001b[0m             \u001b[0;32mreturn\u001b[0m \u001b[0mself\u001b[0m\u001b[0;34m.\u001b[0m\u001b[0mnext_v1\u001b[0m\u001b[0;34m(\u001b[0m\u001b[0;34m)\u001b[0m\u001b[0;34m\u001b[0m\u001b[0;34m\u001b[0m\u001b[0m\n\u001b[1;32m   1180\u001b[0m         \u001b[0;32melse\u001b[0m\u001b[0;34m:\u001b[0m\u001b[0;34m\u001b[0m\u001b[0;34m\u001b[0m\u001b[0m\n\u001b[0;32m-> 1181\u001b[0;31m             \u001b[0;32mreturn\u001b[0m \u001b[0mself\u001b[0m\u001b[0;34m.\u001b[0m\u001b[0mnext_v2\u001b[0m\u001b[0;34m(\u001b[0m\u001b[0;34m)\u001b[0m\u001b[0;34m\u001b[0m\u001b[0;34m\u001b[0m\u001b[0m\n\u001b[0m\u001b[1;32m   1182\u001b[0m \u001b[0;34m\u001b[0m\u001b[0m\n\u001b[1;32m   1183\u001b[0m     \u001b[0;32mdef\u001b[0m \u001b[0mnext_v2\u001b[0m\u001b[0;34m(\u001b[0m\u001b[0mself\u001b[0m\u001b[0;34m)\u001b[0m\u001b[0;34m:\u001b[0m\u001b[0;34m\u001b[0m\u001b[0;34m\u001b[0m\u001b[0m\n",
      "\u001b[0;32m/opt/conda/lib/python3.7/site-packages/kafka/consumer/group.py\u001b[0m in \u001b[0;36mnext_v2\u001b[0;34m(self)\u001b[0m\n\u001b[1;32m   1187\u001b[0m                 \u001b[0mself\u001b[0m\u001b[0;34m.\u001b[0m\u001b[0m_iterator\u001b[0m \u001b[0;34m=\u001b[0m \u001b[0mself\u001b[0m\u001b[0;34m.\u001b[0m\u001b[0m_message_generator_v2\u001b[0m\u001b[0;34m(\u001b[0m\u001b[0;34m)\u001b[0m\u001b[0;34m\u001b[0m\u001b[0;34m\u001b[0m\u001b[0m\n\u001b[1;32m   1188\u001b[0m             \u001b[0;32mtry\u001b[0m\u001b[0;34m:\u001b[0m\u001b[0;34m\u001b[0m\u001b[0;34m\u001b[0m\u001b[0m\n\u001b[0;32m-> 1189\u001b[0;31m                 \u001b[0;32mreturn\u001b[0m \u001b[0mnext\u001b[0m\u001b[0;34m(\u001b[0m\u001b[0mself\u001b[0m\u001b[0;34m.\u001b[0m\u001b[0m_iterator\u001b[0m\u001b[0;34m)\u001b[0m\u001b[0;34m\u001b[0m\u001b[0;34m\u001b[0m\u001b[0m\n\u001b[0m\u001b[1;32m   1190\u001b[0m             \u001b[0;32mexcept\u001b[0m \u001b[0mStopIteration\u001b[0m\u001b[0;34m:\u001b[0m\u001b[0;34m\u001b[0m\u001b[0;34m\u001b[0m\u001b[0m\n\u001b[1;32m   1191\u001b[0m                 \u001b[0mself\u001b[0m\u001b[0;34m.\u001b[0m\u001b[0m_iterator\u001b[0m \u001b[0;34m=\u001b[0m \u001b[0;32mNone\u001b[0m\u001b[0;34m\u001b[0m\u001b[0;34m\u001b[0m\u001b[0m\n",
      "\u001b[0;32m/opt/conda/lib/python3.7/site-packages/kafka/consumer/group.py\u001b[0m in \u001b[0;36m_message_generator_v2\u001b[0;34m(self)\u001b[0m\n\u001b[1;32m   1104\u001b[0m     \u001b[0;32mdef\u001b[0m \u001b[0m_message_generator_v2\u001b[0m\u001b[0;34m(\u001b[0m\u001b[0mself\u001b[0m\u001b[0;34m)\u001b[0m\u001b[0;34m:\u001b[0m\u001b[0;34m\u001b[0m\u001b[0;34m\u001b[0m\u001b[0m\n\u001b[1;32m   1105\u001b[0m         \u001b[0mtimeout_ms\u001b[0m \u001b[0;34m=\u001b[0m \u001b[0;36m1000\u001b[0m \u001b[0;34m*\u001b[0m \u001b[0;34m(\u001b[0m\u001b[0mself\u001b[0m\u001b[0;34m.\u001b[0m\u001b[0m_consumer_timeout\u001b[0m \u001b[0;34m-\u001b[0m \u001b[0mtime\u001b[0m\u001b[0;34m.\u001b[0m\u001b[0mtime\u001b[0m\u001b[0;34m(\u001b[0m\u001b[0;34m)\u001b[0m\u001b[0;34m)\u001b[0m\u001b[0;34m\u001b[0m\u001b[0;34m\u001b[0m\u001b[0m\n\u001b[0;32m-> 1106\u001b[0;31m         \u001b[0mrecord_map\u001b[0m \u001b[0;34m=\u001b[0m \u001b[0mself\u001b[0m\u001b[0;34m.\u001b[0m\u001b[0mpoll\u001b[0m\u001b[0;34m(\u001b[0m\u001b[0mtimeout_ms\u001b[0m\u001b[0;34m=\u001b[0m\u001b[0mtimeout_ms\u001b[0m\u001b[0;34m,\u001b[0m \u001b[0mupdate_offsets\u001b[0m\u001b[0;34m=\u001b[0m\u001b[0;32mFalse\u001b[0m\u001b[0;34m)\u001b[0m\u001b[0;34m\u001b[0m\u001b[0;34m\u001b[0m\u001b[0m\n\u001b[0m\u001b[1;32m   1107\u001b[0m         \u001b[0;32mfor\u001b[0m \u001b[0mtp\u001b[0m\u001b[0;34m,\u001b[0m \u001b[0mrecords\u001b[0m \u001b[0;32min\u001b[0m \u001b[0msix\u001b[0m\u001b[0;34m.\u001b[0m\u001b[0miteritems\u001b[0m\u001b[0;34m(\u001b[0m\u001b[0mrecord_map\u001b[0m\u001b[0;34m)\u001b[0m\u001b[0;34m:\u001b[0m\u001b[0;34m\u001b[0m\u001b[0;34m\u001b[0m\u001b[0m\n\u001b[1;32m   1108\u001b[0m             \u001b[0;31m# Generators are stateful, and it is possible that the tp / records\u001b[0m\u001b[0;34m\u001b[0m\u001b[0;34m\u001b[0m\u001b[0;34m\u001b[0m\u001b[0m\n",
      "\u001b[0;32m/opt/conda/lib/python3.7/site-packages/kafka/consumer/group.py\u001b[0m in \u001b[0;36mpoll\u001b[0;34m(self, timeout_ms, max_records, update_offsets)\u001b[0m\n\u001b[1;32m    643\u001b[0m         \u001b[0mremaining\u001b[0m \u001b[0;34m=\u001b[0m \u001b[0mtimeout_ms\u001b[0m\u001b[0;34m\u001b[0m\u001b[0;34m\u001b[0m\u001b[0m\n\u001b[1;32m    644\u001b[0m         \u001b[0;32mwhile\u001b[0m \u001b[0;32mTrue\u001b[0m\u001b[0;34m:\u001b[0m\u001b[0;34m\u001b[0m\u001b[0;34m\u001b[0m\u001b[0m\n\u001b[0;32m--> 645\u001b[0;31m             \u001b[0mrecords\u001b[0m \u001b[0;34m=\u001b[0m \u001b[0mself\u001b[0m\u001b[0;34m.\u001b[0m\u001b[0m_poll_once\u001b[0m\u001b[0;34m(\u001b[0m\u001b[0mremaining\u001b[0m\u001b[0;34m,\u001b[0m \u001b[0mmax_records\u001b[0m\u001b[0;34m,\u001b[0m \u001b[0mupdate_offsets\u001b[0m\u001b[0;34m=\u001b[0m\u001b[0mupdate_offsets\u001b[0m\u001b[0;34m)\u001b[0m\u001b[0;34m\u001b[0m\u001b[0;34m\u001b[0m\u001b[0m\n\u001b[0m\u001b[1;32m    646\u001b[0m             \u001b[0;32mif\u001b[0m \u001b[0mrecords\u001b[0m\u001b[0;34m:\u001b[0m\u001b[0;34m\u001b[0m\u001b[0;34m\u001b[0m\u001b[0m\n\u001b[1;32m    647\u001b[0m                 \u001b[0;32mreturn\u001b[0m \u001b[0mrecords\u001b[0m\u001b[0;34m\u001b[0m\u001b[0;34m\u001b[0m\u001b[0m\n",
      "\u001b[0;32m/opt/conda/lib/python3.7/site-packages/kafka/consumer/group.py\u001b[0m in \u001b[0;36m_poll_once\u001b[0;34m(self, timeout_ms, max_records, update_offsets)\u001b[0m\n\u001b[1;32m    690\u001b[0m \u001b[0;34m\u001b[0m\u001b[0m\n\u001b[1;32m    691\u001b[0m         \u001b[0mtimeout_ms\u001b[0m \u001b[0;34m=\u001b[0m \u001b[0mmin\u001b[0m\u001b[0;34m(\u001b[0m\u001b[0mtimeout_ms\u001b[0m\u001b[0;34m,\u001b[0m \u001b[0mself\u001b[0m\u001b[0;34m.\u001b[0m\u001b[0m_coordinator\u001b[0m\u001b[0;34m.\u001b[0m\u001b[0mtime_to_next_poll\u001b[0m\u001b[0;34m(\u001b[0m\u001b[0;34m)\u001b[0m \u001b[0;34m*\u001b[0m \u001b[0;36m1000\u001b[0m\u001b[0;34m)\u001b[0m\u001b[0;34m\u001b[0m\u001b[0;34m\u001b[0m\u001b[0m\n\u001b[0;32m--> 692\u001b[0;31m         \u001b[0mself\u001b[0m\u001b[0;34m.\u001b[0m\u001b[0m_client\u001b[0m\u001b[0;34m.\u001b[0m\u001b[0mpoll\u001b[0m\u001b[0;34m(\u001b[0m\u001b[0mtimeout_ms\u001b[0m\u001b[0;34m=\u001b[0m\u001b[0mtimeout_ms\u001b[0m\u001b[0;34m)\u001b[0m\u001b[0;34m\u001b[0m\u001b[0;34m\u001b[0m\u001b[0m\n\u001b[0m\u001b[1;32m    693\u001b[0m         \u001b[0;31m# after the long poll, we should check whether the group needs to rebalance\u001b[0m\u001b[0;34m\u001b[0m\u001b[0;34m\u001b[0m\u001b[0;34m\u001b[0m\u001b[0m\n\u001b[1;32m    694\u001b[0m         \u001b[0;31m# prior to returning data so that the group can stabilize faster\u001b[0m\u001b[0;34m\u001b[0m\u001b[0;34m\u001b[0m\u001b[0;34m\u001b[0m\u001b[0m\n",
      "\u001b[0;32m/opt/conda/lib/python3.7/site-packages/kafka/client_async.py\u001b[0m in \u001b[0;36mpoll\u001b[0;34m(self, timeout_ms, future)\u001b[0m\n\u001b[1;32m    596\u001b[0m                     \u001b[0mtimeout\u001b[0m \u001b[0;34m=\u001b[0m \u001b[0mmax\u001b[0m\u001b[0;34m(\u001b[0m\u001b[0;36m0\u001b[0m\u001b[0;34m,\u001b[0m \u001b[0mtimeout\u001b[0m\u001b[0;34m)\u001b[0m  \u001b[0;31m# avoid negative timeouts\u001b[0m\u001b[0;34m\u001b[0m\u001b[0;34m\u001b[0m\u001b[0m\n\u001b[1;32m    597\u001b[0m \u001b[0;34m\u001b[0m\u001b[0m\n\u001b[0;32m--> 598\u001b[0;31m                 \u001b[0mself\u001b[0m\u001b[0;34m.\u001b[0m\u001b[0m_poll\u001b[0m\u001b[0;34m(\u001b[0m\u001b[0mtimeout\u001b[0m \u001b[0;34m/\u001b[0m \u001b[0;36m1000\u001b[0m\u001b[0;34m)\u001b[0m\u001b[0;34m\u001b[0m\u001b[0;34m\u001b[0m\u001b[0m\n\u001b[0m\u001b[1;32m    599\u001b[0m \u001b[0;34m\u001b[0m\u001b[0m\n\u001b[1;32m    600\u001b[0m             \u001b[0;31m# called without the lock to avoid deadlock potential\u001b[0m\u001b[0;34m\u001b[0m\u001b[0;34m\u001b[0m\u001b[0;34m\u001b[0m\u001b[0m\n",
      "\u001b[0;32m/opt/conda/lib/python3.7/site-packages/kafka/client_async.py\u001b[0m in \u001b[0;36m_poll\u001b[0;34m(self, timeout)\u001b[0m\n\u001b[1;32m    628\u001b[0m \u001b[0;34m\u001b[0m\u001b[0m\n\u001b[1;32m    629\u001b[0m         \u001b[0mstart_select\u001b[0m \u001b[0;34m=\u001b[0m \u001b[0mtime\u001b[0m\u001b[0;34m.\u001b[0m\u001b[0mtime\u001b[0m\u001b[0;34m(\u001b[0m\u001b[0;34m)\u001b[0m\u001b[0;34m\u001b[0m\u001b[0;34m\u001b[0m\u001b[0m\n\u001b[0;32m--> 630\u001b[0;31m         \u001b[0mready\u001b[0m \u001b[0;34m=\u001b[0m \u001b[0mself\u001b[0m\u001b[0;34m.\u001b[0m\u001b[0m_selector\u001b[0m\u001b[0;34m.\u001b[0m\u001b[0mselect\u001b[0m\u001b[0;34m(\u001b[0m\u001b[0mtimeout\u001b[0m\u001b[0;34m)\u001b[0m\u001b[0;34m\u001b[0m\u001b[0;34m\u001b[0m\u001b[0m\n\u001b[0m\u001b[1;32m    631\u001b[0m         \u001b[0mend_select\u001b[0m \u001b[0;34m=\u001b[0m \u001b[0mtime\u001b[0m\u001b[0;34m.\u001b[0m\u001b[0mtime\u001b[0m\u001b[0;34m(\u001b[0m\u001b[0;34m)\u001b[0m\u001b[0;34m\u001b[0m\u001b[0;34m\u001b[0m\u001b[0m\n\u001b[1;32m    632\u001b[0m         \u001b[0;32mif\u001b[0m \u001b[0mself\u001b[0m\u001b[0;34m.\u001b[0m\u001b[0m_sensors\u001b[0m\u001b[0;34m:\u001b[0m\u001b[0;34m\u001b[0m\u001b[0;34m\u001b[0m\u001b[0m\n",
      "\u001b[0;32m/opt/conda/lib/python3.7/selectors.py\u001b[0m in \u001b[0;36mselect\u001b[0;34m(self, timeout)\u001b[0m\n\u001b[1;32m    466\u001b[0m             \u001b[0mready\u001b[0m \u001b[0;34m=\u001b[0m \u001b[0;34m[\u001b[0m\u001b[0;34m]\u001b[0m\u001b[0;34m\u001b[0m\u001b[0;34m\u001b[0m\u001b[0m\n\u001b[1;32m    467\u001b[0m             \u001b[0;32mtry\u001b[0m\u001b[0;34m:\u001b[0m\u001b[0;34m\u001b[0m\u001b[0;34m\u001b[0m\u001b[0m\n\u001b[0;32m--> 468\u001b[0;31m                 \u001b[0mfd_event_list\u001b[0m \u001b[0;34m=\u001b[0m \u001b[0mself\u001b[0m\u001b[0;34m.\u001b[0m\u001b[0m_selector\u001b[0m\u001b[0;34m.\u001b[0m\u001b[0mpoll\u001b[0m\u001b[0;34m(\u001b[0m\u001b[0mtimeout\u001b[0m\u001b[0;34m,\u001b[0m \u001b[0mmax_ev\u001b[0m\u001b[0;34m)\u001b[0m\u001b[0;34m\u001b[0m\u001b[0;34m\u001b[0m\u001b[0m\n\u001b[0m\u001b[1;32m    469\u001b[0m             \u001b[0;32mexcept\u001b[0m \u001b[0mInterruptedError\u001b[0m\u001b[0;34m:\u001b[0m\u001b[0;34m\u001b[0m\u001b[0;34m\u001b[0m\u001b[0m\n\u001b[1;32m    470\u001b[0m                 \u001b[0;32mreturn\u001b[0m \u001b[0mready\u001b[0m\u001b[0;34m\u001b[0m\u001b[0;34m\u001b[0m\u001b[0m\n",
      "\u001b[0;31mKeyboardInterrupt\u001b[0m: "
     ]
    }
   ],
   "source": [
    "#consumer\n",
    "lista_msg = []\n",
    "\n",
    "from kafka import KafkaConsumer\n",
    "import json\n",
    "from pprint import pprint\n",
    "\n",
    "consumer = KafkaConsumer(\n",
    "  bootstrap_servers=[\"kafka:9092\"],\n",
    "  auto_offset_reset=\"latest\",\n",
    "  value_deserializer=lambda v: json.loads(v.decode(\"utf-8\")))\n",
    "\n",
    "consumer.subscribe([\"test_json\"])\n",
    "\n",
    "for msg in consumer:\n",
    "  lista_msg.append(msg)\n"
   ]
  },
  {
   "cell_type": "code",
   "execution_count": 5,
   "metadata": {},
   "outputs": [],
   "source": [
    "#importare le librerie per caricare i file dal consumer a mongo\n",
    "from pymongo import MongoClient"
   ]
  },
  {
   "cell_type": "code",
   "execution_count": 6,
   "metadata": {},
   "outputs": [],
   "source": [
    "client = MongoClient('mongo', 27017, username = 'admin', password = 'DataMan2019!')"
   ]
  },
  {
   "cell_type": "code",
   "execution_count": 7,
   "metadata": {},
   "outputs": [],
   "source": [
    "twitter_indicator = client.twitter_indicator\n",
    "indicator = twitter_indicator.indicator"
   ]
  },
  {
   "cell_type": "code",
   "execution_count": 8,
   "metadata": {},
   "outputs": [
    {
     "data": {
      "text/plain": [
       "Collection(Database(MongoClient(host=['mongo:27017'], document_class=dict, tz_aware=False, connect=True), 'twitter_indicator'), 'indicator')"
      ]
     },
     "execution_count": 8,
     "metadata": {},
     "output_type": "execute_result"
    }
   ],
   "source": [
    "indicator"
   ]
  },
  {
   "cell_type": "code",
   "execution_count": 9,
   "metadata": {},
   "outputs": [],
   "source": [
    "import pandas as pd"
   ]
  },
  {
   "cell_type": "code",
   "execution_count": 26,
   "metadata": {},
   "outputs": [],
   "source": [
    "data = pd.DataFrame(lista_msg)"
   ]
  },
  {
   "cell_type": "code",
   "execution_count": 13,
   "metadata": {},
   "outputs": [],
   "source": [
    "lista_citta = {\"Amsterdam\" : \"52.22 , 4.53\", \"Athens\" : \"37.58 , 23.42\" , \"Barcelona\" :\"41.22 , 2.10\" , \"Berlin\" : \"52.30  , 13.25\" ,\n",
    "       \"Bratislava\" : \"48.09 , 17.07\",  \"Brussels\"  : \"50.50 , 4.20\" , \"Budapest\" : \"47.3 , 19.05\" , \"Copenhagen\" : \"55.4 , 12.35\"  ,\n",
    "       \"Dublin\"  : \"53.20 , 6.15\"  , \"Edinburgh\" : \"55.57 , -3.11\"   ,  \"Geneva\"   : \"46.12 , 6.09\"  ,  \"Hamburg\" : \"53.34 , 10.0\" , \"Helsinki\" : \"60.10 , 24.58\" ,             \n",
    "       \"Krakow\" : \"50.3 , 19.56\" ,  \"Lisbon\" : \"38.43 , 9.08\" ,  \"Ljubljana\" : \"46.03 , 14.31\" ,  \"London\" : \"51.3 , 0.10\" , \"Luxembourg\" : \"49.45 , 6.05\",\n",
    "       \"Lyon\" : \"45.46 , 4.50\" , \"Madrid\" : \"40.24, 3.41\"   ,    \"Milan\" : \"45.28, 9.10\"  ,  \"Munich\" : \"48.08 , 11.34 \" ,   \n",
    "        \"Oporto\"  : \"41.09 , 8.38\"  , \"Oslo\" : \"59.55 , 10.45\" ,  \"Paris\" : \"48.52 , 2.20\" ,\n",
    "       \"Prague\"  : \"50.05 , 14.26\" ,     \"Rome\" : \"41.54 , 12.29\",\"Stockholm\" : \" 59.20 , 18.03\",\"Vienna\" : \"48.13 , 16.20\",\"Warsaw\" : \"52.13 , 21.00\",\"Zurich\" : \"47.22 , 8.32\"}"
   ]
  },
  {
   "cell_type": "code",
   "execution_count": 28,
   "metadata": {},
   "outputs": [],
   "source": [
    "#trasformazione di tutte le città in maiuscolo per futura integration\n",
    "lista_maiusc = []\n",
    "for el in lista_citta.keys():\n",
    "    lista_maiusc.append(el.upper())"
   ]
  },
  {
   "cell_type": "code",
   "execution_count": 29,
   "metadata": {},
   "outputs": [
    {
     "data": {
      "text/plain": [
       "['AMSTERDAM',\n",
       " 'ATHENS',\n",
       " 'BARCELONA',\n",
       " 'BERLIN',\n",
       " 'BRATISLAVA',\n",
       " 'BRUSSELS',\n",
       " 'BUDAPEST',\n",
       " 'COPENHAGEN',\n",
       " 'DUBLIN',\n",
       " 'EDINBURGH',\n",
       " 'GENEVA',\n",
       " 'HAMBURG',\n",
       " 'HELSINKI',\n",
       " 'KRAKOW',\n",
       " 'LISBON',\n",
       " 'LJUBLJANA',\n",
       " 'LONDON',\n",
       " 'LUXEMBOURG',\n",
       " 'LYON',\n",
       " 'MADRID',\n",
       " 'MILAN',\n",
       " 'MUNICH',\n",
       " 'OPORTO',\n",
       " 'OSLO',\n",
       " 'PARIS',\n",
       " 'PRAGUE',\n",
       " 'ROME',\n",
       " 'STOCKHOLM',\n",
       " 'VIENNA',\n",
       " 'WARSAW',\n",
       " 'ZURICH']"
      ]
     },
     "execution_count": 29,
     "metadata": {},
     "output_type": "execute_result"
    }
   ],
   "source": [
    "lista_maiusc"
   ]
  },
  {
   "cell_type": "code",
   "execution_count": 30,
   "metadata": {},
   "outputs": [],
   "source": [
    "diz = {}\n",
    "\n",
    "for el in lista_maiusc:\n",
    "    lista_find = data['value'].str.upper().str.find(el)\n",
    "    count = 0\n",
    "    for elemento in lista_find:\n",
    "        if elemento >= 0:\n",
    "            count += 1\n",
    "    diz[el] = count\n",
    "    "
   ]
  },
  {
   "cell_type": "code",
   "execution_count": 32,
   "metadata": {},
   "outputs": [
    {
     "data": {
      "text/plain": [
       "{'AMSTERDAM': 302,\n",
       " 'ATHENS': 1,\n",
       " 'BARCELONA': 11857,\n",
       " 'BERLIN': 2134,\n",
       " 'BRATISLAVA': 381,\n",
       " 'BRUSSELS': 20,\n",
       " 'BUDAPEST': 2675,\n",
       " 'COPENHAGEN': 16,\n",
       " 'DUBLIN': 13,\n",
       " 'EDINBURGH': 11,\n",
       " 'GENEVA': 795,\n",
       " 'HAMBURG': 1942,\n",
       " 'HELSINKI': 34,\n",
       " 'KRAKOW': 9,\n",
       " 'LISBON': 4,\n",
       " 'LJUBLJANA': 276,\n",
       " 'LONDON': 178,\n",
       " 'LUXEMBOURG': 500,\n",
       " 'LYON': 33,\n",
       " 'MADRID': 416,\n",
       " 'MILAN': 3618,\n",
       " 'MUNICH': 1811,\n",
       " 'OPORTO': 20,\n",
       " 'OSLO': 14,\n",
       " 'PARIS': 265,\n",
       " 'PRAGUE': 2559,\n",
       " 'ROME': 124,\n",
       " 'STOCKHOLM': 160,\n",
       " 'VIENNA': 2565,\n",
       " 'WARSAW': 802,\n",
       " 'ZURICH': 80}"
      ]
     },
     "execution_count": 32,
     "metadata": {},
     "output_type": "execute_result"
    }
   ],
   "source": [
    "#prova dizionario con il rispettivo numero di tweet per ogni città \n",
    "diz"
   ]
  },
  {
   "cell_type": "code",
   "execution_count": 33,
   "metadata": {},
   "outputs": [
    {
     "data": {
      "text/plain": [
       "<pymongo.results.InsertOneResult at 0x7f2eee2be848>"
      ]
     },
     "execution_count": 33,
     "metadata": {},
     "output_type": "execute_result"
    }
   ],
   "source": [
    "indicator.insert_one(diz)"
   ]
  },
  {
   "cell_type": "code",
   "execution_count": 34,
   "metadata": {},
   "outputs": [
    {
     "data": {
      "text/plain": [
       "Collection(Database(MongoClient(host=['mongo:27017'], document_class=dict, tz_aware=False, connect=True), 'twitter_indicator'), 'indicator')"
      ]
     },
     "execution_count": 34,
     "metadata": {},
     "output_type": "execute_result"
    }
   ],
   "source": [
    "indicator"
   ]
  },
  {
   "cell_type": "code",
   "execution_count": 35,
   "metadata": {},
   "outputs": [
    {
     "data": {
      "text/plain": [
       "Database(MongoClient(host=['mongo:27017'], document_class=dict, tz_aware=False, connect=True), 'twitter_indicator')"
      ]
     },
     "execution_count": 35,
     "metadata": {},
     "output_type": "execute_result"
    }
   ],
   "source": [
    "twitter_indicator"
   ]
  },
  {
   "cell_type": "code",
   "execution_count": 51,
   "metadata": {},
   "outputs": [],
   "source": [
    "mongo_db = list(client.twitter_indicator.indicator.find())"
   ]
  },
  {
   "cell_type": "code",
   "execution_count": 52,
   "metadata": {},
   "outputs": [
    {
     "data": {
      "text/html": [
       "<div>\n",
       "<style scoped>\n",
       "    .dataframe tbody tr th:only-of-type {\n",
       "        vertical-align: middle;\n",
       "    }\n",
       "\n",
       "    .dataframe tbody tr th {\n",
       "        vertical-align: top;\n",
       "    }\n",
       "\n",
       "    .dataframe thead th {\n",
       "        text-align: right;\n",
       "    }\n",
       "</style>\n",
       "<table border=\"1\" class=\"dataframe\">\n",
       "  <thead>\n",
       "    <tr style=\"text-align: right;\">\n",
       "      <th></th>\n",
       "      <th>_id</th>\n",
       "      <th>AMSTERDAM</th>\n",
       "      <th>ATHENS</th>\n",
       "      <th>BARCELONA</th>\n",
       "      <th>BERLIN</th>\n",
       "      <th>BRATISLAVA</th>\n",
       "      <th>BRUSSELS</th>\n",
       "      <th>BUDAPEST</th>\n",
       "      <th>COPENHAGEN</th>\n",
       "      <th>DUBLIN</th>\n",
       "      <th>...</th>\n",
       "      <th>MUNICH</th>\n",
       "      <th>OPORTO</th>\n",
       "      <th>OSLO</th>\n",
       "      <th>PARIS</th>\n",
       "      <th>PRAGUE</th>\n",
       "      <th>ROME</th>\n",
       "      <th>STOCKHOLM</th>\n",
       "      <th>VIENNA</th>\n",
       "      <th>WARSAW</th>\n",
       "      <th>ZURICH</th>\n",
       "    </tr>\n",
       "  </thead>\n",
       "  <tbody>\n",
       "    <tr>\n",
       "      <td>0</td>\n",
       "      <td>5e15a938fd6630dcf43ee451</td>\n",
       "      <td>411</td>\n",
       "      <td>19</td>\n",
       "      <td>3162</td>\n",
       "      <td>2401</td>\n",
       "      <td>427</td>\n",
       "      <td>19</td>\n",
       "      <td>2806</td>\n",
       "      <td>18</td>\n",
       "      <td>11</td>\n",
       "      <td>...</td>\n",
       "      <td>2111</td>\n",
       "      <td>7</td>\n",
       "      <td>13</td>\n",
       "      <td>243</td>\n",
       "      <td>2716</td>\n",
       "      <td>90</td>\n",
       "      <td>2622</td>\n",
       "      <td>2531</td>\n",
       "      <td>936</td>\n",
       "      <td>92</td>\n",
       "    </tr>\n",
       "    <tr>\n",
       "      <td>1</td>\n",
       "      <td>5e15adfafd6630dcf43ee452</td>\n",
       "      <td>421</td>\n",
       "      <td>6</td>\n",
       "      <td>12024</td>\n",
       "      <td>2190</td>\n",
       "      <td>415</td>\n",
       "      <td>17</td>\n",
       "      <td>830</td>\n",
       "      <td>16</td>\n",
       "      <td>8</td>\n",
       "      <td>...</td>\n",
       "      <td>1698</td>\n",
       "      <td>9</td>\n",
       "      <td>37</td>\n",
       "      <td>203</td>\n",
       "      <td>2877</td>\n",
       "      <td>105</td>\n",
       "      <td>2978</td>\n",
       "      <td>2455</td>\n",
       "      <td>823</td>\n",
       "      <td>74</td>\n",
       "    </tr>\n",
       "    <tr>\n",
       "      <td>2</td>\n",
       "      <td>5e15b807fd6630dcf43ee453</td>\n",
       "      <td>434</td>\n",
       "      <td>8</td>\n",
       "      <td>12723</td>\n",
       "      <td>2536</td>\n",
       "      <td>253</td>\n",
       "      <td>30</td>\n",
       "      <td>2482</td>\n",
       "      <td>12</td>\n",
       "      <td>26</td>\n",
       "      <td>...</td>\n",
       "      <td>1945</td>\n",
       "      <td>12</td>\n",
       "      <td>21</td>\n",
       "      <td>268</td>\n",
       "      <td>2531</td>\n",
       "      <td>128</td>\n",
       "      <td>1160</td>\n",
       "      <td>2174</td>\n",
       "      <td>836</td>\n",
       "      <td>86</td>\n",
       "    </tr>\n",
       "    <tr>\n",
       "      <td>3</td>\n",
       "      <td>5e15bf2bfd6630dcf43ee454</td>\n",
       "      <td>533</td>\n",
       "      <td>14</td>\n",
       "      <td>17628</td>\n",
       "      <td>2201</td>\n",
       "      <td>485</td>\n",
       "      <td>32</td>\n",
       "      <td>2545</td>\n",
       "      <td>14</td>\n",
       "      <td>19</td>\n",
       "      <td>...</td>\n",
       "      <td>2095</td>\n",
       "      <td>21</td>\n",
       "      <td>34</td>\n",
       "      <td>286</td>\n",
       "      <td>3520</td>\n",
       "      <td>164</td>\n",
       "      <td>2816</td>\n",
       "      <td>2511</td>\n",
       "      <td>1010</td>\n",
       "      <td>72</td>\n",
       "    </tr>\n",
       "    <tr>\n",
       "      <td>4</td>\n",
       "      <td>5e15dfe86bdcdf6bd54447f2</td>\n",
       "      <td>432</td>\n",
       "      <td>10</td>\n",
       "      <td>12784</td>\n",
       "      <td>2206</td>\n",
       "      <td>451</td>\n",
       "      <td>24</td>\n",
       "      <td>2600</td>\n",
       "      <td>24</td>\n",
       "      <td>12</td>\n",
       "      <td>...</td>\n",
       "      <td>1669</td>\n",
       "      <td>12</td>\n",
       "      <td>29</td>\n",
       "      <td>324</td>\n",
       "      <td>2631</td>\n",
       "      <td>153</td>\n",
       "      <td>2481</td>\n",
       "      <td>2188</td>\n",
       "      <td>888</td>\n",
       "      <td>104</td>\n",
       "    </tr>\n",
       "    <tr>\n",
       "      <td>5</td>\n",
       "      <td>5e15ea646bdcdf6bd54447f3</td>\n",
       "      <td>302</td>\n",
       "      <td>1</td>\n",
       "      <td>11857</td>\n",
       "      <td>2134</td>\n",
       "      <td>381</td>\n",
       "      <td>20</td>\n",
       "      <td>2675</td>\n",
       "      <td>16</td>\n",
       "      <td>13</td>\n",
       "      <td>...</td>\n",
       "      <td>1811</td>\n",
       "      <td>20</td>\n",
       "      <td>14</td>\n",
       "      <td>265</td>\n",
       "      <td>2559</td>\n",
       "      <td>124</td>\n",
       "      <td>160</td>\n",
       "      <td>2565</td>\n",
       "      <td>802</td>\n",
       "      <td>80</td>\n",
       "    </tr>\n",
       "  </tbody>\n",
       "</table>\n",
       "<p>6 rows × 32 columns</p>\n",
       "</div>"
      ],
      "text/plain": [
       "                        _id  AMSTERDAM  ATHENS  BARCELONA  BERLIN  BRATISLAVA  \\\n",
       "0  5e15a938fd6630dcf43ee451        411      19       3162    2401         427   \n",
       "1  5e15adfafd6630dcf43ee452        421       6      12024    2190         415   \n",
       "2  5e15b807fd6630dcf43ee453        434       8      12723    2536         253   \n",
       "3  5e15bf2bfd6630dcf43ee454        533      14      17628    2201         485   \n",
       "4  5e15dfe86bdcdf6bd54447f2        432      10      12784    2206         451   \n",
       "5  5e15ea646bdcdf6bd54447f3        302       1      11857    2134         381   \n",
       "\n",
       "   BRUSSELS  BUDAPEST  COPENHAGEN  DUBLIN  ...  MUNICH  OPORTO  OSLO  PARIS  \\\n",
       "0        19      2806          18      11  ...    2111       7    13    243   \n",
       "1        17       830          16       8  ...    1698       9    37    203   \n",
       "2        30      2482          12      26  ...    1945      12    21    268   \n",
       "3        32      2545          14      19  ...    2095      21    34    286   \n",
       "4        24      2600          24      12  ...    1669      12    29    324   \n",
       "5        20      2675          16      13  ...    1811      20    14    265   \n",
       "\n",
       "   PRAGUE  ROME  STOCKHOLM  VIENNA  WARSAW  ZURICH  \n",
       "0    2716    90       2622    2531     936      92  \n",
       "1    2877   105       2978    2455     823      74  \n",
       "2    2531   128       1160    2174     836      86  \n",
       "3    3520   164       2816    2511    1010      72  \n",
       "4    2631   153       2481    2188     888     104  \n",
       "5    2559   124        160    2565     802      80  \n",
       "\n",
       "[6 rows x 32 columns]"
      ]
     },
     "execution_count": 52,
     "metadata": {},
     "output_type": "execute_result"
    }
   ],
   "source": [
    "#prova \n",
    "data_indicator1 = pd.DataFrame(mongo_db)\n",
    "data_indicator1"
   ]
  },
  {
   "cell_type": "code",
   "execution_count": null,
   "metadata": {},
   "outputs": [],
   "source": []
  }
 ],
 "metadata": {
  "kernelspec": {
   "display_name": "Python 3",
   "language": "python",
   "name": "python3"
  },
  "language_info": {
   "codemirror_mode": {
    "name": "ipython",
    "version": 3
   },
   "file_extension": ".py",
   "mimetype": "text/x-python",
   "name": "python",
   "nbconvert_exporter": "python",
   "pygments_lexer": "ipython3",
   "version": "3.7.3"
  }
 },
 "nbformat": 4,
 "nbformat_minor": 4
}
